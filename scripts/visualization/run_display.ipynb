{
 "cells": [
  {
   "cell_type": "code",
   "execution_count": null,
   "metadata": {
    "collapsed": false
   },
   "outputs": [],
   "source": [
    "using AutoRisk\n",
    "using AutoViz\n",
    "using Reel"
   ]
  },
  {
   "cell_type": "code",
   "execution_count": null,
   "metadata": {
    "collapsed": false,
    "scrolled": true
   },
   "outputs": [],
   "source": [
    "include(\"../collection/heuristic_dataset_config.jl\")\n",
    "include(\"../collection/collect_heuristic_dataset.jl\")\n",
    "parse_flags!(FLAGS, [])\n",
    "FLAGS[\"num_monte_carlo_runs\"] = 1\n",
    "FLAGS[\"prime_time\"] = 10.\n",
    "FLAGS[\"sampling_time\"] = 50.\n",
    "FLAGS[\"response_time\"] = .2\n",
    "FLAGS[\"roadway_type\"] = \"straight\"\n",
    "FLAGS[\"roadway_length\"] = 10000.\n",
    "# FLAGS[\"roadway_length\"] =  1000.\n",
    "# FLAGS[\"roadway_type\"] =  \"straight\"\n",
    "FLAGS[\"min_num_vehicles\"] =  50\n",
    "FLAGS[\"max_num_vehicles\"] =  50\n",
    "FLAGS[\"min_base_speed\"] =  10.\n",
    "FLAGS[\"max_base_speed\"] =  10.\n",
    "FLAGS[\"min_init_dist\"] =  15.\n",
    "# FLAGS[\"max_init_dist\"] =  5.\n",
    "FLAGS[\"num_lanes\"] = 3\n",
    "FLAGS[\"behavior_type\"] = \"heuristic\"\n",
    "# FLAGS[\"driver_network_filepath\"] = \"../../data/policies/gail_gru.h5\"\n",
    "FLAGS[\"extractor_type\"] =  \"multi\"\n",
    "col = build_dataset_collector(\"\", FLAGS);\n",
    "Reel.set_output_type(\"gif\");"
   ]
  },
  {
   "cell_type": "code",
   "execution_count": null,
   "metadata": {
    "collapsed": false
   },
   "outputs": [],
   "source": [
    "function Base.show(col::DatasetCollector, seed::Int; target_idx::Int = 1)\n",
    "    if target_idx <= size(col.eval.targets, 1)\n",
    "        # this is labeled collisions, but can be any target, selected by target_idx\n",
    "        in_collision_veh_idxs = find(col.eval.targets[target_idx,:] .== 1.)\n",
    "    else\n",
    "        in_collision_veh_idxs = []\n",
    "    end\n",
    "    \n",
    "    # if no collisions then still display the scene, but change car colors\n",
    "    collisions_exist = in_collision_veh_idxs == [] ? false : true\n",
    "    collision_color = collisions_exist ? colorant\"red\" : colorant\"orange\"\n",
    "    if !collisions_exist\n",
    "        in_collision_veh_idxs = sort(collect(values(col.eval.veh_id_to_idx)))\n",
    "    end\n",
    "    \n",
    "    # prepare film for save case\n",
    "    frames = Frames(MIME(\"image/png\"), fps=10)\n",
    "    \n",
    "    # display the record\n",
    "    @manipulate for follow_veh_idx in in_collision_veh_idxs,\n",
    "                zoom in collect(1.:2:20.),\n",
    "                i in 1:(col.eval.rec.nscenes),\n",
    "                save in [false, true],\n",
    "                clear in [false, true]\n",
    "        \n",
    "        i -= 1\n",
    "        # set camera\n",
    "        follow_veh_id = -1\n",
    "        if follow_veh_idx == 0\n",
    "            cam = FitToContentCamera()\n",
    "        else\n",
    "            for (veh_id, veh_idx) in col.eval.veh_id_to_idx\n",
    "                if veh_idx == follow_veh_idx\n",
    "                    follow_veh_id = veh_id\n",
    "                    break\n",
    "                end\n",
    "            end\n",
    "            cam = CarFollowCamera(follow_veh_id, zoom)\n",
    "        end\n",
    "\n",
    "        # render scene\n",
    "        idx = -(col.eval.rec.nscenes - i) + 1\n",
    "        carcolors = Dict{Int,Colorant}()\n",
    "        for veh in get_scene(col.eval.rec, idx)\n",
    "            carcolors[veh.def.id] = veh.def.id == follow_veh_id ? collision_color : colorant\"green\"\n",
    "        end\n",
    "        mlane = 0\n",
    "        if typeof(col.models[follow_veh_id]) == DelayedDriver\n",
    "            mlane = col.models[follow_veh_id].driver.mlane\n",
    "        elseif typeof(col.models[follow_veh_id]) == Tim2DDriver\n",
    "            mlane = col.models[follow_veh_id].mlane\n",
    "        else\n",
    "            mlane = nothing\n",
    "        end\n",
    "        \n",
    "        stats = follow_veh_id == -1 ? [] : [CarFollowingStatsOverlay(follow_veh_id, 2), \n",
    "            NeighborsOverlay(follow_veh_id, textparams = TextParams(x = 600, y_start=300))]\n",
    "        \n",
    "        if mlane != nothing && typeof(mlane) == MOBIL\n",
    "            push!(stats, MOBILOverlay(follow_veh_id, mlane))\n",
    "        end\n",
    "        \n",
    "        frame = render(get_scene(col.eval.rec, idx), col.roadway, stats,\n",
    "            cam = cam, car_colors = carcolors)\n",
    "        push!(frames, frame)\n",
    "        \n",
    "        # to use the save, move around the slider above and collect some frames to write\n",
    "        # then switch to save, then switch off save\n",
    "        # this will write the frames, and then clear them\n",
    "        if save\n",
    "            filename = \"seed_$(seed)_veh_id_$(follow_veh_idx)_target_$(target_idx)\"\n",
    "            write(\"../../data/visualizations/outputs/$(filename).gif\", frames)\n",
    "            frames = Frames(MIME(\"image/png\"), fps=2)\n",
    "        end\n",
    "        \n",
    "        # to clear frames without saving them set this to true then false\n",
    "        if clear\n",
    "            frames = Frames(MIME(\"image/png\"), fps=10)\n",
    "        end\n",
    "        \n",
    "        frame\n",
    "    end\n",
    "\n",
    "end"
   ]
  },
  {
   "cell_type": "code",
   "execution_count": null,
   "metadata": {
    "collapsed": false
   },
   "outputs": [],
   "source": [
    "seed = 1\n",
    "rand!(col, seed)\n",
    "evaluate!(col.eval, col.scene, col.models, col.roadway, seed);"
   ]
  },
  {
   "cell_type": "code",
   "execution_count": null,
   "metadata": {
    "collapsed": false,
    "scrolled": false
   },
   "outputs": [],
   "source": [
    "show(col, seed, target_idx = 3)"
   ]
  },
  {
   "cell_type": "code",
   "execution_count": null,
   "metadata": {
    "collapsed": false
   },
   "outputs": [],
   "source": [
    "println(col.eval.features[69:71,111])"
   ]
  },
  {
   "cell_type": "code",
   "execution_count": null,
   "metadata": {
    "collapsed": false
   },
   "outputs": [],
   "source": [
    "println(mean(col.eval.features[:,1:length(col.scene)], 2))\n",
    "println(mean(col.eval.targets[:,1:length(col.scene)], 2))\n",
    "println(col.eval.features[:,114])\n",
    "println(col.eval.num_veh)"
   ]
  },
  {
   "cell_type": "code",
   "execution_count": null,
   "metadata": {
    "collapsed": false
   },
   "outputs": [],
   "source": [
    "function AutoRisk.normalize_input!(network::Network, input::Array{Float64})\n",
    "    println(\"normalize\")\n",
    "    input .-= network.means\n",
    "    input ./= network.stds\n",
    "end\n",
    "\n",
    "function AutoRisk.fprop_network(network::Network, input::Array{Float64})\n",
    "    # fprop through network\n",
    "    num_layers = length(network.weights)\n",
    "    state = input\n",
    "    for lidx in 1:num_layers\n",
    "        state = state * network.weights[lidx] .+ network.biases[lidx]\n",
    "        if lidx != num_layers\n",
    "            # mutates state\n",
    "            network.nonlinearity(state)\n",
    "        end\n",
    "    end\n",
    "    return sigmoid(state)\n",
    "end"
   ]
  },
  {
   "cell_type": "code",
   "execution_count": null,
   "metadata": {
    "collapsed": false
   },
   "outputs": [],
   "source": [
    "seed = 1\n",
    "reset!(col, seed)\n",
    "extract_features!(col.eval.rec, col.roadway, col.models, col.eval.prediction_features)\n",
    "input_dim = size(col.eval.prediction_features, 1)\n",
    "for vidx in 1:size(features, 2)\n",
    "    println(size(features[:, vidx]))\n",
    "    pred = predict(col.eval.prediction_model,  reshape(features[:, vidx], (1, input_dim)))\n",
    "    println(size(pred))\n",
    "    println(pred)\n",
    "end\n",
    "# println(size(col.eval.prediction_model.means))\n",
    "# println(size(features))\n",
    "# normalize_input!(col.eval.prediction_model, features)\n",
    "# println(\"predict\")\n",
    "prediction = predict(col.eval.prediction_model, features)"
   ]
  },
  {
   "cell_type": "code",
   "execution_count": null,
   "metadata": {
    "collapsed": false
   },
   "outputs": [],
   "source": [
    "println(size(prediction))"
   ]
  },
  {
   "cell_type": "code",
   "execution_count": null,
   "metadata": {
    "collapsed": false
   },
   "outputs": [],
   "source": [
    "carcolors = Dict{Int,Colorant}()\n",
    "@manipulate for veh_idx in 1:col.scene.n_vehicles,\n",
    "                zoom in collect(1.:2:20.),\n",
    "                tidx in collect(1:5)\n",
    "    for (idx, veh) in enumerate(col.scene)\n",
    "        carcolors[veh.def.id] = convert(RGB, HSV(prediction[tidx, idx] * 180, 0.85, 0.85))\n",
    "    end\n",
    "    cam = CarFollowCamera(colscene[veh_idx].def.id, zoom)\n",
    "    render(col.scene, col.roadway, cam = cam, car_colors = carcolors)\n",
    "end"
   ]
  },
  {
   "cell_type": "code",
   "execution_count": null,
   "metadata": {
    "collapsed": true
   },
   "outputs": [],
   "source": [
    "# function build_collector(flags)\n",
    "#     num_scenarios = flags[\"num_scenarios\"]\n",
    "#     output_filepath = flags[\"output_filepath\"]\n",
    "#     feature_dim = flags[\"feature_dim\"]\n",
    "#     target_dim = flags[\"target_dim\"]\n",
    "#     chunk_dim = flags[\"chunk_dim\"]\n",
    "#     roadway_length = flags[\"roadway_length\"]\n",
    "#     roadway_radius = flags[\"roadway_radius\"]\n",
    "#     min_num_veh = flags[\"min_num_vehicles\"]\n",
    "#     max_num_veh = flags[\"max_num_vehicles\"]\n",
    "#     min_base_speed = flags[\"min_base_speed\"]\n",
    "#     max_base_speed = flags[\"max_base_speed\"]\n",
    "#     min_vehicle_length = flags[\"min_vehicle_length\"]\n",
    "#     max_vehicle_length = flags[\"max_vehicle_length\"]\n",
    "#     min_vehicle_width = flags[\"min_vehicle_width\"]\n",
    "#     max_vehicle_width = flags[\"max_vehicle_width\"]\n",
    "#     min_init_dist = flags[\"min_init_dist\"]\n",
    "#     num_lanes = flags[\"num_lanes\"]\n",
    "#     prime_time = flags[\"prime_time\"]\n",
    "#     sampling_time = flags[\"sampling_time\"]\n",
    "#     sampling_period = flags[\"sampling_period\"]\n",
    "#     num_runs = flags[\"num_monte_carlo_runs\"]\n",
    "#     veh_idx_can_change = false\n",
    "#     max_num_samples = flags[\"num_scenarios\"] * max_num_veh \n",
    "#     delayed_response = flags[\"delayed_response\"]\n",
    "#     evaluator_type = flags[\"evaluator_type\"]\n",
    "#     network_filepath = flags[\"network_filepath\"]\n",
    "#     sim_time = sampling_time + prime_time\n",
    "\n",
    "#     # roadway gen\n",
    "#     roadway = gen_stadium_roadway(num_lanes, length = roadway_length, radius = roadway_radius, ncurvepts_per_turn = 30)\n",
    "#     roadway_gen = StaticRoadwayGenerator(roadway)\n",
    "\n",
    "#     # scene gen\n",
    "#     scene = Scene(max_num_veh)\n",
    "#     scene_gen = HeuristicSceneGenerator(\n",
    "#         min_num_veh, \n",
    "#         max_num_veh, \n",
    "#         min_base_speed,\n",
    "#         max_base_speed,\n",
    "#         min_vehicle_length,\n",
    "#         max_vehicle_length,\n",
    "#         min_vehicle_width, \n",
    "#         max_vehicle_width,\n",
    "#         min_init_dist)\n",
    "    \n",
    "#     # behavior gen\n",
    "#     params = [get_aggressive_behavior_params(deterministic = false, delayed_response = delayed_response),\n",
    "#         get_passive_behavior_params(deterministic = false, delayed_response = delayed_response), \n",
    "#         get_normal_behavior_params(deterministic = false, delayed_response = delayed_response)]\n",
    "#     weights = WeightVec([.2,.3,.5])\n",
    "#     context = IntegratedContinuous(sampling_period, 1)\n",
    "#     behavior_gen = PredefinedBehaviorGenerator(context, params, weights)\n",
    "#     models = Dict{Int, DriverModel}()\n",
    "    \n",
    "#     # evaluator\n",
    "#     max_num_scenes = Int((prime_time + sampling_time) / sampling_period)\n",
    "#     rec = SceneRecord(max_num_scenes, sampling_period, max_num_veh)\n",
    "#     features = Array{Float64}(feature_dim, max_num_veh)\n",
    "#     targets = Array{Float64}(target_dim, max_num_veh)\n",
    "#     agg_targets = Array{Float64}(target_dim, max_num_veh)\n",
    "#     if evaluator_type == \"bootstrap\"\n",
    "#         prediction_model = Network(network_filepath)\n",
    "#         eval = BootstrappingMonteCarloEvaluator(num_runs, context, prime_time,\n",
    "#             sampling_time, veh_idx_can_change, rec, features, targets, \n",
    "#             agg_targets, prediction_model)\n",
    "#     else\n",
    "#         eval = MonteCarloEvaluator(num_runs, context, prime_time, sampling_time,\n",
    "#         veh_idx_can_change, rec, features, targets, agg_targets)\n",
    "#     end\n",
    "\n",
    "#     # dataset\n",
    "#     dataset = Dataset(output_filepath, feature_dim, target_dim,\n",
    "#         max_num_samples, chunk_dim = chunk_dim, init_file = false)\n",
    "\n",
    "#     # collector\n",
    "#     seeds = collect(1:num_scenarios)\n",
    "#     col = DatasetCollector(seeds, roadway_gen, scene_gen, behavior_gen, eval,\n",
    "#         dataset, scene, models, roadway)\n",
    "    \n",
    "#     return col\n",
    "# end"
   ]
  },
  {
   "cell_type": "code",
   "execution_count": null,
   "metadata": {
    "collapsed": true
   },
   "outputs": [],
   "source": [
    "# function precompute(col::DatasetCollector, seed::Int64)\n",
    "#     # reset\n",
    "#     reset!(col, seed)\n",
    "#     empty!(col.eval.rec)\n",
    "    \n",
    "#     # prime\n",
    "#     simulate!(col.scene, col.models, col.roadway, col.eval.rec, col.eval.prime_time)\n",
    "    \n",
    "#     # extract features \n",
    "#     extract_features!(col.eval.rec, col.roadway, col.models, col.eval.features)\n",
    "    \n",
    "#     # sample\n",
    "#     empty!(col.eval.veh_id_to_idx)\n",
    "#     get_veh_id_to_idx(col.scene, col.eval.veh_id_to_idx)\n",
    "#     prime_idx = col.eval.rec.nscenes\n",
    "#     simulate!(col.scene, col.models, col.roadway, col.eval.rec, \n",
    "#         col.eval.sampling_time)\n",
    "    \n",
    "#     # extract targets\n",
    "#     past_idx = col.eval.rec.nscenes - prime_idx\n",
    "#     extract_targets!(col.eval.rec, col.roadway, col.eval.targets, \n",
    "#         col.eval.veh_id_to_idx, col.eval.veh_idx_can_change, past_idx)\n",
    "    \n",
    "# end"
   ]
  }
 ],
 "metadata": {
  "anaconda-cloud": {},
  "kernelspec": {
   "display_name": "Julia 0.5.0",
   "language": "julia",
   "name": "julia-0.5"
  },
  "language_info": {
   "file_extension": ".jl",
   "mimetype": "application/julia",
   "name": "julia",
   "version": "0.5.0"
  },
  "widgets": {
   "state": {
    "2bd3383a-1dc6-4860-8d5b-eda648cc3ed7": {
     "views": [
      {
       "cell_index": 4
      }
     ]
    },
    "4b02a8a3-c174-43a4-9601-5f2f25d1d472": {
     "views": [
      {
       "cell_index": 4
      }
     ]
    },
    "5819b729-4625-4049-99a2-f8835e717d57": {
     "views": [
      {
       "cell_index": 4
      }
     ]
    },
    "636c251f-2a67-47a9-afe5-e71a007659a3": {
     "views": [
      {
       "cell_index": 4
      }
     ]
    },
    "78d52434-1155-48f8-b8cd-c918efb617cb": {
     "views": [
      {
       "cell_index": 4
      }
     ]
    }
   },
   "version": "1.2.0"
  }
 },
 "nbformat": 4,
 "nbformat_minor": 1
}
