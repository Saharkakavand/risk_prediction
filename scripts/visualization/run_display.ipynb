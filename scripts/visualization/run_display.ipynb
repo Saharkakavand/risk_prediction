{
 "cells": [
  {
   "cell_type": "code",
   "execution_count": null,
   "metadata": {
    "collapsed": false
   },
   "outputs": [],
   "source": [
    "using AutoRisk\n",
    "using AutoViz\n",
    "using CommandLineFlags\n",
    "using Interact\n",
    "using Reel\n",
    "Reel.set_output_type(\"gif\");\n",
    "include(\"../collection/collect_heuristic_dataset.jl\");"
   ]
  },
  {
   "cell_type": "code",
   "execution_count": null,
   "metadata": {
    "collapsed": false
   },
   "outputs": [],
   "source": [
    "# extract config from dataset\n",
    "dataset_filepath = \"../../data/datasets/test.h5\"\n",
    "flags = h5readattr(dataset_filepath, \"risk\")\n",
    "fixup_types!(flags)\n",
    "flags[\"num_monte_carlo_runs\"] = 1\n",
    "col = build_dataset_collector(\"\", flags);"
   ]
  },
  {
   "cell_type": "code",
   "execution_count": null,
   "metadata": {
    "collapsed": false,
    "scrolled": true
   },
   "outputs": [],
   "source": [
    "# set config manually - I'd say if you're not sure, prob don't change or run this\n",
    "# include(\"../collection/heuristic_dataset_config.jl\")\n",
    "# parse_flags!(FLAGS, [])\n",
    "# FLAGS[\"num_monte_carlo_runs\"] = 1\n",
    "# FLAGS[\"prime_time\"] = 10.\n",
    "# FLAGS[\"sampling_time\"] = 5.\n",
    "# # FLAGS[\"roadway_type\"] = \"straight\"\n",
    "# # FLAGS[\"roadway_length\"] = 10000.\n",
    "# # FLAGS[\"roadway_length\"] =  1000.\n",
    "# # FLAGS[\"roadway_type\"] =  \"straight\"\n",
    "# # FLAGS[\"min_num_vehicles\"] =  200\n",
    "# # FLAGS[\"max_num_vehicles\"] =  200\n",
    "# # FLAGS[\"min_base_speed\"] =  10.\n",
    "# # FLAGS[\"max_base_speed\"] =  10.\n",
    "# # FLAGS[\"min_init_dist\"] =  15.\n",
    "# # FLAGS[\"overall_response_time\"] = 0.2\n",
    "# # FLAGS[\"lon_response_time\"] = 0.2\n",
    "# FLAGS[\"err_p_a_to_i\"] =  0.05\n",
    "# FLAGS[\"err_p_i_to_a\"] =  0.3\n",
    "# # FLAGS[\"min_init_dist\"] =  15.\n",
    "# # FLAGS[\"max_init_dist\"] =  5.\n",
    "# # FLAGS[\"num_lanes\"] = 3\n",
    "# # FLAGS[\"behavior_type\"] = \"heuristic\"\n",
    "# # FLAGS[\"driver_network_filepath\"] = \"../../data/policies/gail_gru.h5\"\n",
    "# FLAGS[\"extractor_type\"] =  \"multi\"\n",
    "# FLAGS[\"extract_road_lidar\"] =  false\n",
    "# col = build_dataset_collector(\"\", FLAGS);\n"
   ]
  },
  {
   "cell_type": "code",
   "execution_count": null,
   "metadata": {
    "collapsed": false
   },
   "outputs": [],
   "source": [
    "function Base.show(col::DatasetCollector, seed::Int; target_idx::Int = 1)\n",
    "    if target_idx <= size(col.eval.targets, 1)\n",
    "        # this is labeled collisions, but can be any target, selected by target_idx\n",
    "        in_collision_veh_idxs = find(col.eval.targets[target_idx,:] .== 1.)\n",
    "    else\n",
    "        in_collision_veh_idxs = []\n",
    "    end\n",
    "    \n",
    "    # if no collisions then still display the scene, but change car colors\n",
    "    collisions_exist = in_collision_veh_idxs == [] ? false : true\n",
    "    collision_color = collisions_exist ? colorant\"red\" : colorant\"orange\"\n",
    "    if !collisions_exist\n",
    "        in_collision_veh_idxs = sort(collect(values(col.eval.veh_id_to_idx)))\n",
    "    end\n",
    "    \n",
    "    # prepare film for save case\n",
    "    frames = Frames(MIME(\"image/png\"), fps=10)\n",
    "    \n",
    "    # display the record\n",
    "    @manipulate for follow_veh_idx in in_collision_veh_idxs,\n",
    "                zoom in collect(1.:2:20.),\n",
    "                i in 1:(col.eval.rec.nframes),\n",
    "                save in [false, true],\n",
    "                clear in [false, true]\n",
    "        \n",
    "        i -= 1\n",
    "        # set camera\n",
    "        follow_veh_id = -1\n",
    "        if follow_veh_idx == 0\n",
    "            cam = FitToContentCamera()\n",
    "        else\n",
    "            for (veh_id, veh_idx) in col.eval.veh_id_to_idx\n",
    "                if veh_idx == follow_veh_idx\n",
    "                    follow_veh_id = veh_id\n",
    "                    break\n",
    "                end\n",
    "            end\n",
    "            cam = AutoViz.CarFollowCamera{Int}(follow_veh_id, zoom)\n",
    "        end\n",
    "\n",
    "        # render scene\n",
    "        idx = -(col.eval.rec.nframes - i) + 1\n",
    "        carcolors = Dict{Int,Colorant}()\n",
    "        for veh in col.eval.rec[idx]\n",
    "            carcolors[veh.id] = veh.id == follow_veh_id ? collision_color : colorant\"green\"\n",
    "        end\n",
    "        mlane = 0\n",
    "        if typeof(col.models[follow_veh_id]) == DelayedDriver\n",
    "            mlane = col.models[follow_veh_id].driver.mlane\n",
    "        elseif typeof(col.models[follow_veh_id]) == Tim2DDriver\n",
    "            mlane = col.models[follow_veh_id].mlane\n",
    "        else\n",
    "            mlane = nothing\n",
    "        end\n",
    "        \n",
    "        stats = follow_veh_id == -1 ? [] : [\n",
    "            CarFollowingStatsOverlay(follow_veh_id, 2), \n",
    "            NeighborsOverlay(follow_veh_id, textparams = TextParams(x = 600, y_start=300))]\n",
    "        \n",
    "        if mlane != nothing && typeof(mlane) == MOBIL\n",
    "            push!(stats, MOBILOverlay(follow_veh_id, mlane))\n",
    "        end\n",
    "        \n",
    "        frame = render(col.eval.rec[idx], col.roadway, stats,\n",
    "            cam = cam, car_colors = carcolors)\n",
    "        push!(frames, frame)\n",
    "        \n",
    "        # to use the save, move around the slider above and collect some frames to write\n",
    "        # then switch to save, then switch off save\n",
    "        # this will write the frames, and then clear them\n",
    "        if save\n",
    "            filename = \"seed_$(seed)_veh_id_$(follow_veh_idx)_target_$(target_idx)\"\n",
    "            write(\"../../data/visualizations/outputs/$(filename).gif\", frames)\n",
    "            frames = Frames(MIME(\"image/png\"), fps=2)\n",
    "        end\n",
    "        \n",
    "        # to clear frames without saving them set this to true then false\n",
    "        if clear\n",
    "            frames = Frames(MIME(\"image/png\"), fps=10)\n",
    "        end\n",
    "        \n",
    "        frame\n",
    "    end\n",
    "\n",
    "end"
   ]
  },
  {
   "cell_type": "code",
   "execution_count": null,
   "metadata": {
    "collapsed": false
   },
   "outputs": [],
   "source": [
    "seed = 1\n",
    "rand!(col, seed)\n",
    "evaluate!(col.eval, col.scene, col.models, col.roadway, seed);"
   ]
  },
  {
   "cell_type": "code",
   "execution_count": null,
   "metadata": {
    "collapsed": false,
    "scrolled": false
   },
   "outputs": [],
   "source": [
    "show(col, seed, target_idx = 6)"
   ]
  },
  {
   "cell_type": "code",
   "execution_count": null,
   "metadata": {
    "collapsed": true
   },
   "outputs": [],
   "source": []
  },
  {
   "cell_type": "code",
   "execution_count": null,
   "metadata": {
    "collapsed": false
   },
   "outputs": [],
   "source": [
    "println(mean(col.eval.agg_targets, 2))"
   ]
  },
  {
   "cell_type": "code",
   "execution_count": null,
   "metadata": {
    "collapsed": false
   },
   "outputs": [],
   "source": [
    "println(mean(col.eval.features, 3))"
   ]
  }
 ],
 "metadata": {
  "anaconda-cloud": {},
  "kernelspec": {
   "display_name": "Julia 0.5.0",
   "language": "julia",
   "name": "julia-0.5"
  },
  "language_info": {
   "file_extension": ".jl",
   "mimetype": "application/julia",
   "name": "julia",
   "version": "0.5.0"
  },
  "widgets": {
   "state": {
    "104efa4c-26d0-45bb-a6aa-a3bdb4182a96": {
     "views": [
      {
       "cell_index": 5
      }
     ]
    },
    "18cf515b-0af8-43fc-b808-77e0ece846d9": {
     "views": [
      {
       "cell_index": 5
      }
     ]
    },
    "1bcae773-688d-445d-9f0c-50a1cd09343a": {
     "views": [
      {
       "cell_index": 5
      }
     ]
    },
    "2fa2a6cd-abcb-4b8e-b8a7-3f05da187cc2": {
     "views": [
      {
       "cell_index": 5
      }
     ]
    },
    "30b83ba7-ab3c-43c7-a7d0-83e2bd3aa577": {
     "views": [
      {
       "cell_index": 5
      }
     ]
    },
    "4a38e627-2d3c-4684-90b2-f09c373ca16a": {
     "views": [
      {
       "cell_index": 5
      }
     ]
    },
    "5b422bac-efaa-4189-8a1f-a358841cdfb7": {
     "views": [
      {
       "cell_index": 5
      }
     ]
    },
    "7c802b8c-b0bf-4962-b71c-367647db4865": {
     "views": [
      {
       "cell_index": 5
      }
     ]
    },
    "9efe02ed-20d0-4965-b3c0-038d37badc73": {
     "views": [
      {
       "cell_index": 5
      }
     ]
    },
    "a1cd2f94-9a96-4aba-951c-5885d5c2b05e": {
     "views": [
      {
       "cell_index": 5
      }
     ]
    },
    "c2a25c9f-d6eb-4c94-8c61-3790fb4ce373": {
     "views": [
      {
       "cell_index": 5
      }
     ]
    },
    "ff44c84d-1de2-4a89-816b-af084fb5d1ab": {
     "views": [
      {
       "cell_index": 5
      }
     ]
    }
   },
   "version": "1.2.0"
  }
 },
 "nbformat": 4,
 "nbformat_minor": 1
}
