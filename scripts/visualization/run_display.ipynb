{
 "cells": [
  {
   "cell_type": "code",
   "execution_count": 1,
   "metadata": {
    "collapsed": false
   },
   "outputs": [
    {
     "data": {
      "text/html": [
       "<div id=\"interact-js-shim\">\n",
       "    <script charset=\"utf-8\">\n",
       "(function (IPython, $, _, MathJax) {\n",
       "    $.event.special.destroyed = {\n",
       "\tremove: function(o) {\n",
       "\t    if (o.handler) {\n",
       "\t\to.handler.apply(this, arguments)\n",
       "\t    }\n",
       "\t}\n",
       "    }\n",
       "\n",
       "    var OutputArea = IPython.version >= \"4.0.0\" ? require(\"notebook/js/outputarea\").OutputArea : IPython.OutputArea;\n",
       "\n",
       "    var redrawValue = function (container, type, val) {\n",
       "\tvar selector = $(\"<div/>\");\n",
       "\tvar oa = new OutputArea(_.extend(selector, {\n",
       "\t    selector: selector,\n",
       "\t    prompt_area: true,\n",
       "\t    events: IPython.events,\n",
       "\t    keyboard_manager: IPython.keyboard_manager\n",
       "\t})); // Hack to work with IPython 2.1.0\n",
       "\n",
       "\tswitch (type) {\n",
       "\tcase \"image/png\":\n",
       "            var _src = 'data:' + type + ';base64,' + val;\n",
       "\t    $(container).find(\"img\").attr('src', _src);\n",
       "\t    break;\n",
       "\tcase \"text/latex\":\n",
       "\t\tif (MathJax){\n",
       "\t\t\tvar math = MathJax.Hub.getAllJax(container)[0];\n",
       "\t\t\tMathJax.Hub.Queue([\"Text\", math, val.replace(/^\\${1,2}|\\${1,2}$/g, '')]);\n",
       "\t\t\tbreak;\n",
       "\t\t}\n",
       "\tdefault:\n",
       "\t    var toinsert = OutputArea.append_map[type].apply(\n",
       "\t\toa, [val, {}, selector]\n",
       "\t    );\n",
       "\t    $(container).empty().append(toinsert.contents());\n",
       "\t    selector.remove();\n",
       "\t}\n",
       "    }\n",
       "\n",
       "\n",
       "    $(document).ready(function() {\n",
       "\tfunction initComm(evt, data) {\n",
       "\t    var comm_manager = data.kernel.comm_manager;\n",
       "        //_.extend(comm_manager.targets, require(\"widgets/js/widget\"))\n",
       "\t    comm_manager.register_target(\"Signal\", function (comm) {\n",
       "            comm.on_msg(function (msg) {\n",
       "                var val = msg.content.data.value;\n",
       "                $(\".signal-\" + comm.comm_id).each(function() {\n",
       "                var type = $(this).data(\"type\");\n",
       "                if (typeof(val[type]) !== \"undefined\" && val[type] !== null) {\n",
       "                    redrawValue(this, type, val[type], type);\n",
       "                }\n",
       "                });\n",
       "                delete val;\n",
       "                delete msg.content.data.value;\n",
       "            });\n",
       "\t    });\n",
       "\n",
       "\t    // coordingate with Comm and redraw Signals\n",
       "\t    // XXX: Test using Reactive here to improve performance\n",
       "\t    $([IPython.events]).on(\n",
       "\t\t'output_appended.OutputArea', function (event, type, value, md, toinsert) {\n",
       "\t\t    if (md && md.reactive) {\n",
       "                // console.log(md.comm_id);\n",
       "                toinsert.addClass(\"signal-\" + md.comm_id);\n",
       "                toinsert.data(\"type\", type);\n",
       "                // Signal back indicating the mimetype required\n",
       "                var comm_manager = IPython.notebook.kernel.comm_manager;\n",
       "                var comm = comm_manager.comms[md.comm_id];\n",
       "                comm.then(function (c) {\n",
       "                    c.send({action: \"subscribe_mime\",\n",
       "                       mime: type});\n",
       "                    toinsert.bind(\"destroyed\", function() {\n",
       "                        c.send({action: \"unsubscribe_mime\",\n",
       "                               mime: type});\n",
       "                    });\n",
       "                })\n",
       "\t\t    }\n",
       "\t    });\n",
       "\t}\n",
       "\n",
       "\ttry {\n",
       "\t    // try to initialize right away. otherwise, wait on the status_started event.\n",
       "\t    initComm(undefined, IPython.notebook);\n",
       "\t} catch (e) {\n",
       "\t    $([IPython.events]).on('kernel_created.Kernel kernel_created.Session', initComm);\n",
       "\t}\n",
       "    });\n",
       "})(IPython, jQuery, _, MathJax);\n",
       "</script>\n",
       "    <script>\n",
       "        window.interactLoadedFlag = true\n",
       "       $(\"#interact-js-shim\").bind(\"destroyed\", function () {\n",
       "           if (window.interactLoadedFlag) {\n",
       "               console.warn(\"JavaScript required by Interact will be removed if you remove this cell or run using Interact more than once.\")\n",
       "           }\n",
       "       })\n",
       "       $([IPython.events]).on(\"kernel_starting.Kernel kernel_restarting.Kernel\", function () { window.interactLoadedFlag = false })\n",
       "   </script>\n",
       "</div>"
      ]
     },
     "metadata": {},
     "output_type": "display_data"
    }
   ],
   "source": [
    "using AutoRisk\n",
    "using AutoViz\n",
    "using CommandLineFlags\n",
    "using Interact\n",
    "using Reel\n",
    "Reel.set_output_type(\"gif\");\n",
    "include(\"../collection/collect_heuristic_dataset.jl\");"
   ]
  },
  {
   "cell_type": "code",
   "execution_count": 8,
   "metadata": {
    "collapsed": false
   },
   "outputs": [],
   "source": [
    "# extract config from dataset\n",
    "dataset_filepath = \"../../data/datasets/test.h5\"\n",
    "flags = h5readattr(dataset_filepath, \"risk\")\n",
    "fixup_types!(flags)\n",
    "flags[\"num_monte_carlo_runs\"] = 1\n",
    "col = build_dataset_collector(\"\", flags);"
   ]
  },
  {
   "cell_type": "code",
   "execution_count": 9,
   "metadata": {
    "collapsed": false,
    "scrolled": true
   },
   "outputs": [],
   "source": [
    "# set config manually - I'd say if you're not sure, prob don't change or run this\n",
    "# include(\"../collection/heuristic_dataset_config.jl\")\n",
    "# parse_flags!(FLAGS, [])\n",
    "# FLAGS[\"num_monte_carlo_runs\"] = 1\n",
    "# FLAGS[\"prime_time\"] = 10.\n",
    "# FLAGS[\"sampling_time\"] = 5.\n",
    "# # FLAGS[\"roadway_type\"] = \"straight\"\n",
    "# # FLAGS[\"roadway_length\"] = 10000.\n",
    "# # FLAGS[\"roadway_length\"] =  1000.\n",
    "# # FLAGS[\"roadway_type\"] =  \"straight\"\n",
    "# # FLAGS[\"min_num_vehicles\"] =  200\n",
    "# # FLAGS[\"max_num_vehicles\"] =  200\n",
    "# # FLAGS[\"min_base_speed\"] =  10.\n",
    "# # FLAGS[\"max_base_speed\"] =  10.\n",
    "# # FLAGS[\"min_init_dist\"] =  15.\n",
    "# # FLAGS[\"overall_response_time\"] = 0.2\n",
    "# # FLAGS[\"lon_response_time\"] = 0.2\n",
    "# FLAGS[\"err_p_a_to_i\"] =  0.05\n",
    "# FLAGS[\"err_p_i_to_a\"] =  0.3\n",
    "# # FLAGS[\"min_init_dist\"] =  15.\n",
    "# # FLAGS[\"max_init_dist\"] =  5.\n",
    "# # FLAGS[\"num_lanes\"] = 3\n",
    "# # FLAGS[\"behavior_type\"] = \"heuristic\"\n",
    "# # FLAGS[\"driver_network_filepath\"] = \"../../data/policies/gail_gru.h5\"\n",
    "# FLAGS[\"extractor_type\"] =  \"multi\"\n",
    "# FLAGS[\"extract_road_lidar\"] =  false\n",
    "# col = build_dataset_collector(\"\", FLAGS);\n"
   ]
  },
  {
   "cell_type": "code",
   "execution_count": 10,
   "metadata": {
    "collapsed": false
   },
   "outputs": [],
   "source": [
    "function Base.show(col::DatasetCollector, seed::Int; target_idx::Int = 1)\n",
    "    if target_idx <= size(col.eval.targets, 1)\n",
    "        # this is labeled collisions, but can be any target, selected by target_idx\n",
    "        in_collision_veh_idxs = find(col.eval.targets[target_idx,:] .== 1.)\n",
    "    else\n",
    "        in_collision_veh_idxs = []\n",
    "    end\n",
    "    \n",
    "    # if no collisions then still display the scene, but change car colors\n",
    "    collisions_exist = in_collision_veh_idxs == [] ? false : true\n",
    "    collision_color = collisions_exist ? colorant\"red\" : colorant\"orange\"\n",
    "    if !collisions_exist\n",
    "        in_collision_veh_idxs = sort(collect(values(col.eval.veh_id_to_idx)))\n",
    "    end\n",
    "    \n",
    "    # prepare film for save case\n",
    "    frames = Frames(MIME(\"image/png\"), fps=10)\n",
    "    \n",
    "    # display the record\n",
    "    @manipulate for follow_veh_idx in in_collision_veh_idxs,\n",
    "                zoom in collect(1.:2:20.),\n",
    "                i in 1:(col.eval.rec.nframes),\n",
    "                save in [false, true],\n",
    "                clear in [false, true]\n",
    "        \n",
    "        i -= 1\n",
    "        # set camera\n",
    "        follow_veh_id = -1\n",
    "        if follow_veh_idx == 0\n",
    "            cam = FitToContentCamera()\n",
    "        else\n",
    "            for (veh_id, veh_idx) in col.eval.veh_id_to_idx\n",
    "                if veh_idx == follow_veh_idx\n",
    "                    follow_veh_id = veh_id\n",
    "                    break\n",
    "                end\n",
    "            end\n",
    "            cam = AutoViz.CarFollowCamera{Int}(follow_veh_id, zoom)\n",
    "        end\n",
    "\n",
    "        # render scene\n",
    "        idx = -(col.eval.rec.nframes - i) + 1\n",
    "        carcolors = Dict{Int,Colorant}()\n",
    "        for veh in col.eval.rec[idx]\n",
    "            carcolors[veh.id] = veh.id == follow_veh_id ? collision_color : colorant\"green\"\n",
    "        end\n",
    "        mlane = 0\n",
    "        if typeof(col.models[follow_veh_id]) == DelayedDriver\n",
    "            mlane = col.models[follow_veh_id].driver.mlane\n",
    "        elseif typeof(col.models[follow_veh_id]) == Tim2DDriver\n",
    "            mlane = col.models[follow_veh_id].mlane\n",
    "        else\n",
    "            mlane = nothing\n",
    "        end\n",
    "        \n",
    "        stats = follow_veh_id == -1 ? [] : [\n",
    "            CarFollowingStatsOverlay(follow_veh_id, 2), \n",
    "            NeighborsOverlay(follow_veh_id, textparams = TextParams(x = 600, y_start=300))]\n",
    "        \n",
    "        if false && mlane != nothing && typeof(mlane) == MOBIL\n",
    "            push!(stats, MOBILOverlay(follow_veh_id, mlane))\n",
    "        end\n",
    "        \n",
    "        frame = render(col.eval.rec[idx], col.roadway, stats,\n",
    "            cam = cam, car_colors = carcolors)\n",
    "        push!(frames, frame)\n",
    "        \n",
    "        # to use the save, move around the slider above and collect some frames to write\n",
    "        # then switch to save, then switch off save\n",
    "        # this will write the frames, and then clear them\n",
    "        if save\n",
    "            filename = \"seed_$(seed)_veh_id_$(follow_veh_idx)_target_$(target_idx)\"\n",
    "            write(\"../../data/visualizations/outputs/$(filename).gif\", frames)\n",
    "            frames = Frames(MIME(\"image/png\"), fps=2)\n",
    "        end\n",
    "        \n",
    "        # to clear frames without saving them set this to true then false\n",
    "        if clear\n",
    "            frames = Frames(MIME(\"image/png\"), fps=10)\n",
    "        end\n",
    "        \n",
    "        frame\n",
    "    end\n",
    "\n",
    "end"
   ]
  },
  {
   "cell_type": "code",
   "execution_count": 11,
   "metadata": {
    "collapsed": false
   },
   "outputs": [],
   "source": [
    "seed = 1\n",
    "rand!(col, seed)\n",
    "evaluate!(col.eval, col.scene, col.models, col.roadway, seed);"
   ]
  },
  {
   "cell_type": "code",
   "execution_count": 12,
   "metadata": {
    "collapsed": false,
    "scrolled": false
   },
   "outputs": [
    {
     "data": {
      "text/html": [],
      "text/plain": [
       "Interact.Options{:ToggleButtons,Int64}(input-6: Signal{Int64}(5, nactions=1),\"follow_veh_idx\",5,\"5\",Interact.OptionDict(DataStructures.OrderedDict(\"5\"=>5,\"9\"=>9,\"15\"=>15,\"25\"=>25,\"29\"=>29,\"30\"=>30,\"40\"=>40,\"44\"=>44),Dict(9=>\"9\",25=>\"25\",29=>\"29\",40=>\"40\",5=>\"5\",15=>\"15\",44=>\"44\",30=>\"30\")),Any[],Any[],true,\"horizontal\")"
      ]
     },
     "metadata": {},
     "output_type": "display_data"
    },
    {
     "data": {
      "text/html": [],
      "text/plain": [
       "Interact.Options{:ToggleButtons,Float64}(input-7: Signal{Float64}(1.0, nactions=1),\"zoom\",1.0,\"1.0\",Interact.OptionDict(DataStructures.OrderedDict(\"1.0\"=>1.0,\"3.0\"=>3.0,\"5.0\"=>5.0,\"7.0\"=>7.0,\"9.0\"=>9.0,\"11.0\"=>11.0,\"13.0\"=>13.0,\"15.0\"=>15.0,\"17.0\"=>17.0,\"19.0\"=>19.0…),Dict(7.0=>\"7.0\",9.0=>\"9.0\",13.0=>\"13.0\",3.0=>\"3.0\",19.0=>\"19.0\",17.0=>\"17.0\",11.0=>\"11.0\",5.0=>\"5.0\",15.0=>\"15.0\",1.0=>\"1.0\"…)),Any[],Any[],true,\"horizontal\")"
      ]
     },
     "metadata": {},
     "output_type": "display_data"
    },
    {
     "data": {
      "text/html": [],
      "text/plain": [
       "Interact.Options{:SelectionSlider,Int64}(input-8: Signal{Int64}(27, nactions=1),\"i\",27,\"27\",Interact.OptionDict(DataStructures.OrderedDict(\"1\"=>1,\"2\"=>2,\"3\"=>3,\"4\"=>4,\"5\"=>5,\"6\"=>6,\"7\"=>7,\"8\"=>8,\"9\"=>9,\"10\"=>10…),Dict(2=>\"2\",11=>\"11\",39=>\"39\",46=>\"46\",25=>\"25\",42=>\"42\",29=>\"29\",8=>\"8\",20=>\"20\",14=>\"14\"…)),Any[],Any[],true,\"horizontal\")"
      ]
     },
     "metadata": {},
     "output_type": "display_data"
    },
    {
     "data": {
      "text/html": [],
      "text/plain": [
       "Interact.Options{:ToggleButtons,Bool}(input-9: Signal{Bool}(false, nactions=1),\"save\",false,\"false\",Interact.OptionDict(DataStructures.OrderedDict(\"false\"=>false,\"true\"=>true),Dict(false=>\"false\",true=>\"true\")),Any[],Any[],true,\"horizontal\")"
      ]
     },
     "metadata": {},
     "output_type": "display_data"
    },
    {
     "data": {
      "text/html": [],
      "text/plain": [
       "Interact.Options{:ToggleButtons,Bool}(input-10: Signal{Bool}(false, nactions=1),\"clear\",false,\"false\",Interact.OptionDict(DataStructures.OrderedDict(\"false\"=>false,\"true\"=>true),Dict(false=>\"false\",true=>\"true\")),Any[],Any[],true,\"horizontal\")"
      ]
     },
     "metadata": {},
     "output_type": "display_data"
    },
    {
     "data": {
      "image/png": "[encoded data removed]",
      "text/plain": [
       "Cairo.CairoSurface{UInt32}(Ptr{Void} @0x00007f9c35c20d20,1000.0,600.0,#undef)"
      ]
     },
     "execution_count": 12,
     "metadata": {
      "comm_id": "d66b0c73-bb43-4552-a287-21ba3050777a",
      "reactive": true
     },
     "output_type": "execute_result"
    }
   ],
   "source": [
    "show(col, seed, target_idx = 2)"
   ]
  },
  {
   "cell_type": "code",
   "execution_count": 13,
   "metadata": {
    "collapsed": false
   },
   "outputs": [
    {
     "name": "stdout",
     "output_type": "stream",
     "text": [
      "AutoRisk.ErrorableDriverModel(AutoRisk.DelayedDriver(AutomotiveDrivingModels.Tim2DDriver(SceneRecord(nscenes=2),AutomotiveDrivingModels.IntelligentDriverModel\n",
      "  a: Float64 2.4838824763743035\n",
      "  σ: Float64 0.0\n",
      "  k_spd: Float64 1.4999876388816966\n",
      "  δ: Float64 4.0\n",
      "  T: Float64 1.7499690972042417\n",
      "  v_des: Float64 34.99975277763393\n",
      "  s_min: Float64 4.999975277763394\n",
      "  a_max: Float64 3.99992583329018\n",
      "  d_cmf: Float64 2.49996291664509\n",
      "  d_max: Float64 9.0\n",
      ",AutomotiveDrivingModels.ProportionalLaneTracker(-0.0,0.0,3.499987638881697,2.499987638881697),AutomotiveDrivingModels.MOBIL(0,SceneRecord(nscenes=2),AutomotiveDrivingModels.IntelligentDriverModel\n",
      "  a: Float64 1.939955071331007\n",
      "  σ: Float64 NaN\n",
      "  k_spd: Float64 1.0\n",
      "  δ: Float64 4.0\n",
      "  T: Float64 1.5\n",
      "  v_des: Float64 34.99975277763393\n",
      "  s_min: Float64 5.0\n",
      "  a_max: Float64 3.0\n",
      "  d_cmf: Float64 2.0\n",
      "  d_max: Float64 9.0\n",
      ",2.0,0.4999901111053574,0.6999829416567414)),SceneRecord(nscenes=11),1.0,-10),true,0.01,0.3,MersenneTwister(UInt32[0x016d9284],Base.dSFMT.DSFMT_state(Int32[-1640185733,1072884664,-133868803,1073049580,1178839704,1072807967,-731019921,1073693700,-232335246,1072953390,1815672258,1072890471,-1781937800,1073058389,167192512,1072931685,1545397406,1073131794,-1033388275,1072934020,1341806924,1073233760,-1930211517,1072871772,1960224395,1073655197,545739320,1072994994,-459213923,1073154207,-536753749,1072999607,-195337197,1073434428,-1945191397,1072900514,1574953200,1073202687,-1111873702,1073520884,-440024601,1073331578,1658169638,1073391930,-567516867,1073644592,-1448847011,1072854017,-1317779476,1073455140,-751737046,1073257555,-1397201370,1073665630,1012460263,1073512832,1279665151,1073707086,35148070,1073120913,716649297,1072848256,398498509,1073186739,1162163095,1072806779,1441289307,1073418526,-12195110,1072923776,304981533,1072837076,-621106940,1072782229,692225025,1073152546,-1695472600,1073714142,-1154644461,1073731356,177569614,1073427502,-1120276671,1072744099,-855849649,1073599166,-360092901,1072870322,952354158,1073487423,-1391187049,1073307202,-279448845,1073074993,1738764915,1073424747,2116708260,1072973156,2102815313,1073296031,1809458905,1073079457,-1456167532,1073695678,750625568,1072990976,736478847,1073263331,1333021863,1073615398,13659239,1073733035,-1444481359,1073194635,499464761,1073429272,-456359135,1072894460,-1857299531,1073594880,-1692946773,1072785252,-1604934814,1073059610,-832131,1072892815,1436603671,1072975334,1960739710,1072961188,1598869662,1073439097,1211178479,1073136283,930240626,1073447152,1860426464,1072899203,1761654709,1073039535,-2052383784,1073069071,339603195,1073619584,835026764,1073164276,-1417701757,1072711451,519696678,1073222139,1848435665,1073351297,-731744000,1073326363,1408531827,1073628109,2055152016,1073140008,-647500815,1073077258,1893721250,1073230207,959041902,1073420163,1525646889,1072899045,-1931497490,1072808440,1635875996,1073400363,-1864687204,1073420118,1802990275,1072967365,1670556522,1073674062,1850128236,1072974135,1775303433,1073551896,1163446520,1072829255,142857669,1072769593,-1980830342,1073421497,-199743105,1073342201,682569178,1073484213,-711736665,1073024985,1154039933,1072801319,1939809790,1073207027,-1575714911,1073134828,826198981,1073714325,935846536,1073300986,-377774198,1072873180,-384215833,1073348685,767241610,1073020959,770580794,1072903444,-1811956574,1073693198,1546142740,1073248157,-705346151,1073423627,-1242308030,1073406775,-1549259067,1073476948,1720850483,1073455984,-1602527662,1073275694,1224540415,1073621225,1012480541,1072860529,856584630,1073315948,478093941,1073477331,-1161309648,1073670234,-2025104482,1073468924,972250004,1073477693,1687534988,1073270304,2090961883,1073607967,15834933,1072920146,942039727,1073331575,1077275770,1072864622,514180351,1073007421,-1479970441,1073624836,1460442580,1072701730,-381935102,1072752570,1367183941,1073452933,-587449605,1073221364,-548839165,1072981763,-850475304,1073054661,-414380929,1073544820,-2027700691,1072990106,1109819180,1072965145,246106480,1073641660,1282815570,1072762746,-1308364238,1073541159,-516746699,1073229950,-142594057,1073346222,-1586395801,1073544869,-1429046466,1073226375,-796565524,1073475098,-1494367357,1073044844,-1118706665,1073051691,166364814,1072850760,-1540277656,1073191462,1945993153,1072757208,1687488887,1072903692,1120112222,1073682771,-1759606463,1072714161,-33015172,1072853940,-625532181,1072773505,578652444,1073593412,874798516,1073094925,1274508141,1073729454,-1399341419,1073437307,1310104439,1072693712,-623240344,1073045177,470650945,1072820001,-2060346018,1073320165,-80691715,1073430061,1110034509,1072783797,1094402903,1073635365,-449885138,1073354399,-753667051,1072738781,1261720939,1073516745,-273136072,1073112516,-2093477563,1073576715,-1682105361,1073364542,-705785324,1072867986,13389287,1073149738,763202708,1073093461,-1626447977,1073660856,-846419122,1073706005,815322609,1073145018,1809874499,1073131458,-1915870799,1073144781,1943285593,1073173772,-1401822982,1073352111,-848124477,1073642116,382482558,1073188511,-1251402050,1073573880,1727160114,1073116334,1509779734,1072882190,56259531,1072746172,-1130278972,1073488854,659174111,1073253466,1249161946,1073451181,-62232737,1073073178,-401936675,1073262698,-1783440647,1073070922,-1906725964,1073519647,1946064628,1072822163,-302143675,1072901248,-198178358,1072826500,1684011800,1073161588,-1173383167,1073268309,297090238,1073618652,-1766306917,1073304999,179296361,1073271882,831547355,1073345531,1872716785,1073302014,-756637235,1073030584,1982378662,1073659657,660486166,1073573091,1720774432,1073660487,1639901368,1073418545,2090344086,1072731060,-1910495439,1072697119,1805059716,1072991241,405032431,1073740867,-805116008,1073554164,-1714144340,1073659290,1293009918,1073708308,50075609,1073015167,-1255330331,1073432609,1577475670,1073690608,1118028678,1073345290,1497713428,1072973394,-1873379512,1072967519,-891846383,1072959817,-168363734,1073178015,559786217,1072987811,-1442968693,1073246002,843868556,1073097521,-63934070,1073334974,-1926976390,1073291918,-1718662005,1073557390,-485887770,1073009109,793701891,1073000508,865968620,1073396646,-2066889086,1072987911,-1972867007,1073110474,-521826612,1073700685,336722527,1073333950,1614412599,1073251313,-31825974,1073233824,2109224328,1072707701,-706766509,1073269144,1623655350,1072911925,-1935638612,1073358007,-1089678218,1073577619,1582936181,1073722522,604608167,1073119107,-904265068,1072802904,2127475562,1072740605,2065027861,1073223975,-1383324766,1073345390,-1414554834,1073004321,1752876908,1072919731,693751699,1073151336,302624059,1072857017,1770877146,1072697107,397428539,1073487505,1911827147,1073325721,1129269550,1072742294,1911666657,1072754352,1670095205,1073455304,-1735309542,1072871698,1863434241,1073079354,-1302002960,1072857820,-1587613136,1073713712,1932595500,1073543071,-1964856575,1072912905,-596956426,1073096755,460845566,1072738679,-312839529,1073074677,622785089,1072823326,-2062488934,1073526794,287910304,1073319747,2097634688,1072718950,1949167990,1073291462,1983761739,1072930546,1909097377,1073039265,-643680533,1072695694,-1214161806,1073720069,411814675,1073004379,-621347750,1073368738,-1186027380,1073546799,1652309952,1073657872,465332311,1073554385,691511303,1073578648,864299545,1072929366,-1957061781,1073139085,-1640882298,1073027099,-2087411811,1073029109,1931182290,1072833071,969744475,1072923539,-632040242,1073612834,490772296,1072834397,-522912949,1072856028,-210918872,1073123078,1588445760,1072756228,978266535,1073685936,-847308700,1073412769,-1502680856,1073012563,785506312,1073004715,-564145931,1073483679,1426835762,1072710675,-761742165,1073067385,918261930,1073464533,584742925,1073709719,-744998547,1073123239,-1315250794,1073010641,-701818230,1073250102,-263374603,1072702529,2118034591,1073199768,-1075721931,1073552131,-50954663,1072823756,606426221,1072799888,-570575433,1073440576,-854167431,1072942498,1454880150,1072880486,968339831,1072894736,-839949503,1073591345,-2110161306,1073643590,1753097224,1073566068,655390179,1073525385,336738958,1073291611,-1792360582,1073352611,-139797157,1073352768,-2046419003,1073566671,295699467,1073597946,1030123457,1072825090,523910933,1073094464,-934514476,1073200042,-919489568,1073310478,780175056,1073415427,-1434231405,1072929348,158884947,1073215475,-1433521307,1073601710,1552086652,1073310310,-1996927278,1073422150,-1619070876,1072843809,1643713479,1073253867,-1714837959,1073249123,-1469325917,1072940601,-92475402,1073378208,367420544,1073027513,528247519,1072882918,-1530756030,1072859538,1347941629,1073587160,1308525071,1073541811,1670064689,1072894388,-1682658671,1072927492,-2037635792,1073015753,1715999250,1073599635,-1785265037,1073699641,-258300462,1073483615,1247822318,1073090796,-262892869,1073412177,1849094332,1072817416,-1275709987,1073527778,815949742,1073541318,-1315472626,1072979886,-1178209866,1073025800,-1426921716,1072715293,-298459870,1072732797,-1199029979,1073004359,512900753,1073672148,-876263280,1073539314,-1160589283,1072928714,-87714279,1073564078,-1639545028,1073311553,651378072,1072946005,-1592864979,1072698207,377253612,1072806291,909224345,1073332878,-47642095,1073491446,-579987713,1072825425,-2013957589,1072800621,-863337631,1073254093,-2091153383,1073037606,634478373,1073303880,-1427175759,1072940720,-323581528,1073567527,1111056942,1073625653,1895578542,1073003663,-125889730,1073544006,-1349096071,1072724832,218082440,1072716064,1126141054,787779643,-1378832800,-1119659487,382,0]),[1.18255,1.33983,1.1094,1.95411,1.24809,1.18809,1.34823,1.22739,1.41823,1.22962,1.51547,1.17025,1.91739,1.28777,1.43961,1.29217,1.70685,1.19766,1.48584,1.7893,1.60876,1.66632,1.90727,1.15332,1.7266,1.53817,1.92734,1.78162,1.96687,1.40785,1.14783,1.47063,1.10827,1.69168,1.21985,1.13717,1.08486,1.43802,1.9736,1.99002,1.70024,1.0485,1.86395,1.16887,1.75738,1.58551,1.36406,1.69761,1.26694,1.57486,1.36832,1.95599,1.28394,1.54367,1.87943,1.99162,1.47816,1.70193,1.19189,1.85986,1.08774,1.34939,1.19032,1.26902,1.25553,1.7113,1.42251,1.71898,1.19641,1.33025,1.35841,1.88342,1.44921,1.01736,1.50439,1.62756,1.60379,1.89155,1.42606,1.36622,1.51208,1.69324,1.19626,1.10986,1.67436,1.6932,1.26142,1.93538,1.26788,1.81887,1.12971,1.07281,1.69451,1.61889,1.75432,1.31637,1.10306,1.48998,1.42112,1.97378,1.57958,1.1716,1.62507,1.31253,1.20046,1.95363,1.5292,1.69654,1.68047,1.7474,1.7274,1.55546,1.88499,1.15953,1.59385,1.74776,1.93173,1.73974,1.74811,1.55032,1.87234,1.21639,1.60876,1.16344,1.29962,1.88843,1.00809,1.05657,1.72449,1.50365,1.27515,1.34467,1.81212,1.28311,1.2593,1.90448,1.06628,1.80863,1.51184,1.62273,1.81217,1.50843,1.74563,1.33531,1.34184,1.15022,1.47513,1.061,1.2007,1.94368,1.01994,1.15325,1.07654,1.85846,1.38307,1.9882,1.70959,1.00044,1.33563,1.12088,1.59788,1.70268,1.08635,1.89847,1.63052,1.04342,1.78535,1.39985,1.84254,1.6402,1.16664,1.43534,1.38167,1.92278,1.96584,1.43084,1.41791,1.43062,1.45826,1.62834,1.90491,1.47232,1.83984,1.40349,1.18019,1.05047,1.75875,1.53427,1.72282,1.36233,1.54307,1.36018,1.78812,1.12294,1.19837,1.12708,1.44664,1.54842,1.88253,1.58341,1.55183,1.62207,1.58056,1.32171,1.92164,1.83908,1.92243,1.6917,1.03606,1.00369,1.28419,1.99909,1.82103,1.92129,1.96804,1.30701,1.70511,1.95116,1.62184,1.26717,1.26157,1.25422,1.46231,1.28092,1.52715,1.38554,1.612,1.57094,1.82411,1.30123,1.29303,1.67081,1.28101,1.3979,1.96077,1.61102,1.53221,1.51553,1.01378,1.54922,1.20855,1.63396,1.8434,1.98159,1.40613,1.10458,1.04516,1.50614,1.62193,1.29666,1.21599,1.43687,1.15618,1.00368,1.75746,1.60317,1.04677,1.05827,1.72675,1.17018,1.36822,1.15695,1.97319,1.81045,1.20948,1.38482,1.04333,1.36376,1.12405,1.79493,1.59748,1.02451,1.5705,1.22631,1.32999,1.00233,1.97925,1.29672,1.6442,1.81401,1.91994,1.82124,1.84438,1.22518,1.42518,1.31839,1.3203,1.13335,1.21962,1.87699,1.13461,1.15524,1.40992,1.06006,1.9467,1.68619,1.30452,1.29704,1.75381,1.01662,1.35681,1.73555,1.96938,1.41007,1.30269,1.53106,1.00885,1.48306,1.8191,1.12446,1.1017,1.71271,1.2377,1.17856,1.19215,1.85649,1.90632,1.83239,1.79359,1.57064,1.62882,1.62897,1.83296,1.86279,1.12573,1.38263,1.48332,1.58864,1.68872,1.22516,1.49803,1.86638,1.58848,1.69514,1.14359,1.53465,1.53012,1.23589,1.65323,1.31878,1.18088,1.15859,1.8525,1.80925,1.19182,1.22339,1.30757,1.8644,1.95977,1.75375,1.37913,1.68563,1.11842,1.79587,1.80878,1.27336,1.31715,1.02102,1.03772,1.2967,1.93355,1.80687,1.22456,1.83049,1.58966,1.24105,1.00473,1.10781,1.61,1.76122,1.12605,1.1024,1.53486,1.32841,1.58234,1.23601,1.83378,1.88921,1.29604,1.81135,1.03012,1.02176],54))\n"
     ]
    }
   ],
   "source": [
    "println(col.models[2])"
   ]
  },
  {
   "cell_type": "code",
   "execution_count": null,
   "metadata": {
    "collapsed": false
   },
   "outputs": [],
   "source": [
    "println(mean(col.eval.agg_targets, 2))"
   ]
  },
  {
   "cell_type": "code",
   "execution_count": null,
   "metadata": {
    "collapsed": false
   },
   "outputs": [],
   "source": [
    "println(mean(col.eval.features, 3))"
   ]
  }
 ],
 "metadata": {
  "anaconda-cloud": {},
  "kernelspec": {
   "display_name": "Julia 0.5.0",
   "language": "julia",
   "name": "julia-0.5"
  },
  "language_info": {
   "file_extension": ".jl",
   "mimetype": "application/julia",
   "name": "julia",
   "version": "0.5.0"
  },
  "widgets": {
   "state": {
    "125fd793-a488-4785-92ef-50d118e55df5": {
     "views": [
      {
       "cell_index": 5
      }
     ]
    },
    "12ef6528-8edd-4ac5-afc3-62de2bdb6636": {
     "views": [
      {
       "cell_index": 5
      }
     ]
    },
    "1cfe0089-0f09-4d30-bfc4-487cc9d1f013": {
     "views": [
      {
       "cell_index": 5
      }
     ]
    },
    "1e7c326b-29de-4642-858d-37b804b25c47": {
     "views": [
      {
       "cell_index": 5
      }
     ]
    },
    "1f44abca-d2e4-4cbf-b05e-77325dd7fbd9": {
     "views": [
      {
       "cell_index": 5
      }
     ]
    },
    "287aa785-43df-46fc-862d-3fc8affccd54": {
     "views": [
      {
       "cell_index": 5
      }
     ]
    },
    "3131c8e3-0996-48e7-9009-c4d8ec202edd": {
     "views": [
      {
       "cell_index": 5
      }
     ]
    },
    "316413f1-043b-4078-b875-004834b49602": {
     "views": [
      {
       "cell_index": 5
      }
     ]
    },
    "3d949b4a-b34d-4910-b4f1-941a52b97180": {
     "views": [
      {
       "cell_index": 5
      }
     ]
    },
    "410da435-12a9-40a4-b03c-7e353cd94eb8": {
     "views": [
      {
       "cell_index": 5
      }
     ]
    },
    "441dcfa6-42a7-4437-af7a-bdd60d164f4f": {
     "views": [
      {
       "cell_index": 5
      }
     ]
    },
    "4c1a9a15-b27b-4c54-aac5-b33a53cb41fe": {
     "views": [
      {
       "cell_index": 5
      }
     ]
    },
    "4e023987-05c8-4871-b53d-ccce9d8757e9": {
     "views": [
      {
       "cell_index": 5
      }
     ]
    },
    "4e8486fd-499b-4b9c-884b-1589976824fa": {
     "views": [
      {
       "cell_index": 5
      }
     ]
    },
    "4efa8a18-9b03-4c62-a56b-683b15ba55a8": {
     "views": [
      {
       "cell_index": 5
      }
     ]
    },
    "50c47500-0aa7-4edc-943b-8dccc9eb7246": {
     "views": [
      {
       "cell_index": 5
      }
     ]
    },
    "58df9fcb-c56a-4bd8-b245-34284700aabd": {
     "views": [
      {
       "cell_index": 5
      }
     ]
    },
    "5a4f6a8d-5eb3-442a-a2b0-560f7271dfdb": {
     "views": [
      {
       "cell_index": 5
      }
     ]
    },
    "63118f3b-0a33-43f1-bf57-425a92b8cb86": {
     "views": [
      {
       "cell_index": 5
      }
     ]
    },
    "6c6a4c12-b934-4a97-b47b-b8974877907e": {
     "views": [
      {
       "cell_index": 5
      }
     ]
    },
    "8432bc43-8c15-4890-b2e1-609fbf46333c": {
     "views": [
      {
       "cell_index": 5
      }
     ]
    },
    "894f67ce-eee6-43f3-b916-c98ba50ef5dc": {
     "views": [
      {
       "cell_index": 5
      }
     ]
    },
    "8c51672c-828d-436d-9fea-2c18651c8cc3": {
     "views": [
      {
       "cell_index": 5
      }
     ]
    },
    "9c0adddf-9f36-48e0-8902-f8cc14112815": {
     "views": [
      {
       "cell_index": 5
      }
     ]
    },
    "a64997a9-5a2c-4741-a502-ae9858c6a653": {
     "views": [
      {
       "cell_index": 5
      }
     ]
    },
    "b257e2f4-c329-4574-9cd9-50086938b443": {
     "views": [
      {
       "cell_index": 5
      }
     ]
    },
    "b4cf8599-4b44-43aa-9ffe-3bc0509a9fa2": {
     "views": [
      {
       "cell_index": 5
      }
     ]
    },
    "b4fd6c52-7b4d-4461-8ec3-57a72a871e33": {
     "views": [
      {
       "cell_index": 5
      }
     ]
    },
    "c102ffc6-ab1d-43ea-a3ec-5af320fe6627": {
     "views": [
      {
       "cell_index": 5
      }
     ]
    },
    "c50af5b9-17f2-49ca-87d9-6a187f302bef": {
     "views": [
      {
       "cell_index": 5
      }
     ]
    },
    "e3c3ef77-2475-4bec-971b-506ac5cb03ff": {
     "views": [
      {
       "cell_index": 5
      }
     ]
    },
    "f10da138-612d-4d82-9a16-68196dd89353": {
     "views": [
      {
       "cell_index": 5
      }
     ]
    },
    "ff6114f9-3702-489d-8169-5be77e78c3b1": {
     "views": [
      {
       "cell_index": 5
      }
     ]
    }
   },
   "version": "1.2.0"
  }
 },
 "nbformat": 4,
 "nbformat_minor": 1
}
