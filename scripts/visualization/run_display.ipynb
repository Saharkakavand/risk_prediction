{
 "cells": [
  {
   "cell_type": "code",
   "execution_count": 1,
   "metadata": {
    "collapsed": false
   },
   "outputs": [
    {
     "data": {
      "text/html": [
       "<div id=\"interact-js-shim\">\n",
       "    <script charset=\"utf-8\">\n",
       "(function (IPython, $, _, MathJax) {\n",
       "    $.event.special.destroyed = {\n",
       "\tremove: function(o) {\n",
       "\t    if (o.handler) {\n",
       "\t\to.handler.apply(this, arguments)\n",
       "\t    }\n",
       "\t}\n",
       "    }\n",
       "\n",
       "    var OutputArea = IPython.version >= \"4.0.0\" ? require(\"notebook/js/outputarea\").OutputArea : IPython.OutputArea;\n",
       "\n",
       "    var redrawValue = function (container, type, val) {\n",
       "\tvar selector = $(\"<div/>\");\n",
       "\tvar oa = new OutputArea(_.extend(selector, {\n",
       "\t    selector: selector,\n",
       "\t    prompt_area: true,\n",
       "\t    events: IPython.events,\n",
       "\t    keyboard_manager: IPython.keyboard_manager\n",
       "\t})); // Hack to work with IPython 2.1.0\n",
       "\n",
       "\tswitch (type) {\n",
       "\tcase \"image/png\":\n",
       "            var _src = 'data:' + type + ';base64,' + val;\n",
       "\t    $(container).find(\"img\").attr('src', _src);\n",
       "\t    break;\n",
       "\tcase \"text/latex\":\n",
       "\t\tif (MathJax){\n",
       "\t\t\tvar math = MathJax.Hub.getAllJax(container)[0];\n",
       "\t\t\tMathJax.Hub.Queue([\"Text\", math, val.replace(/^\\${1,2}|\\${1,2}$/g, '')]);\n",
       "\t\t\tbreak;\n",
       "\t\t}\n",
       "\tdefault:\n",
       "\t    var toinsert = OutputArea.append_map[type].apply(\n",
       "\t\toa, [val, {}, selector]\n",
       "\t    );\n",
       "\t    $(container).empty().append(toinsert.contents());\n",
       "\t    selector.remove();\n",
       "\t}\n",
       "    }\n",
       "\n",
       "\n",
       "    $(document).ready(function() {\n",
       "\tfunction initComm(evt, data) {\n",
       "\t    var comm_manager = data.kernel.comm_manager;\n",
       "        //_.extend(comm_manager.targets, require(\"widgets/js/widget\"))\n",
       "\t    comm_manager.register_target(\"Signal\", function (comm) {\n",
       "            comm.on_msg(function (msg) {\n",
       "                var val = msg.content.data.value;\n",
       "                $(\".signal-\" + comm.comm_id).each(function() {\n",
       "                var type = $(this).data(\"type\");\n",
       "                if (typeof(val[type]) !== \"undefined\" && val[type] !== null) {\n",
       "                    redrawValue(this, type, val[type], type);\n",
       "                }\n",
       "                });\n",
       "                delete val;\n",
       "                delete msg.content.data.value;\n",
       "            });\n",
       "\t    });\n",
       "\n",
       "\t    // coordingate with Comm and redraw Signals\n",
       "\t    // XXX: Test using Reactive here to improve performance\n",
       "\t    $([IPython.events]).on(\n",
       "\t\t'output_appended.OutputArea', function (event, type, value, md, toinsert) {\n",
       "\t\t    if (md && md.reactive) {\n",
       "                // console.log(md.comm_id);\n",
       "                toinsert.addClass(\"signal-\" + md.comm_id);\n",
       "                toinsert.data(\"type\", type);\n",
       "                // Signal back indicating the mimetype required\n",
       "                var comm_manager = IPython.notebook.kernel.comm_manager;\n",
       "                var comm = comm_manager.comms[md.comm_id];\n",
       "                comm.then(function (c) {\n",
       "                    c.send({action: \"subscribe_mime\",\n",
       "                       mime: type});\n",
       "                    toinsert.bind(\"destroyed\", function() {\n",
       "                        c.send({action: \"unsubscribe_mime\",\n",
       "                               mime: type});\n",
       "                    });\n",
       "                })\n",
       "\t\t    }\n",
       "\t    });\n",
       "\t}\n",
       "\n",
       "\ttry {\n",
       "\t    // try to initialize right away. otherwise, wait on the status_started event.\n",
       "\t    initComm(undefined, IPython.notebook);\n",
       "\t} catch (e) {\n",
       "\t    $([IPython.events]).on('kernel_created.Kernel kernel_created.Session', initComm);\n",
       "\t}\n",
       "    });\n",
       "})(IPython, jQuery, _, MathJax);\n",
       "</script>\n",
       "    <script>\n",
       "        window.interactLoadedFlag = true\n",
       "       $(\"#interact-js-shim\").bind(\"destroyed\", function () {\n",
       "           if (window.interactLoadedFlag) {\n",
       "               console.warn(\"JavaScript required by Interact will be removed if you remove this cell or run using Interact more than once.\")\n",
       "           }\n",
       "       })\n",
       "       $([IPython.events]).on(\"kernel_starting.Kernel kernel_restarting.Kernel\", function () { window.interactLoadedFlag = false })\n",
       "   </script>\n",
       "</div>"
      ]
     },
     "metadata": {},
     "output_type": "display_data"
    }
   ],
   "source": [
    "using AutoRisk\n",
    "using AutoViz\n",
    "using Reel"
   ]
  },
  {
   "cell_type": "code",
   "execution_count": 28,
   "metadata": {
    "collapsed": false,
    "scrolled": true
   },
   "outputs": [],
   "source": [
    "include(\"../collection/heuristic_dataset_config.jl\")\n",
    "include(\"../collection/collect_heuristic_dataset.jl\")\n",
    "parse_flags!(FLAGS, [])\n",
    "FLAGS[\"num_monte_carlo_runs\"] = 1\n",
    "FLAGS[\"prime_time\"] = 10.\n",
    "FLAGS[\"sampling_time\"] = 5.\n",
    "# FLAGS[\"roadway_type\"] = \"straight\"\n",
    "# FLAGS[\"roadway_length\"] = 10000.\n",
    "# FLAGS[\"roadway_length\"] =  1000.\n",
    "# FLAGS[\"roadway_type\"] =  \"straight\"\n",
    "# FLAGS[\"min_num_vehicles\"] =  200\n",
    "# FLAGS[\"max_num_vehicles\"] =  200\n",
    "# FLAGS[\"min_base_speed\"] =  10.\n",
    "# FLAGS[\"max_base_speed\"] =  10.\n",
    "# FLAGS[\"min_init_dist\"] =  15.\n",
    "FLAGS[\"overall_response_time\"] = 0.2\n",
    "FLAGS[\"lon_response_time\"] = 0.2\n",
    "FLAGS[\"err_p_a_to_i\"] =  0.01\n",
    "FLAGS[\"err_p_i_to_a\"] =  0.3\n",
    "# FLAGS[\"min_init_dist\"] =  15.\n",
    "# FLAGS[\"max_init_dist\"] =  5.\n",
    "# FLAGS[\"num_lanes\"] = 3\n",
    "# FLAGS[\"behavior_type\"] = \"heuristic\"\n",
    "# FLAGS[\"driver_network_filepath\"] = \"../../data/policies/gail_gru.h5\"\n",
    "FLAGS[\"extractor_type\"] =  \"multi\"\n",
    "FLAGS[\"extract_road_lidar\"] =  false\n",
    "col = build_dataset_collector(\"\", FLAGS);\n",
    "Reel.set_output_type(\"gif\");"
   ]
  },
  {
   "cell_type": "code",
   "execution_count": 29,
   "metadata": {
    "collapsed": false
   },
   "outputs": [],
   "source": [
    "function Base.show(col::DatasetCollector, seed::Int; target_idx::Int = 1)\n",
    "    if target_idx <= size(col.eval.targets, 1)\n",
    "        # this is labeled collisions, but can be any target, selected by target_idx\n",
    "        in_collision_veh_idxs = find(col.eval.targets[target_idx,:] .== 1.)\n",
    "    else\n",
    "        in_collision_veh_idxs = []\n",
    "    end\n",
    "    \n",
    "    # if no collisions then still display the scene, but change car colors\n",
    "    collisions_exist = in_collision_veh_idxs == [] ? false : true\n",
    "    collision_color = collisions_exist ? colorant\"red\" : colorant\"orange\"\n",
    "    if !collisions_exist\n",
    "        in_collision_veh_idxs = sort(collect(values(col.eval.veh_id_to_idx)))\n",
    "    end\n",
    "    \n",
    "    # prepare film for save case\n",
    "    frames = Frames(MIME(\"image/png\"), fps=10)\n",
    "    \n",
    "    # display the record\n",
    "    @manipulate for follow_veh_idx in in_collision_veh_idxs,\n",
    "                zoom in collect(1.:2:20.),\n",
    "                i in 1:(col.eval.rec.nscenes),\n",
    "                save in [false, true],\n",
    "                clear in [false, true]\n",
    "        \n",
    "        i -= 1\n",
    "        # set camera\n",
    "        follow_veh_id = -1\n",
    "        if follow_veh_idx == 0\n",
    "            cam = FitToContentCamera()\n",
    "        else\n",
    "            for (veh_id, veh_idx) in col.eval.veh_id_to_idx\n",
    "                if veh_idx == follow_veh_idx\n",
    "                    follow_veh_id = veh_id\n",
    "                    break\n",
    "                end\n",
    "            end\n",
    "            cam = CarFollowCamera(follow_veh_id, zoom)\n",
    "        end\n",
    "\n",
    "        # render scene\n",
    "        idx = -(col.eval.rec.nscenes - i) + 1\n",
    "        carcolors = Dict{Int,Colorant}()\n",
    "        for veh in get_scene(col.eval.rec, idx)\n",
    "            carcolors[veh.def.id] = veh.def.id == follow_veh_id ? collision_color : colorant\"green\"\n",
    "        end\n",
    "        mlane = 0\n",
    "        if typeof(col.models[follow_veh_id]) == DelayedDriver\n",
    "            mlane = col.models[follow_veh_id].driver.mlane\n",
    "        elseif typeof(col.models[follow_veh_id]) == Tim2DDriver\n",
    "            mlane = col.models[follow_veh_id].mlane\n",
    "        else\n",
    "            mlane = nothing\n",
    "        end\n",
    "        \n",
    "        stats = follow_veh_id == -1 ? [] : [\n",
    "            CarFollowingStatsOverlay(follow_veh_id, 2), \n",
    "            NeighborsOverlay(follow_veh_id, textparams = TextParams(x = 600, y_start=300))]\n",
    "        \n",
    "        if mlane != nothing && typeof(mlane) == MOBIL\n",
    "            push!(stats, MOBILOverlay(follow_veh_id, mlane))\n",
    "        end\n",
    "        \n",
    "        frame = render(get_scene(col.eval.rec, idx), col.roadway, stats,\n",
    "            cam = cam, car_colors = carcolors)\n",
    "        push!(frames, frame)\n",
    "        \n",
    "        # to use the save, move around the slider above and collect some frames to write\n",
    "        # then switch to save, then switch off save\n",
    "        # this will write the frames, and then clear them\n",
    "        if save\n",
    "            filename = \"seed_$(seed)_veh_id_$(follow_veh_idx)_target_$(target_idx)\"\n",
    "            write(\"../../data/visualizations/outputs/$(filename).gif\", frames)\n",
    "            frames = Frames(MIME(\"image/png\"), fps=2)\n",
    "        end\n",
    "        \n",
    "        # to clear frames without saving them set this to true then false\n",
    "        if clear\n",
    "            frames = Frames(MIME(\"image/png\"), fps=10)\n",
    "        end\n",
    "        \n",
    "        frame\n",
    "    end\n",
    "\n",
    "end"
   ]
  },
  {
   "cell_type": "code",
   "execution_count": 30,
   "metadata": {
    "collapsed": false
   },
   "outputs": [],
   "source": [
    "seed = 1\n",
    "rand!(col, seed)\n",
    "evaluate!(col.eval, col.scene, col.models, col.roadway, seed);"
   ]
  },
  {
   "cell_type": "code",
   "execution_count": 31,
   "metadata": {
    "collapsed": false,
    "scrolled": false
   },
   "outputs": [
    {
     "data": {
      "text/html": [],
      "text/plain": [
       "Interact.Options{:ToggleButtons,Int64}(Signal{Int64}(1, nactions=1),\"follow_veh_idx\",1,\"1\",Interact.OptionDict(DataStructures.OrderedDict(\"1\"=>1,\"2\"=>2,\"3\"=>3,\"4\"=>4,\"5\"=>5,\"6\"=>6,\"7\"=>7,\"8\"=>8,\"9\"=>9,\"10\"=>10…),Dict(11=>\"11\",134=>\"134\",158=>\"158\",160=>\"160\",29=>\"29\",131=>\"131\",173=>\"173\",74=>\"74\",176=>\"176\",57=>\"57\"…)),Any[],Any[],true,\"horizontal\")"
      ]
     },
     "metadata": {},
     "output_type": "display_data"
    },
    {
     "data": {
      "text/html": [],
      "text/plain": [
       "Interact.Options{:ToggleButtons,Float64}(Signal{Float64}(1.0, nactions=1),\"zoom\",1.0,\"1.0\",Interact.OptionDict(DataStructures.OrderedDict(\"1.0\"=>1.0,\"3.0\"=>3.0,\"5.0\"=>5.0,\"7.0\"=>7.0,\"9.0\"=>9.0,\"11.0\"=>11.0,\"13.0\"=>13.0,\"15.0\"=>15.0,\"17.0\"=>17.0,\"19.0\"=>19.0…),Dict(7.0=>\"7.0\",9.0=>\"9.0\",13.0=>\"13.0\",3.0=>\"3.0\",19.0=>\"19.0\",17.0=>\"17.0\",11.0=>\"11.0\",5.0=>\"5.0\",15.0=>\"15.0\",1.0=>\"1.0\"…)),Any[],Any[],true,\"horizontal\")"
      ]
     },
     "metadata": {},
     "output_type": "display_data"
    },
    {
     "data": {
      "text/html": [],
      "text/plain": [
       "Interact.Options{:SelectionSlider,Int64}(Signal{Int64}(75, nactions=1),\"i\",75,\"75\",Interact.OptionDict(DataStructures.OrderedDict(\"1\"=>1,\"2\"=>2,\"3\"=>3,\"4\"=>4,\"5\"=>5,\"6\"=>6,\"7\"=>7,\"8\"=>8,\"9\"=>9,\"10\"=>10…),Dict(68=>\"68\",148=>\"148\",124=>\"124\",2=>\"2\",89=>\"89\",11=>\"11\",39=>\"39\",46=>\"46\",85=>\"85\",134=>\"134\"…)),Any[],Any[],true,\"horizontal\")"
      ]
     },
     "metadata": {},
     "output_type": "display_data"
    },
    {
     "data": {
      "text/html": [],
      "text/plain": [
       "Interact.Options{:ToggleButtons,Bool}(Signal{Bool}(false, nactions=1),\"save\",false,\"false\",Interact.OptionDict(DataStructures.OrderedDict(\"false\"=>false,\"true\"=>true),Dict(false=>\"false\",true=>\"true\")),Any[],Any[],true,\"horizontal\")"
      ]
     },
     "metadata": {},
     "output_type": "display_data"
    },
    {
     "data": {
      "text/html": [],
      "text/plain": [
       "Interact.Options{:ToggleButtons,Bool}(Signal{Bool}(false, nactions=1),\"clear\",false,\"false\",Interact.OptionDict(DataStructures.OrderedDict(\"false\"=>false,\"true\"=>true),Dict(false=>\"false\",true=>\"true\")),Any[],Any[],true,\"horizontal\")"
      ]
     },
     "metadata": {},
     "output_type": "display_data"
    },
    {
     "data": {
      "image/png": "[encoded data removed]",
      "text/plain": [
       "Cairo.CairoSurface{UInt32}(Ptr{Void} @0x00007fdf9789d040,1000.0,600.0,#undef)"
      ]
     },
     "execution_count": 31,
     "metadata": {
      "comm_id": "28016441-595f-48f6-a1ca-2ddc141f7771",
      "reactive": true
     },
     "output_type": "execute_result"
    }
   ],
   "source": [
    "show(col, seed, target_idx = 1)"
   ]
  },
  {
   "cell_type": "code",
   "execution_count": 32,
   "metadata": {
    "collapsed": false
   },
   "outputs": [
    {
     "name": "stdout",
     "output_type": "stream",
     "text": [
      "[0.0; 0.0; 0.0; 0.015; 0.005]\n"
     ]
    }
   ],
   "source": [
    "println(mean(col.eval.agg_targets, 2))"
   ]
  },
  {
   "cell_type": "code",
   "execution_count": 33,
   "metadata": {
    "collapsed": false
   },
   "outputs": [
    {
     "name": "stdout",
     "output_type": "stream",
     "text": [
      "[-0.00138588; 0.000392475; 15.7984; 4.44595; 1.87477; 0.0; 1.50102; 1.49828; 0.0; 0.0; 0.005; 0.965; 0.01; 0.01; 0.2; 1.21625; 4.0; 1.2725; 29.325; 4.5675; 2.2975; 1.64875; 0.2; 3.21625; 2.21625; 0.327; 0.3233; 2.0; 0.965; 0.01; 0.01; 0.2; 1.21625; 4.0; 1.2725; 29.325; 4.5675; 2.2975; 1.64875; 0.2; 3.21625; 2.21625; 0.327; 0.3233; 2.0; 0.96; 0.01; 0.01; 0.2; 1.2275; 4.0; 1.25; 29.55; 4.545; 2.365; 1.6825; 0.2; 3.2275; 2.2275; 0.318; 0.3008; 2.0; 0.98; 0.01; 0.01; 0.2; 1.2475; 4.0; 1.1925; 29.95; 4.505; 2.485; 1.7425; 0.2; 3.2475; 2.2475; 0.302; 0.2825; 2.0; 0.965; 0.01; 0.01; 0.2; 1.21625; 4.0; 1.2725; 29.325; 4.5675; 2.2975; 1.64875; 0.2; 3.21625; 2.21625; 0.327; 0.3233; 2.0; 0.96; 0.01; 0.01; 0.2; 1.17375; 4.0; 1.37625; 28.475; 4.6525; 2.0425; 1.52125; 0.2; 3.17375; 2.17375; 0.361; 0.38505; 2.0; 0.99; 0.01; 0.01; 0.2; 1.16375; 4.0; 1.39; 28.275; 4.6725; 1.9825; 1.49125; 0.2; 3.16375; 2.16375; 0.369; 0.4128; 2.0; 0.965; 0.01; 0.01; 0.2; 1.21625; 4.0; 1.2725; 29.325; 4.5675; 2.2975; 1.64875; 0.2; 3.21625; 2.21625; 0.327; 0.3233; 2.0; 33.6556; 36.0981; 39.0387; 39.7014; 40.4389; 38.8431; 38.5385; 38.6463; 34.6208; 34.5819; 35.6392; 35.954; 38.3738; 40.1286; 41.6094; 39.3183; 38.3615; 36.3031; 34.8281; 34.3844; 0.44957; 0.0879245; 0.079013; 0.0771619; 0.00023493; -0.0179525; -0.131985; -0.0937732; 0.00672645; -0.224954; 0.368095; 0.0821648; 0.204531; 0.0382949; 0.00222121; -0.0389835; -0.180643; -0.0508241; -0.141024; 0.272398]\n"
     ]
    }
   ],
   "source": [
    "println(mean(col.eval.features, 3))"
   ]
  },
  {
   "cell_type": "code",
   "execution_count": null,
   "metadata": {
    "collapsed": false
   },
   "outputs": [],
   "source": [
    "println(mean(col.eval.features[:,1:length(col.scene)], 2))\n",
    "println(mean(col.eval.targets[:,1:length(col.scene)], 2))\n",
    "println(col.eval.features[:,114])\n",
    "println(col.eval.num_veh)"
   ]
  },
  {
   "cell_type": "code",
   "execution_count": null,
   "metadata": {
    "collapsed": false
   },
   "outputs": [],
   "source": [
    "function AutoRisk.normalize_input!(network::Network, input::Array{Float64})\n",
    "    println(\"normalize\")\n",
    "    input .-= network.means\n",
    "    input ./= network.stds\n",
    "end\n",
    "\n",
    "function AutoRisk.fprop_network(network::Network, input::Array{Float64})\n",
    "    # fprop through network\n",
    "    num_layers = length(network.weights)\n",
    "    state = input\n",
    "    for lidx in 1:num_layers\n",
    "        state = state * network.weights[lidx] .+ network.biases[lidx]\n",
    "        if lidx != num_layers\n",
    "            # mutates state\n",
    "            network.nonlinearity(state)\n",
    "        end\n",
    "    end\n",
    "    return sigmoid(state)\n",
    "end"
   ]
  },
  {
   "cell_type": "code",
   "execution_count": null,
   "metadata": {
    "collapsed": false
   },
   "outputs": [],
   "source": [
    "seed = 1\n",
    "reset!(col, seed)\n",
    "extract_features!(col.eval.rec, col.roadway, col.models, col.eval.prediction_features)\n",
    "input_dim = size(col.eval.prediction_features, 1)\n",
    "for vidx in 1:size(features, 2)\n",
    "    println(size(features[:, vidx]))\n",
    "    pred = predict(col.eval.prediction_model,  reshape(features[:, vidx], (1, input_dim)))\n",
    "    println(size(pred))\n",
    "    println(pred)\n",
    "end\n",
    "# println(size(col.eval.prediction_model.means))\n",
    "# println(size(features))\n",
    "# normalize_input!(col.eval.prediction_model, features)\n",
    "# println(\"predict\")\n",
    "prediction = predict(col.eval.prediction_model, features)"
   ]
  },
  {
   "cell_type": "code",
   "execution_count": null,
   "metadata": {
    "collapsed": false
   },
   "outputs": [],
   "source": [
    "println(size(prediction))"
   ]
  },
  {
   "cell_type": "code",
   "execution_count": null,
   "metadata": {
    "collapsed": false
   },
   "outputs": [],
   "source": [
    "carcolors = Dict{Int,Colorant}()\n",
    "@manipulate for veh_idx in 1:col.scene.n_vehicles,\n",
    "                zoom in collect(1.:2:20.),\n",
    "                tidx in collect(1:5)\n",
    "    for (idx, veh) in enumerate(col.scene)\n",
    "        carcolors[veh.def.id] = convert(RGB, HSV(prediction[tidx, idx] * 180, 0.85, 0.85))\n",
    "    end\n",
    "    cam = CarFollowCamera(colscene[veh_idx].def.id, zoom)\n",
    "    render(col.scene, col.roadway, cam = cam, car_colors = carcolors)\n",
    "end"
   ]
  },
  {
   "cell_type": "code",
   "execution_count": null,
   "metadata": {
    "collapsed": true
   },
   "outputs": [],
   "source": [
    "# function build_collector(flags)\n",
    "#     num_scenarios = flags[\"num_scenarios\"]\n",
    "#     output_filepath = flags[\"output_filepath\"]\n",
    "#     feature_dim = flags[\"feature_dim\"]\n",
    "#     target_dim = flags[\"target_dim\"]\n",
    "#     chunk_dim = flags[\"chunk_dim\"]\n",
    "#     roadway_length = flags[\"roadway_length\"]\n",
    "#     roadway_radius = flags[\"roadway_radius\"]\n",
    "#     min_num_veh = flags[\"min_num_vehicles\"]\n",
    "#     max_num_veh = flags[\"max_num_vehicles\"]\n",
    "#     min_base_speed = flags[\"min_base_speed\"]\n",
    "#     max_base_speed = flags[\"max_base_speed\"]\n",
    "#     min_vehicle_length = flags[\"min_vehicle_length\"]\n",
    "#     max_vehicle_length = flags[\"max_vehicle_length\"]\n",
    "#     min_vehicle_width = flags[\"min_vehicle_width\"]\n",
    "#     max_vehicle_width = flags[\"max_vehicle_width\"]\n",
    "#     min_init_dist = flags[\"min_init_dist\"]\n",
    "#     num_lanes = flags[\"num_lanes\"]\n",
    "#     prime_time = flags[\"prime_time\"]\n",
    "#     sampling_time = flags[\"sampling_time\"]\n",
    "#     sampling_period = flags[\"sampling_period\"]\n",
    "#     num_runs = flags[\"num_monte_carlo_runs\"]\n",
    "#     veh_idx_can_change = false\n",
    "#     max_num_samples = flags[\"num_scenarios\"] * max_num_veh \n",
    "#     delayed_response = flags[\"delayed_response\"]\n",
    "#     evaluator_type = flags[\"evaluator_type\"]\n",
    "#     network_filepath = flags[\"network_filepath\"]\n",
    "#     sim_time = sampling_time + prime_time\n",
    "\n",
    "#     # roadway gen\n",
    "#     roadway = gen_stadium_roadway(num_lanes, length = roadway_length, radius = roadway_radius, ncurvepts_per_turn = 30)\n",
    "#     roadway_gen = StaticRoadwayGenerator(roadway)\n",
    "\n",
    "#     # scene gen\n",
    "#     scene = Scene(max_num_veh)\n",
    "#     scene_gen = HeuristicSceneGenerator(\n",
    "#         min_num_veh, \n",
    "#         max_num_veh, \n",
    "#         min_base_speed,\n",
    "#         max_base_speed,\n",
    "#         min_vehicle_length,\n",
    "#         max_vehicle_length,\n",
    "#         min_vehicle_width, \n",
    "#         max_vehicle_width,\n",
    "#         min_init_dist)\n",
    "    \n",
    "#     # behavior gen\n",
    "#     params = [get_aggressive_behavior_params(deterministic = false, delayed_response = delayed_response),\n",
    "#         get_passive_behavior_params(deterministic = false, delayed_response = delayed_response), \n",
    "#         get_normal_behavior_params(deterministic = false, delayed_response = delayed_response)]\n",
    "#     weights = WeightVec([.2,.3,.5])\n",
    "#     context = IntegratedContinuous(sampling_period, 1)\n",
    "#     behavior_gen = PredefinedBehaviorGenerator(context, params, weights)\n",
    "#     models = Dict{Int, DriverModel}()\n",
    "    \n",
    "#     # evaluator\n",
    "#     max_num_scenes = Int((prime_time + sampling_time) / sampling_period)\n",
    "#     rec = SceneRecord(max_num_scenes, sampling_period, max_num_veh)\n",
    "#     features = Array{Float64}(feature_dim, max_num_veh)\n",
    "#     targets = Array{Float64}(target_dim, max_num_veh)\n",
    "#     agg_targets = Array{Float64}(target_dim, max_num_veh)\n",
    "#     if evaluator_type == \"bootstrap\"\n",
    "#         prediction_model = Network(network_filepath)\n",
    "#         eval = BootstrappingMonteCarloEvaluator(num_runs, context, prime_time,\n",
    "#             sampling_time, veh_idx_can_change, rec, features, targets, \n",
    "#             agg_targets, prediction_model)\n",
    "#     else\n",
    "#         eval = MonteCarloEvaluator(num_runs, context, prime_time, sampling_time,\n",
    "#         veh_idx_can_change, rec, features, targets, agg_targets)\n",
    "#     end\n",
    "\n",
    "#     # dataset\n",
    "#     dataset = Dataset(output_filepath, feature_dim, target_dim,\n",
    "#         max_num_samples, chunk_dim = chunk_dim, init_file = false)\n",
    "\n",
    "#     # collector\n",
    "#     seeds = collect(1:num_scenarios)\n",
    "#     col = DatasetCollector(seeds, roadway_gen, scene_gen, behavior_gen, eval,\n",
    "#         dataset, scene, models, roadway)\n",
    "    \n",
    "#     return col\n",
    "# end"
   ]
  },
  {
   "cell_type": "code",
   "execution_count": null,
   "metadata": {
    "collapsed": true
   },
   "outputs": [],
   "source": [
    "# function precompute(col::DatasetCollector, seed::Int64)\n",
    "#     # reset\n",
    "#     reset!(col, seed)\n",
    "#     empty!(col.eval.rec)\n",
    "    \n",
    "#     # prime\n",
    "#     simulate!(col.scene, col.models, col.roadway, col.eval.rec, col.eval.prime_time)\n",
    "    \n",
    "#     # extract features \n",
    "#     extract_features!(col.eval.rec, col.roadway, col.models, col.eval.features)\n",
    "    \n",
    "#     # sample\n",
    "#     empty!(col.eval.veh_id_to_idx)\n",
    "#     get_veh_id_to_idx(col.scene, col.eval.veh_id_to_idx)\n",
    "#     prime_idx = col.eval.rec.nscenes\n",
    "#     simulate!(col.scene, col.models, col.roadway, col.eval.rec, \n",
    "#         col.eval.sampling_time)\n",
    "    \n",
    "#     # extract targets\n",
    "#     past_idx = col.eval.rec.nscenes - prime_idx\n",
    "#     extract_targets!(col.eval.rec, col.roadway, col.eval.targets, \n",
    "#         col.eval.veh_id_to_idx, col.eval.veh_idx_can_change, past_idx)\n",
    "    \n",
    "# end"
   ]
  }
 ],
 "metadata": {
  "anaconda-cloud": {},
  "kernelspec": {
   "display_name": "Julia 0.5.0",
   "language": "julia",
   "name": "julia-0.5"
  },
  "language_info": {
   "file_extension": ".jl",
   "mimetype": "application/julia",
   "name": "julia",
   "version": "0.5.0"
  },
  "widgets": {
   "state": {
    "001a52ab-06ef-46b2-96c8-76cbeb1af64c": {
     "views": [
      {
       "cell_index": 4
      }
     ]
    },
    "0507c04a-6cc2-4618-832c-9ac6215b95b5": {
     "views": [
      {
       "cell_index": 4
      }
     ]
    },
    "05f0ae01-a979-44b2-aad3-b701aa95801c": {
     "views": [
      {
       "cell_index": 4
      }
     ]
    },
    "105f8c2c-006d-4e50-8605-64ced07f993c": {
     "views": [
      {
       "cell_index": 4
      }
     ]
    },
    "1201fafd-4674-449f-ac78-83d6deabf4c8": {
     "views": [
      {
       "cell_index": 4
      }
     ]
    },
    "14e4da84-3201-4ea2-9689-657604711b0b": {
     "views": [
      {
       "cell_index": 4
      }
     ]
    },
    "18fde114-5b6b-40ee-9e26-d06a7322c730": {
     "views": [
      {
       "cell_index": 4
      }
     ]
    },
    "1b793835-187f-44f6-808a-4f3e3331c579": {
     "views": [
      {
       "cell_index": 4
      }
     ]
    },
    "2173d36b-e973-4597-a841-ec54a5070d2d": {
     "views": [
      {
       "cell_index": 4
      }
     ]
    },
    "2d5d3e72-c5c4-46b8-8864-4fded48fb85b": {
     "views": [
      {
       "cell_index": 4
      }
     ]
    },
    "30e59b6c-28bf-4035-9b48-920cd348e008": {
     "views": [
      {
       "cell_index": 4
      }
     ]
    },
    "325cbe23-e2c7-4ff6-90b6-b59df97ec7d1": {
     "views": [
      {
       "cell_index": 4
      }
     ]
    },
    "401f59e0-e70a-4132-aa85-7100d5a63b6a": {
     "views": [
      {
       "cell_index": 4
      }
     ]
    },
    "435aff6b-3ca4-43db-8c8e-0dd9401e0df3": {
     "views": [
      {
       "cell_index": 4
      }
     ]
    },
    "4d270c08-a46e-4522-9891-0606a2e4beff": {
     "views": [
      {
       "cell_index": 4
      }
     ]
    },
    "4fb44c1c-8fc7-484a-b64f-85ba2a1f7201": {
     "views": [
      {
       "cell_index": 4
      }
     ]
    },
    "53519e1b-e322-4c7a-9ab3-fb8d88a6b60e": {
     "views": [
      {
       "cell_index": 4
      }
     ]
    },
    "574cc422-63f6-45d1-9c6d-13cc9733ca27": {
     "views": [
      {
       "cell_index": 4
      }
     ]
    },
    "59630159-a99a-43e8-90a5-4e2e0ae26b2c": {
     "views": [
      {
       "cell_index": 4
      }
     ]
    },
    "5c53e5ef-c3a8-4e0b-9e21-7092925cd2b2": {
     "views": [
      {
       "cell_index": 4
      }
     ]
    },
    "62560a98-5c30-4808-abcb-c5bfc75fd670": {
     "views": [
      {
       "cell_index": 4
      }
     ]
    },
    "669b7303-cafa-4df2-bac9-18d87d93b439": {
     "views": [
      {
       "cell_index": 4
      }
     ]
    },
    "67d00fde-a4f8-4a15-b636-735078f3713d": {
     "views": [
      {
       "cell_index": 4
      }
     ]
    },
    "68eb1ba6-1951-457a-904f-2e9bdae33065": {
     "views": [
      {
       "cell_index": 4
      }
     ]
    },
    "75410603-fdca-4c15-8491-d95ef97508fc": {
     "views": [
      {
       "cell_index": 4
      }
     ]
    },
    "7add3137-776b-4dca-98d7-5b0ce2542971": {
     "views": [
      {
       "cell_index": 4
      }
     ]
    },
    "7e8c346e-ddb9-4561-b6d7-cb4137037295": {
     "views": [
      {
       "cell_index": 4
      }
     ]
    },
    "8043db88-4192-484e-a1e7-e4264e5f53c5": {
     "views": [
      {
       "cell_index": 4
      }
     ]
    },
    "8151a518-569a-42f1-81b0-a3d2dc3a6fc5": {
     "views": [
      {
       "cell_index": 4
      }
     ]
    },
    "8560156d-0929-4eba-863b-50206cb597b8": {
     "views": [
      {
       "cell_index": 4
      }
     ]
    },
    "88c48360-1864-4c1f-bda5-bbe43508c7e4": {
     "views": [
      {
       "cell_index": 4
      }
     ]
    },
    "8ae1cc5c-ade9-4b4e-9c3c-bf0077a0461e": {
     "views": [
      {
       "cell_index": 4
      }
     ]
    },
    "8d379cb4-af46-4fba-b06a-f7e689f601f7": {
     "views": [
      {
       "cell_index": 4
      }
     ]
    },
    "952dabd1-65d8-42ef-b375-cfa1a613622d": {
     "views": [
      {
       "cell_index": 4
      }
     ]
    },
    "baee45e3-4bf3-48cc-b4bf-f7efe805f421": {
     "views": [
      {
       "cell_index": 4
      }
     ]
    },
    "bf4588cb-f32e-4aa5-a956-6f8885e022b9": {
     "views": [
      {
       "cell_index": 4
      }
     ]
    },
    "bfc37ebb-2c87-4f38-b0dc-512625444e47": {
     "views": [
      {
       "cell_index": 4
      }
     ]
    },
    "c4ff384f-f7c8-458b-8322-609fde11033f": {
     "views": [
      {
       "cell_index": 4
      }
     ]
    },
    "c658e13a-6eba-4a45-ab6f-42d5ab7db378": {
     "views": [
      {
       "cell_index": 4
      }
     ]
    },
    "d52fc0af-b904-4ace-b0b9-3bfecbf7ad75": {
     "views": [
      {
       "cell_index": 4
      }
     ]
    },
    "dfffe640-99d0-4dae-a4c6-ea863dbb0a18": {
     "views": [
      {
       "cell_index": 4
      }
     ]
    },
    "e8674d75-0213-44e2-bb41-a99a90bef122": {
     "views": [
      {
       "cell_index": 4
      }
     ]
    },
    "ed28d9c8-98ad-44e9-84b4-0955273187d1": {
     "views": [
      {
       "cell_index": 4
      }
     ]
    },
    "f26a6134-7095-4543-9a3e-4ebfe5674a63": {
     "views": [
      {
       "cell_index": 4
      }
     ]
    },
    "fc3a9841-bd4b-4a1a-9f6f-4070b0d52e68": {
     "views": [
      {
       "cell_index": 4
      }
     ]
    }
   },
   "version": "1.2.0"
  }
 },
 "nbformat": 4,
 "nbformat_minor": 1
}
