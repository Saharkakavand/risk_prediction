{
 "cells": [
  {
   "cell_type": "code",
   "execution_count": 1,
   "metadata": {
    "collapsed": false
   },
   "outputs": [
    {
     "data": {
      "text/html": [
       "<div id=\"interact-js-shim\">\n",
       "    <script charset=\"utf-8\">\n",
       "(function (IPython, $, _, MathJax) {\n",
       "    $.event.special.destroyed = {\n",
       "\tremove: function(o) {\n",
       "\t    if (o.handler) {\n",
       "\t\to.handler.apply(this, arguments)\n",
       "\t    }\n",
       "\t}\n",
       "    }\n",
       "\n",
       "    var OutputArea = IPython.version >= \"4.0.0\" ? require(\"notebook/js/outputarea\").OutputArea : IPython.OutputArea;\n",
       "\n",
       "    var redrawValue = function (container, type, val) {\n",
       "\tvar selector = $(\"<div/>\");\n",
       "\tvar oa = new OutputArea(_.extend(selector, {\n",
       "\t    selector: selector,\n",
       "\t    prompt_area: true,\n",
       "\t    events: IPython.events,\n",
       "\t    keyboard_manager: IPython.keyboard_manager\n",
       "\t})); // Hack to work with IPython 2.1.0\n",
       "\n",
       "\tswitch (type) {\n",
       "\tcase \"image/png\":\n",
       "            var _src = 'data:' + type + ';base64,' + val;\n",
       "\t    $(container).find(\"img\").attr('src', _src);\n",
       "\t    break;\n",
       "\tcase \"text/latex\":\n",
       "\t\tif (MathJax){\n",
       "\t\t\tvar math = MathJax.Hub.getAllJax(container)[0];\n",
       "\t\t\tMathJax.Hub.Queue([\"Text\", math, val.replace(/^\\${1,2}|\\${1,2}$/g, '')]);\n",
       "\t\t\tbreak;\n",
       "\t\t}\n",
       "\tdefault:\n",
       "\t    var toinsert = OutputArea.append_map[type].apply(\n",
       "\t\toa, [val, {}, selector]\n",
       "\t    );\n",
       "\t    $(container).empty().append(toinsert.contents());\n",
       "\t    selector.remove();\n",
       "\t}\n",
       "    }\n",
       "\n",
       "\n",
       "    $(document).ready(function() {\n",
       "\tfunction initComm(evt, data) {\n",
       "\t    var comm_manager = data.kernel.comm_manager;\n",
       "        //_.extend(comm_manager.targets, require(\"widgets/js/widget\"))\n",
       "\t    comm_manager.register_target(\"Signal\", function (comm) {\n",
       "            comm.on_msg(function (msg) {\n",
       "                var val = msg.content.data.value;\n",
       "                $(\".signal-\" + comm.comm_id).each(function() {\n",
       "                var type = $(this).data(\"type\");\n",
       "                if (typeof(val[type]) !== \"undefined\" && val[type] !== null) {\n",
       "                    redrawValue(this, type, val[type], type);\n",
       "                }\n",
       "                });\n",
       "                delete val;\n",
       "                delete msg.content.data.value;\n",
       "            });\n",
       "\t    });\n",
       "\n",
       "\t    // coordingate with Comm and redraw Signals\n",
       "\t    // XXX: Test using Reactive here to improve performance\n",
       "\t    $([IPython.events]).on(\n",
       "\t\t'output_appended.OutputArea', function (event, type, value, md, toinsert) {\n",
       "\t\t    if (md && md.reactive) {\n",
       "                // console.log(md.comm_id);\n",
       "                toinsert.addClass(\"signal-\" + md.comm_id);\n",
       "                toinsert.data(\"type\", type);\n",
       "                // Signal back indicating the mimetype required\n",
       "                var comm_manager = IPython.notebook.kernel.comm_manager;\n",
       "                var comm = comm_manager.comms[md.comm_id];\n",
       "                comm.then(function (c) {\n",
       "                    c.send({action: \"subscribe_mime\",\n",
       "                       mime: type});\n",
       "                    toinsert.bind(\"destroyed\", function() {\n",
       "                        c.send({action: \"unsubscribe_mime\",\n",
       "                               mime: type});\n",
       "                    });\n",
       "                })\n",
       "\t\t    }\n",
       "\t    });\n",
       "\t}\n",
       "\n",
       "\ttry {\n",
       "\t    // try to initialize right away. otherwise, wait on the status_started event.\n",
       "\t    initComm(undefined, IPython.notebook);\n",
       "\t} catch (e) {\n",
       "\t    $([IPython.events]).on('kernel_created.Kernel kernel_created.Session', initComm);\n",
       "\t}\n",
       "    });\n",
       "})(IPython, jQuery, _, MathJax);\n",
       "</script>\n",
       "    <script>\n",
       "        window.interactLoadedFlag = true\n",
       "       $(\"#interact-js-shim\").bind(\"destroyed\", function () {\n",
       "           if (window.interactLoadedFlag) {\n",
       "               console.warn(\"JavaScript required by Interact will be removed if you remove this cell or run using Interact more than once.\")\n",
       "           }\n",
       "       })\n",
       "       $([IPython.events]).on(\"kernel_starting.Kernel kernel_restarting.Kernel\", function () { window.interactLoadedFlag = false })\n",
       "   </script>\n",
       "</div>"
      ]
     },
     "metadata": {},
     "output_type": "display_data"
    }
   ],
   "source": [
    "using AutoRisk\n",
    "using AutoViz\n",
    "using CommandLineFlags\n",
    "using Interact\n",
    "using Reel\n",
    "Reel.set_output_type(\"gif\");\n",
    "include(\"../collection/collect_dataset.jl\");"
   ]
  },
  {
   "cell_type": "code",
   "execution_count": 2,
   "metadata": {
    "collapsed": false,
    "scrolled": false
   },
   "outputs": [],
   "source": [
    "# extract config from dataset\n",
    "dataset_filepath = \"../../data/experiments/debug/data/subselect_prediction_data.h5\"\n",
    "flags = h5readattr(dataset_filepath, \"risk\")\n",
    "fixup_types!(flags)\n",
    "flags[\"num_monte_carlo_runs\"] = 1\n",
    "col = build_dataset_collector(\"\", flags);"
   ]
  },
  {
   "cell_type": "code",
   "execution_count": 3,
   "metadata": {
    "collapsed": false,
    "scrolled": true
   },
   "outputs": [],
   "source": [
    "# set config manually - I'd say if you're not sure, prob don't change or run this\n",
    "# include(\"../collection/heuristic_dataset_config.jl\")\n",
    "# parse_flags!(FLAGS, [])\n",
    "# FLAGS[\"num_monte_carlo_runs\"] = 1\n",
    "# FLAGS[\"prime_time\"] = 10.\n",
    "# FLAGS[\"sampling_time\"] = 5.\n",
    "# # FLAGS[\"roadway_type\"] = \"straight\"\n",
    "# # FLAGS[\"roadway_length\"] = 10000.\n",
    "# # FLAGS[\"roadway_length\"] =  1000.\n",
    "# # FLAGS[\"roadway_type\"] =  \"straight\"\n",
    "# # FLAGS[\"min_num_vehicles\"] =  200\n",
    "# # FLAGS[\"max_num_vehicles\"] =  200\n",
    "# # FLAGS[\"min_base_speed\"] =  10.\n",
    "# # FLAGS[\"max_base_speed\"] =  10.\n",
    "# # FLAGS[\"min_init_dist\"] =  15.\n",
    "# # FLAGS[\"overall_response_time\"] = 0.2\n",
    "# # FLAGS[\"lon_response_time\"] = 0.2\n",
    "# FLAGS[\"err_p_a_to_i\"] =  0.05\n",
    "# FLAGS[\"err_p_i_to_a\"] =  0.3\n",
    "# # FLAGS[\"min_init_dist\"] =  15.\n",
    "# # FLAGS[\"max_init_dist\"] =  5.\n",
    "# # FLAGS[\"num_lanes\"] = 3\n",
    "# # FLAGS[\"behavior_type\"] = \"heuristic\"\n",
    "# # FLAGS[\"driver_network_filepath\"] = \"../../data/policies/gail_gru.h5\"\n",
    "# FLAGS[\"extractor_type\"] =  \"multi\"\n",
    "# FLAGS[\"extract_road_lidar\"] =  false\n",
    "# col = build_dataset_collector(\"\", FLAGS);\n"
   ]
  },
  {
   "cell_type": "code",
   "execution_count": 4,
   "metadata": {
    "collapsed": false
   },
   "outputs": [],
   "source": [
    "function Base.show(col::DatasetCollector, seed::Int; target_idx::Int = 1)\n",
    "    if target_idx <= size(col.eval.targets, 1)\n",
    "        # this is labeled collisions, but can be any target, selected by target_idx\n",
    "        in_collision_veh_idxs = find(col.eval.targets[target_idx,:] .== 1.)\n",
    "    else\n",
    "        in_collision_veh_idxs = []\n",
    "    end\n",
    "    \n",
    "    # if no collisions then still display the scene, but change car colors\n",
    "    collisions_exist = in_collision_veh_idxs == [] ? false : true\n",
    "    collision_color = collisions_exist ? colorant\"red\" : colorant\"orange\"\n",
    "    if !collisions_exist\n",
    "        in_collision_veh_idxs = sort(collect(values(col.eval.veh_id_to_idx)))\n",
    "    end\n",
    "    \n",
    "    # prepare film for save case\n",
    "    frames = Frames(MIME(\"image/png\"), fps=10)\n",
    "    \n",
    "    # display the record\n",
    "    @manipulate for follow_veh_idx in in_collision_veh_idxs,\n",
    "                zoom in collect(1.:2:20.),\n",
    "                i in 1:(col.eval.rec.nframes),\n",
    "                save in [false, true],\n",
    "                clear in [false, true]\n",
    "        \n",
    "        i -= 1\n",
    "        # set camera\n",
    "        follow_veh_id = -1\n",
    "        if follow_veh_idx == 0\n",
    "            cam = FitToContentCamera()\n",
    "        else\n",
    "            for (veh_id, veh_idx) in col.eval.veh_id_to_idx\n",
    "                if veh_idx == follow_veh_idx\n",
    "                    follow_veh_id = veh_id\n",
    "                    break\n",
    "                end\n",
    "            end\n",
    "            cam = AutoViz.CarFollowCamera{Int}(follow_veh_id, zoom)\n",
    "        end\n",
    "\n",
    "        # render scene\n",
    "        idx = -(col.eval.rec.nframes - i) + 1\n",
    "        carcolors = Dict{Int,Colorant}()\n",
    "        for veh in col.eval.rec[idx]\n",
    "            carcolors[veh.id] = veh.id == follow_veh_id ? collision_color : colorant\"green\"\n",
    "        end\n",
    "        mlane = 0\n",
    "        if typeof(col.models[follow_veh_id]) == DelayedDriver\n",
    "            mlane = col.models[follow_veh_id].driver.mlane\n",
    "        elseif typeof(col.models[follow_veh_id]) == Tim2DDriver\n",
    "            mlane = col.models[follow_veh_id].mlane\n",
    "        else\n",
    "            mlane = nothing\n",
    "        end\n",
    "        \n",
    "        stats = follow_veh_id == -1 ? [] : [\n",
    "            CarFollowingStatsOverlay(follow_veh_id, 2), \n",
    "            NeighborsOverlay(follow_veh_id, textparams = TextParams(x = 600, y_start=300))]\n",
    "        \n",
    "        if false && mlane != nothing && typeof(mlane) == MOBIL\n",
    "            push!(stats, MOBILOverlay(follow_veh_id, mlane))\n",
    "        end\n",
    "        \n",
    "        frame = render(col.eval.rec[idx], col.roadway, stats,\n",
    "            cam = cam, car_colors = carcolors)\n",
    "        push!(frames, frame)\n",
    "        \n",
    "        # to use the save, move around the slider above and collect some frames to write\n",
    "        # then switch to save, then switch off save\n",
    "        # this will write the frames, and then clear them\n",
    "        if save\n",
    "            filename = \"seed_$(seed)_veh_id_$(follow_veh_idx)_target_$(target_idx)\"\n",
    "            write(\"../../data/visualizations/outputs/$(filename).gif\", frames)\n",
    "            frames = Frames(MIME(\"image/png\"), fps=2)\n",
    "        end\n",
    "        \n",
    "        # to clear frames without saving them set this to true then false\n",
    "        if clear\n",
    "            frames = Frames(MIME(\"image/png\"), fps=10)\n",
    "        end\n",
    "        \n",
    "        frame\n",
    "    end\n",
    "\n",
    "end"
   ]
  },
  {
   "cell_type": "code",
   "execution_count": 7,
   "metadata": {
    "collapsed": false
   },
   "outputs": [
    {
     "ename": "LoadError",
     "evalue": "BoundsError: attempt to access 90-element Array{Distributions.Categorical{Float64},1} at index [10,3,1,1]",
     "output_type": "error",
     "traceback": [
      "BoundsError: attempt to access 90-element Array{Distributions.Categorical{Float64},1} at index [10,3,1,1]",
      "",
      " in getindex(::Array{Distributions.Categorical{Float64},1}, ::Int64, ::Int64, ::Int64, ::Int64, ::Vararg{Int64,N}) at ./array.jl:387",
      " in CategoricalCPD at /Users/wulfebw/.julia/v0.5/BayesNets/src/CPDs/categorical_cpd.jl:59 [inlined]",
      " in rand(::BayesNets.CPDs.CategoricalCPD{Distributions.Categorical{Float64}}, ::Dict{Symbol,Any}) at /Users/wulfebw/.julia/v0.5/BayesNets/src/CPDs/cpds.jl:99",
      " in rand!(::Dict{Symbol,Any}, ::BayesNets.BayesNet{BayesNets.CPDs.CategoricalCPD{Distributions.Categorical{Float64}}}, ::Dict{Symbol,Any}) at /Users/wulfebw/Dropbox/School/Stanford/research/risk/AutoRisk.jl/src/generation/bayes_net_lane_generator.jl:28",
      " in rand!(::AutoRisk.BayesNetLaneGenerator, ::AutomotiveDrivingModels.Roadway, ::Records.Frame{Records.Entity{AutomotiveDrivingModels.VehicleState,AutomotiveDrivingModels.VehicleDef,Int64}}, ::Dict{Int64,AutomotiveDrivingModels.DriverModel}, ::Int64) at /Users/wulfebw/Dropbox/School/Stanford/research/risk/AutoRisk.jl/src/generation/bayes_net_lane_generator.jl:224",
      " in rand!(::AutoRisk.DatasetCollector, ::Int64) at /Users/wulfebw/Dropbox/School/Stanford/research/risk/AutoRisk.jl/src/collection/dataset_collector.jl:43"
     ]
    }
   ],
   "source": [
    "seed = 1283245\n",
    "rand!(col, seed)\n",
    "evaluate!(col.eval, col.scene, col.models, col.roadway, seed);"
   ]
  },
  {
   "cell_type": "code",
   "execution_count": 6,
   "metadata": {
    "collapsed": false,
    "scrolled": false
   },
   "outputs": [
    {
     "ename": "LoadError",
     "evalue": "ArgumentError: collection must be non-empty",
     "output_type": "error",
     "traceback": [
      "ArgumentError: collection must be non-empty",
      "",
      " in first(::Base.KeyIterator{DataStructures.OrderedDict{Any,Any}}) at ./abstractarray.jl:133",
      " in (::Core.#kw#Type)(::Array{Any,1}, ::Type{Interact.Options}, ::Symbol, ::Interact.OptionDict) at ./<missing>:0",
      " in #Options#20(::Array{Any,1}, ::Type{T}, ::Symbol, ::Array{Int64,1}) at /Users/wulfebw/.julia/v0.5/Interact/src/widgets.jl:358",
      " in (::Core.#kw#Type)(::Array{Any,1}, ::Type{Interact.Options}, ::Symbol, ::Array{Int64,1}) at ./<missing>:0",
      " in #togglebuttons#25(::Array{Any,1}, ::Function, ::Array{Int64,1}) at /Users/wulfebw/.julia/v0.5/Interact/src/widgets.jl:418",
      " in (::Interact.#kw##togglebuttons)(::Array{Any,1}, ::Interact.#togglebuttons, ::Array{Int64,1}) at ./<missing>:0",
      " in widget(::Array{Int64,1}, ::String) at /Users/wulfebw/.julia/v0.5/Interact/src/widgets.jl:494",
      " in #show#29(::Int64, ::Function, ::AutoRisk.DatasetCollector, ::Int64) at ./In[4]:20",
      " in (::Base.#kw##show)(::Array{Any,1}, ::Base.#show, ::AutoRisk.DatasetCollector, ::Int64) at ./<missing>:0"
     ]
    }
   ],
   "source": [
    "show(col, seed, target_idx = 4)"
   ]
  },
  {
   "cell_type": "code",
   "execution_count": null,
   "metadata": {
    "collapsed": false
   },
   "outputs": [],
   "source": [
    "println(col.models[2])"
   ]
  },
  {
   "cell_type": "code",
   "execution_count": null,
   "metadata": {
    "collapsed": false
   },
   "outputs": [],
   "source": [
    "println(mean(col.eval.agg_targets, 2))"
   ]
  },
  {
   "cell_type": "code",
   "execution_count": null,
   "metadata": {
    "collapsed": false
   },
   "outputs": [],
   "source": [
    "println(mean(col.eval.features, 3))"
   ]
  }
 ],
 "metadata": {
  "anaconda-cloud": {},
  "kernelspec": {
   "display_name": "Julia 0.5.1",
   "language": "julia",
   "name": "julia-0.5"
  },
  "language_info": {
   "file_extension": ".jl",
   "mimetype": "application/julia",
   "name": "julia",
   "version": "0.5.1"
  }
 },
 "nbformat": 4,
 "nbformat_minor": 1
}
