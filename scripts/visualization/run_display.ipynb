{
 "cells": [
  {
   "cell_type": "code",
   "execution_count": 1,
   "metadata": {
    "collapsed": false
   },
   "outputs": [
    {
     "data": {
      "text/html": [
       "<div id=\"interact-js-shim\">\n",
       "    <script charset=\"utf-8\">\n",
       "(function (IPython, $, _, MathJax) {\n",
       "    $.event.special.destroyed = {\n",
       "\tremove: function(o) {\n",
       "\t    if (o.handler) {\n",
       "\t\to.handler.apply(this, arguments)\n",
       "\t    }\n",
       "\t}\n",
       "    }\n",
       "\n",
       "    var OutputArea = IPython.version >= \"4.0.0\" ? require(\"notebook/js/outputarea\").OutputArea : IPython.OutputArea;\n",
       "\n",
       "    var redrawValue = function (container, type, val) {\n",
       "\tvar selector = $(\"<div/>\");\n",
       "\tvar oa = new OutputArea(_.extend(selector, {\n",
       "\t    selector: selector,\n",
       "\t    prompt_area: true,\n",
       "\t    events: IPython.events,\n",
       "\t    keyboard_manager: IPython.keyboard_manager\n",
       "\t})); // Hack to work with IPython 2.1.0\n",
       "\n",
       "\tswitch (type) {\n",
       "\tcase \"image/png\":\n",
       "            var _src = 'data:' + type + ';base64,' + val;\n",
       "\t    $(container).find(\"img\").attr('src', _src);\n",
       "\t    break;\n",
       "\tcase \"text/latex\":\n",
       "\t\tif (MathJax){\n",
       "\t\t\tvar math = MathJax.Hub.getAllJax(container)[0];\n",
       "\t\t\tMathJax.Hub.Queue([\"Text\", math, val.replace(/^\\${1,2}|\\${1,2}$/g, '')]);\n",
       "\t\t\tbreak;\n",
       "\t\t}\n",
       "\tdefault:\n",
       "\t    var toinsert = OutputArea.append_map[type].apply(\n",
       "\t\toa, [val, {}, selector]\n",
       "\t    );\n",
       "\t    $(container).empty().append(toinsert.contents());\n",
       "\t    selector.remove();\n",
       "\t}\n",
       "    }\n",
       "\n",
       "\n",
       "    $(document).ready(function() {\n",
       "\tfunction initComm(evt, data) {\n",
       "\t    var comm_manager = data.kernel.comm_manager;\n",
       "        //_.extend(comm_manager.targets, require(\"widgets/js/widget\"))\n",
       "\t    comm_manager.register_target(\"Signal\", function (comm) {\n",
       "            comm.on_msg(function (msg) {\n",
       "                var val = msg.content.data.value;\n",
       "                $(\".signal-\" + comm.comm_id).each(function() {\n",
       "                var type = $(this).data(\"type\");\n",
       "                if (typeof(val[type]) !== \"undefined\" && val[type] !== null) {\n",
       "                    redrawValue(this, type, val[type], type);\n",
       "                }\n",
       "                });\n",
       "                delete val;\n",
       "                delete msg.content.data.value;\n",
       "            });\n",
       "\t    });\n",
       "\n",
       "\t    // coordingate with Comm and redraw Signals\n",
       "\t    // XXX: Test using Reactive here to improve performance\n",
       "\t    $([IPython.events]).on(\n",
       "\t\t'output_appended.OutputArea', function (event, type, value, md, toinsert) {\n",
       "\t\t    if (md && md.reactive) {\n",
       "                // console.log(md.comm_id);\n",
       "                toinsert.addClass(\"signal-\" + md.comm_id);\n",
       "                toinsert.data(\"type\", type);\n",
       "                // Signal back indicating the mimetype required\n",
       "                var comm_manager = IPython.notebook.kernel.comm_manager;\n",
       "                var comm = comm_manager.comms[md.comm_id];\n",
       "                comm.then(function (c) {\n",
       "                    c.send({action: \"subscribe_mime\",\n",
       "                       mime: type});\n",
       "                    toinsert.bind(\"destroyed\", function() {\n",
       "                        c.send({action: \"unsubscribe_mime\",\n",
       "                               mime: type});\n",
       "                    });\n",
       "                })\n",
       "\t\t    }\n",
       "\t    });\n",
       "\t}\n",
       "\n",
       "\ttry {\n",
       "\t    // try to initialize right away. otherwise, wait on the status_started event.\n",
       "\t    initComm(undefined, IPython.notebook);\n",
       "\t} catch (e) {\n",
       "\t    $([IPython.events]).on('kernel_created.Kernel kernel_created.Session', initComm);\n",
       "\t}\n",
       "    });\n",
       "})(IPython, jQuery, _, MathJax);\n",
       "</script>\n",
       "    <script>\n",
       "        window.interactLoadedFlag = true\n",
       "       $(\"#interact-js-shim\").bind(\"destroyed\", function () {\n",
       "           if (window.interactLoadedFlag) {\n",
       "               console.warn(\"JavaScript required by Interact will be removed if you remove this cell or run using Interact more than once.\")\n",
       "           }\n",
       "       })\n",
       "       $([IPython.events]).on(\"kernel_starting.Kernel kernel_restarting.Kernel\", function () { window.interactLoadedFlag = false })\n",
       "   </script>\n",
       "</div>"
      ]
     },
     "metadata": {},
     "output_type": "display_data"
    }
   ],
   "source": [
    "using AutoRisk\n",
    "using AutoViz\n",
    "using Reel\n",
    "Reel.set_output_type(\"gif\");\n",
    "include(\"../collection/collect_heuristic_dataset.jl\");"
   ]
  },
  {
   "cell_type": "code",
   "execution_count": 2,
   "metadata": {
    "collapsed": false
   },
   "outputs": [],
   "source": [
    "# extract config from dataset\n",
    "# dataset_filepath = \"../../data/datasets/march/risk_5_sec_3_timesteps.h5\"\n",
    "dataset_filepath = \"../../data/datasets/test.h5\"\n",
    "flags = h5readattr(dataset_filepath, \"risk\")\n",
    "fixup_types!(flags)\n",
    "flags[\"num_monte_carlo_runs\"] = 1\n",
    "col = build_dataset_collector(\"\", flags);"
   ]
  },
  {
   "cell_type": "code",
   "execution_count": null,
   "metadata": {
    "collapsed": false,
    "scrolled": true
   },
   "outputs": [],
   "source": [
    "# set config manually\n",
    "include(\"../collection/heuristic_dataset_config.jl\")\n",
    "parse_flags!(FLAGS, [])\n",
    "FLAGS[\"num_monte_carlo_runs\"] = 1\n",
    "FLAGS[\"prime_time\"] = 10.\n",
    "FLAGS[\"sampling_time\"] = 5.\n",
    "# FLAGS[\"roadway_type\"] = \"straight\"\n",
    "# FLAGS[\"roadway_length\"] = 10000.\n",
    "# FLAGS[\"roadway_length\"] =  1000.\n",
    "# FLAGS[\"roadway_type\"] =  \"straight\"\n",
    "# FLAGS[\"min_num_vehicles\"] =  200\n",
    "# FLAGS[\"max_num_vehicles\"] =  200\n",
    "# FLAGS[\"min_base_speed\"] =  10.\n",
    "# FLAGS[\"max_base_speed\"] =  10.\n",
    "# FLAGS[\"min_init_dist\"] =  15.\n",
    "# FLAGS[\"overall_response_time\"] = 0.2\n",
    "# FLAGS[\"lon_response_time\"] = 0.2\n",
    "FLAGS[\"err_p_a_to_i\"] =  0.05\n",
    "FLAGS[\"err_p_i_to_a\"] =  0.3\n",
    "# FLAGS[\"min_init_dist\"] =  15.\n",
    "# FLAGS[\"max_init_dist\"] =  5.\n",
    "# FLAGS[\"num_lanes\"] = 3\n",
    "# FLAGS[\"behavior_type\"] = \"heuristic\"\n",
    "# FLAGS[\"driver_network_filepath\"] = \"../../data/policies/gail_gru.h5\"\n",
    "FLAGS[\"extractor_type\"] =  \"multi\"\n",
    "FLAGS[\"extract_road_lidar\"] =  false\n",
    "col = build_dataset_collector(\"\", FLAGS);\n"
   ]
  },
  {
   "cell_type": "code",
   "execution_count": 3,
   "metadata": {
    "collapsed": false
   },
   "outputs": [],
   "source": [
    "function Base.show(col::DatasetCollector, seed::Int; target_idx::Int = 1)\n",
    "    if target_idx <= size(col.eval.targets, 1)\n",
    "        # this is labeled collisions, but can be any target, selected by target_idx\n",
    "        in_collision_veh_idxs = find(col.eval.targets[target_idx,:] .== 1.)\n",
    "    else\n",
    "        in_collision_veh_idxs = []\n",
    "    end\n",
    "    \n",
    "    # if no collisions then still display the scene, but change car colors\n",
    "    collisions_exist = in_collision_veh_idxs == [] ? false : true\n",
    "    collision_color = collisions_exist ? colorant\"red\" : colorant\"orange\"\n",
    "    if !collisions_exist\n",
    "        in_collision_veh_idxs = sort(collect(values(col.eval.veh_id_to_idx)))\n",
    "    end\n",
    "    \n",
    "    # prepare film for save case\n",
    "    frames = Frames(MIME(\"image/png\"), fps=10)\n",
    "    \n",
    "    # display the record\n",
    "    @manipulate for follow_veh_idx in in_collision_veh_idxs,\n",
    "                zoom in collect(1.:2:20.),\n",
    "                i in 1:(col.eval.rec.nscenes),\n",
    "                save in [false, true],\n",
    "                clear in [false, true]\n",
    "        \n",
    "        i -= 1\n",
    "        # set camera\n",
    "        follow_veh_id = -1\n",
    "        if follow_veh_idx == 0\n",
    "            cam = FitToContentCamera()\n",
    "        else\n",
    "            for (veh_id, veh_idx) in col.eval.veh_id_to_idx\n",
    "                if veh_idx == follow_veh_idx\n",
    "                    follow_veh_id = veh_id\n",
    "                    break\n",
    "                end\n",
    "            end\n",
    "            cam = CarFollowCamera(follow_veh_id, zoom)\n",
    "        end\n",
    "\n",
    "        # render scene\n",
    "        idx = -(col.eval.rec.nscenes - i) + 1\n",
    "        carcolors = Dict{Int,Colorant}()\n",
    "        for veh in get_scene(col.eval.rec, idx)\n",
    "            carcolors[veh.def.id] = veh.def.id == follow_veh_id ? collision_color : colorant\"green\"\n",
    "        end\n",
    "        mlane = 0\n",
    "        if typeof(col.models[follow_veh_id]) == DelayedDriver\n",
    "            mlane = col.models[follow_veh_id].driver.mlane\n",
    "        elseif typeof(col.models[follow_veh_id]) == Tim2DDriver\n",
    "            mlane = col.models[follow_veh_id].mlane\n",
    "        else\n",
    "            mlane = nothing\n",
    "        end\n",
    "        \n",
    "        stats = follow_veh_id == -1 ? [] : [\n",
    "            CarFollowingStatsOverlay(follow_veh_id, 2), \n",
    "            NeighborsOverlay(follow_veh_id, textparams = TextParams(x = 600, y_start=300))]\n",
    "        \n",
    "        if mlane != nothing && typeof(mlane) == MOBIL\n",
    "            push!(stats, MOBILOverlay(follow_veh_id, mlane))\n",
    "        end\n",
    "        \n",
    "        frame = render(get_scene(col.eval.rec, idx), col.roadway, stats,\n",
    "            cam = cam, car_colors = carcolors)\n",
    "        push!(frames, frame)\n",
    "        \n",
    "        # to use the save, move around the slider above and collect some frames to write\n",
    "        # then switch to save, then switch off save\n",
    "        # this will write the frames, and then clear them\n",
    "        if save\n",
    "            filename = \"seed_$(seed)_veh_id_$(follow_veh_idx)_target_$(target_idx)\"\n",
    "            write(\"../../data/visualizations/outputs/$(filename).gif\", frames)\n",
    "            frames = Frames(MIME(\"image/png\"), fps=2)\n",
    "        end\n",
    "        \n",
    "        # to clear frames without saving them set this to true then false\n",
    "        if clear\n",
    "            frames = Frames(MIME(\"image/png\"), fps=10)\n",
    "        end\n",
    "        \n",
    "        frame\n",
    "    end\n",
    "\n",
    "end"
   ]
  },
  {
   "cell_type": "code",
   "execution_count": 6,
   "metadata": {
    "collapsed": false
   },
   "outputs": [],
   "source": [
    "seed = 6\n",
    "rand!(col, seed)\n",
    "evaluate!(col.eval, col.scene, col.models, col.roadway, seed);"
   ]
  },
  {
   "cell_type": "code",
   "execution_count": 7,
   "metadata": {
    "collapsed": false,
    "scrolled": false
   },
   "outputs": [
    {
     "data": {
      "text/html": [],
      "text/plain": [
       "Interact.Options{:ToggleButtons,Int64}(Signal{Int64}(9, nactions=1),\"follow_veh_idx\",9,\"9\",Interact.OptionDict(DataStructures.OrderedDict(\"9\"=>9,\"18\"=>18,\"19\"=>19,\"36\"=>36,\"54\"=>54,\"59\"=>59,\"60\"=>60,\"61\"=>61,\"76\"=>76,\"81\"=>81…),Dict(54=>\"54\",121=>\"121\",81=>\"81\",89=>\"89\",96=>\"96\",166=>\"166\",9=>\"9\",133=>\"133\",60=>\"60\",187=>\"187\"…)),Any[],Any[],true,\"horizontal\")"
      ]
     },
     "metadata": {},
     "output_type": "display_data"
    },
    {
     "data": {
      "text/html": [],
      "text/plain": [
       "Interact.Options{:ToggleButtons,Float64}(Signal{Float64}(1.0, nactions=1),\"zoom\",1.0,\"1.0\",Interact.OptionDict(DataStructures.OrderedDict(\"1.0\"=>1.0,\"3.0\"=>3.0,\"5.0\"=>5.0,\"7.0\"=>7.0,\"9.0\"=>9.0,\"11.0\"=>11.0,\"13.0\"=>13.0,\"15.0\"=>15.0,\"17.0\"=>17.0,\"19.0\"=>19.0…),Dict(7.0=>\"7.0\",9.0=>\"9.0\",13.0=>\"13.0\",3.0=>\"3.0\",19.0=>\"19.0\",17.0=>\"17.0\",11.0=>\"11.0\",5.0=>\"5.0\",15.0=>\"15.0\",1.0=>\"1.0\"…)),Any[],Any[],true,\"horizontal\")"
      ]
     },
     "metadata": {},
     "output_type": "display_data"
    },
    {
     "data": {
      "text/html": [],
      "text/plain": [
       "Interact.Options{:SelectionSlider,Int64}(Signal{Int64}(75, nactions=1),\"i\",75,\"75\",Interact.OptionDict(DataStructures.OrderedDict(\"1\"=>1,\"2\"=>2,\"3\"=>3,\"4\"=>4,\"5\"=>5,\"6\"=>6,\"7\"=>7,\"8\"=>8,\"9\"=>9,\"10\"=>10…),Dict(68=>\"68\",148=>\"148\",124=>\"124\",2=>\"2\",89=>\"89\",11=>\"11\",39=>\"39\",46=>\"46\",85=>\"85\",134=>\"134\"…)),Any[],Any[],true,\"horizontal\")"
      ]
     },
     "metadata": {},
     "output_type": "display_data"
    },
    {
     "data": {
      "text/html": [],
      "text/plain": [
       "Interact.Options{:ToggleButtons,Bool}(Signal{Bool}(false, nactions=1),\"save\",false,\"false\",Interact.OptionDict(DataStructures.OrderedDict(\"false\"=>false,\"true\"=>true),Dict(false=>\"false\",true=>\"true\")),Any[],Any[],true,\"horizontal\")"
      ]
     },
     "metadata": {},
     "output_type": "display_data"
    },
    {
     "data": {
      "text/html": [],
      "text/plain": [
       "Interact.Options{:ToggleButtons,Bool}(Signal{Bool}(false, nactions=1),\"clear\",false,\"false\",Interact.OptionDict(DataStructures.OrderedDict(\"false\"=>false,\"true\"=>true),Dict(false=>\"false\",true=>\"true\")),Any[],Any[],true,\"horizontal\")"
      ]
     },
     "metadata": {},
     "output_type": "display_data"
    },
    {
     "data": {
      "image/png": "[encoded data removed]",
      "text/plain": [
       "Cairo.CairoSurface{UInt32}(Ptr{Void} @0x00007fc49e832770,1000.0,600.0,#undef)"
      ]
     },
     "execution_count": 7,
     "metadata": {
      "comm_id": "67adc3ce-10de-4f92-8e43-bb514c7ac2e3",
      "reactive": true
     },
     "output_type": "execute_result"
    }
   ],
   "source": [
    "show(col, seed, target_idx = 2)"
   ]
  },
  {
   "cell_type": "code",
   "execution_count": null,
   "metadata": {
    "collapsed": true
   },
   "outputs": [],
   "source": []
  },
  {
   "cell_type": "code",
   "execution_count": null,
   "metadata": {
    "collapsed": false
   },
   "outputs": [],
   "source": [
    "println(mean(col.eval.agg_targets, 2))"
   ]
  },
  {
   "cell_type": "code",
   "execution_count": null,
   "metadata": {
    "collapsed": false
   },
   "outputs": [],
   "source": [
    "println(mean(col.eval.features, 3))"
   ]
  },
  {
   "cell_type": "code",
   "execution_count": null,
   "metadata": {
    "collapsed": false
   },
   "outputs": [],
   "source": [
    "println(mean(col.eval.features[:,1:length(col.scene)], 2))\n",
    "println(mean(col.eval.targets[:,1:length(col.scene)], 2))\n",
    "println(col.eval.features[:,114])\n",
    "println(col.eval.num_veh)"
   ]
  },
  {
   "cell_type": "code",
   "execution_count": null,
   "metadata": {
    "collapsed": false
   },
   "outputs": [],
   "source": [
    "function AutoRisk.normalize_input!(network::Network, input::Array{Float64})\n",
    "    println(\"normalize\")\n",
    "    input .-= network.means\n",
    "    input ./= network.stds\n",
    "end\n",
    "\n",
    "function AutoRisk.fprop_network(network::Network, input::Array{Float64})\n",
    "    # fprop through network\n",
    "    num_layers = length(network.weights)\n",
    "    state = input\n",
    "    for lidx in 1:num_layers\n",
    "        state = state * network.weights[lidx] .+ network.biases[lidx]\n",
    "        if lidx != num_layers\n",
    "            # mutates state\n",
    "            network.nonlinearity(state)\n",
    "        end\n",
    "    end\n",
    "    return sigmoid(state)\n",
    "end"
   ]
  },
  {
   "cell_type": "code",
   "execution_count": null,
   "metadata": {
    "collapsed": false
   },
   "outputs": [],
   "source": [
    "seed = 1\n",
    "reset!(col, seed)\n",
    "extract_features!(col.eval.rec, col.roadway, col.models, col.eval.prediction_features)\n",
    "input_dim = size(col.eval.prediction_features, 1)\n",
    "for vidx in 1:size(features, 2)\n",
    "    println(size(features[:, vidx]))\n",
    "    pred = predict(col.eval.prediction_model,  reshape(features[:, vidx], (1, input_dim)))\n",
    "    println(size(pred))\n",
    "    println(pred)\n",
    "end\n",
    "# println(size(col.eval.prediction_model.means))\n",
    "# println(size(features))\n",
    "# normalize_input!(col.eval.prediction_model, features)\n",
    "# println(\"predict\")\n",
    "prediction = predict(col.eval.prediction_model, features)"
   ]
  },
  {
   "cell_type": "code",
   "execution_count": null,
   "metadata": {
    "collapsed": false
   },
   "outputs": [],
   "source": [
    "println(size(prediction))"
   ]
  },
  {
   "cell_type": "code",
   "execution_count": null,
   "metadata": {
    "collapsed": false
   },
   "outputs": [],
   "source": [
    "carcolors = Dict{Int,Colorant}()\n",
    "@manipulate for veh_idx in 1:col.scene.n_vehicles,\n",
    "                zoom in collect(1.:2:20.),\n",
    "                tidx in collect(1:5)\n",
    "    for (idx, veh) in enumerate(col.scene)\n",
    "        carcolors[veh.def.id] = convert(RGB, HSV(prediction[tidx, idx] * 180, 0.85, 0.85))\n",
    "    end\n",
    "    cam = CarFollowCamera(colscene[veh_idx].def.id, zoom)\n",
    "    render(col.scene, col.roadway, cam = cam, car_colors = carcolors)\n",
    "end"
   ]
  },
  {
   "cell_type": "code",
   "execution_count": null,
   "metadata": {
    "collapsed": true
   },
   "outputs": [],
   "source": [
    "# function build_collector(flags)\n",
    "#     num_scenarios = flags[\"num_scenarios\"]\n",
    "#     output_filepath = flags[\"output_filepath\"]\n",
    "#     feature_dim = flags[\"feature_dim\"]\n",
    "#     target_dim = flags[\"target_dim\"]\n",
    "#     chunk_dim = flags[\"chunk_dim\"]\n",
    "#     roadway_length = flags[\"roadway_length\"]\n",
    "#     roadway_radius = flags[\"roadway_radius\"]\n",
    "#     min_num_veh = flags[\"min_num_vehicles\"]\n",
    "#     max_num_veh = flags[\"max_num_vehicles\"]\n",
    "#     min_base_speed = flags[\"min_base_speed\"]\n",
    "#     max_base_speed = flags[\"max_base_speed\"]\n",
    "#     min_vehicle_length = flags[\"min_vehicle_length\"]\n",
    "#     max_vehicle_length = flags[\"max_vehicle_length\"]\n",
    "#     min_vehicle_width = flags[\"min_vehicle_width\"]\n",
    "#     max_vehicle_width = flags[\"max_vehicle_width\"]\n",
    "#     min_init_dist = flags[\"min_init_dist\"]\n",
    "#     num_lanes = flags[\"num_lanes\"]\n",
    "#     prime_time = flags[\"prime_time\"]\n",
    "#     sampling_time = flags[\"sampling_time\"]\n",
    "#     sampling_period = flags[\"sampling_period\"]\n",
    "#     num_runs = flags[\"num_monte_carlo_runs\"]\n",
    "#     veh_idx_can_change = false\n",
    "#     max_num_samples = flags[\"num_scenarios\"] * max_num_veh \n",
    "#     delayed_response = flags[\"delayed_response\"]\n",
    "#     evaluator_type = flags[\"evaluator_type\"]\n",
    "#     network_filepath = flags[\"network_filepath\"]\n",
    "#     sim_time = sampling_time + prime_time\n",
    "\n",
    "#     # roadway gen\n",
    "#     roadway = gen_stadium_roadway(num_lanes, length = roadway_length, radius = roadway_radius, ncurvepts_per_turn = 30)\n",
    "#     roadway_gen = StaticRoadwayGenerator(roadway)\n",
    "\n",
    "#     # scene gen\n",
    "#     scene = Scene(max_num_veh)\n",
    "#     scene_gen = HeuristicSceneGenerator(\n",
    "#         min_num_veh, \n",
    "#         max_num_veh, \n",
    "#         min_base_speed,\n",
    "#         max_base_speed,\n",
    "#         min_vehicle_length,\n",
    "#         max_vehicle_length,\n",
    "#         min_vehicle_width, \n",
    "#         max_vehicle_width,\n",
    "#         min_init_dist)\n",
    "    \n",
    "#     # behavior gen\n",
    "#     params = [get_aggressive_behavior_params(deterministic = false, delayed_response = delayed_response),\n",
    "#         get_passive_behavior_params(deterministic = false, delayed_response = delayed_response), \n",
    "#         get_normal_behavior_params(deterministic = false, delayed_response = delayed_response)]\n",
    "#     weights = WeightVec([.2,.3,.5])\n",
    "#     context = IntegratedContinuous(sampling_period, 1)\n",
    "#     behavior_gen = PredefinedBehaviorGenerator(context, params, weights)\n",
    "#     models = Dict{Int, DriverModel}()\n",
    "    \n",
    "#     # evaluator\n",
    "#     max_num_scenes = Int((prime_time + sampling_time) / sampling_period)\n",
    "#     rec = SceneRecord(max_num_scenes, sampling_period, max_num_veh)\n",
    "#     features = Array{Float64}(feature_dim, max_num_veh)\n",
    "#     targets = Array{Float64}(target_dim, max_num_veh)\n",
    "#     agg_targets = Array{Float64}(target_dim, max_num_veh)\n",
    "#     if evaluator_type == \"bootstrap\"\n",
    "#         prediction_model = Network(network_filepath)\n",
    "#         eval = BootstrappingMonteCarloEvaluator(num_runs, context, prime_time,\n",
    "#             sampling_time, veh_idx_can_change, rec, features, targets, \n",
    "#             agg_targets, prediction_model)\n",
    "#     else\n",
    "#         eval = MonteCarloEvaluator(num_runs, context, prime_time, sampling_time,\n",
    "#         veh_idx_can_change, rec, features, targets, agg_targets)\n",
    "#     end\n",
    "\n",
    "#     # dataset\n",
    "#     dataset = Dataset(output_filepath, feature_dim, target_dim,\n",
    "#         max_num_samples, chunk_dim = chunk_dim, init_file = false)\n",
    "\n",
    "#     # collector\n",
    "#     seeds = collect(1:num_scenarios)\n",
    "#     col = DatasetCollector(seeds, roadway_gen, scene_gen, behavior_gen, eval,\n",
    "#         dataset, scene, models, roadway)\n",
    "    \n",
    "#     return col\n",
    "# end"
   ]
  },
  {
   "cell_type": "code",
   "execution_count": null,
   "metadata": {
    "collapsed": true
   },
   "outputs": [],
   "source": [
    "# function precompute(col::DatasetCollector, seed::Int64)\n",
    "#     # reset\n",
    "#     reset!(col, seed)\n",
    "#     empty!(col.eval.rec)\n",
    "    \n",
    "#     # prime\n",
    "#     simulate!(col.scene, col.models, col.roadway, col.eval.rec, col.eval.prime_time)\n",
    "    \n",
    "#     # extract features \n",
    "#     extract_features!(col.eval.rec, col.roadway, col.models, col.eval.features)\n",
    "    \n",
    "#     # sample\n",
    "#     empty!(col.eval.veh_id_to_idx)\n",
    "#     get_veh_id_to_idx(col.scene, col.eval.veh_id_to_idx)\n",
    "#     prime_idx = col.eval.rec.nscenes\n",
    "#     simulate!(col.scene, col.models, col.roadway, col.eval.rec, \n",
    "#         col.eval.sampling_time)\n",
    "    \n",
    "#     # extract targets\n",
    "#     past_idx = col.eval.rec.nscenes - prime_idx\n",
    "#     extract_targets!(col.eval.rec, col.roadway, col.eval.targets, \n",
    "#         col.eval.veh_id_to_idx, col.eval.veh_idx_can_change, past_idx)\n",
    "    \n",
    "# end"
   ]
  }
 ],
 "metadata": {
  "anaconda-cloud": {},
  "kernelspec": {
   "display_name": "Julia 0.5.0",
   "language": "julia",
   "name": "julia-0.5"
  },
  "language_info": {
   "file_extension": ".jl",
   "mimetype": "application/julia",
   "name": "julia",
   "version": "0.5.0"
  },
  "widgets": {
   "state": {
    "00afa6c6-1f82-4630-ab25-c7eb70c38321": {
     "views": [
      {
       "cell_index": 5
      }
     ]
    },
    "07b87ee3-7a87-4eac-af2c-d8d42386c36a": {
     "views": [
      {
       "cell_index": 5
      }
     ]
    },
    "0a2652d1-835f-4963-8927-2aa42199ae15": {
     "views": [
      {
       "cell_index": 5
      }
     ]
    },
    "0d22278b-b59d-4ac7-83e6-18a6a262d2b1": {
     "views": [
      {
       "cell_index": 5
      }
     ]
    },
    "0eb082c5-e18b-47f4-863f-dd2c0363eb3b": {
     "views": [
      {
       "cell_index": 5
      }
     ]
    },
    "1bad0d84-d3cf-409e-a8f5-316515b5c573": {
     "views": [
      {
       "cell_index": 5
      }
     ]
    },
    "20446238-28a6-459a-8a9a-bcee2c7242c0": {
     "views": [
      {
       "cell_index": 5
      }
     ]
    },
    "234a80cb-4389-46ae-b34b-035da54a377e": {
     "views": [
      {
       "cell_index": 5
      }
     ]
    },
    "24e2a3da-90ad-43cd-aa03-b893934bdfd5": {
     "views": [
      {
       "cell_index": 5
      }
     ]
    },
    "26a8468a-5928-48b7-be37-bc7896c17d3a": {
     "views": [
      {
       "cell_index": 5
      }
     ]
    },
    "2fe24978-a0ac-4cb5-925c-890fc8c61827": {
     "views": [
      {
       "cell_index": 5
      }
     ]
    },
    "3e4529cf-fa7e-466f-af51-af943312a145": {
     "views": [
      {
       "cell_index": 5
      }
     ]
    },
    "403c690a-0d13-4a2e-b09b-b108d1c81ca3": {
     "views": [
      {
       "cell_index": 5
      }
     ]
    },
    "4ab4c7f1-4fc7-4681-8aec-644cdae181cf": {
     "views": [
      {
       "cell_index": 5
      }
     ]
    },
    "4c7c03a8-9be7-4379-a6ef-9795aec6eb49": {
     "views": [
      {
       "cell_index": 5
      }
     ]
    },
    "56272fdc-980e-48cc-8b12-30d0e7974eca": {
     "views": [
      {
       "cell_index": 5
      }
     ]
    },
    "5cfd3ce7-8c20-46e7-a0cf-bca9cfd183d0": {
     "views": [
      {
       "cell_index": 5
      }
     ]
    },
    "6090d621-58a5-43cd-a67c-a55678a05259": {
     "views": [
      {
       "cell_index": 5
      }
     ]
    },
    "67d30653-f3e8-4f2a-a4d3-45d4ae7662c4": {
     "views": [
      {
       "cell_index": 5
      }
     ]
    },
    "74365163-3258-4034-8190-3d8ddcca882a": {
     "views": [
      {
       "cell_index": 5
      }
     ]
    },
    "7ba0522e-a818-4171-8edf-ccb951b2edfe": {
     "views": [
      {
       "cell_index": 5
      }
     ]
    },
    "809df386-c4c7-41ac-9650-b4845f3ef163": {
     "views": [
      {
       "cell_index": 5
      }
     ]
    },
    "82e7349b-eaf2-4488-90ba-d270de8bc97f": {
     "views": [
      {
       "cell_index": 5
      }
     ]
    },
    "84dc3f61-fc69-4302-8807-be4342e963d8": {
     "views": [
      {
       "cell_index": 5
      }
     ]
    },
    "88a7b33c-5fde-40e5-9a21-f0f75cb2b10a": {
     "views": [
      {
       "cell_index": 5
      }
     ]
    },
    "8f36fe90-7ebd-4c27-ac22-244d71876bad": {
     "views": [
      {
       "cell_index": 5
      }
     ]
    },
    "99a44329-3f56-45f4-b15b-36938f72175d": {
     "views": [
      {
       "cell_index": 5
      }
     ]
    },
    "a0c809df-8387-487a-91b0-e687abf517a4": {
     "views": [
      {
       "cell_index": 5
      }
     ]
    },
    "a245d7cd-4f95-4e46-a84d-96b9eaf5062c": {
     "views": [
      {
       "cell_index": 5
      }
     ]
    },
    "a4f7a0f8-f59b-4659-bac2-1e6d4e2678bf": {
     "views": [
      {
       "cell_index": 5
      }
     ]
    },
    "af796210-8430-49b5-b2f8-5cfdf81e9467": {
     "views": [
      {
       "cell_index": 5
      }
     ]
    },
    "afbabf56-d322-4305-b21b-8af11adb4b69": {
     "views": [
      {
       "cell_index": 5
      }
     ]
    },
    "c004038c-5841-43e1-b48f-66f674c9c86e": {
     "views": [
      {
       "cell_index": 5
      }
     ]
    },
    "c2df6e17-2a14-404a-80c5-bb551e3cb396": {
     "views": [
      {
       "cell_index": 5
      }
     ]
    },
    "c7ed92a0-d334-4f90-9649-6c3b8841096c": {
     "views": [
      {
       "cell_index": 5
      }
     ]
    },
    "c9b347c8-e89d-48cf-a931-70fb5a96e08a": {
     "views": [
      {
       "cell_index": 5
      }
     ]
    },
    "d2ad386b-7ec8-43ca-af0a-7bfa87ffece2": {
     "views": [
      {
       "cell_index": 5
      }
     ]
    },
    "d93332bb-e004-47a1-80a0-4c71133be744": {
     "views": [
      {
       "cell_index": 5
      }
     ]
    },
    "de7f6c23-0629-458e-a7e7-0547575c0154": {
     "views": [
      {
       "cell_index": 5
      }
     ]
    },
    "e561eb32-d3a9-41d0-a13a-2a2f2123c760": {
     "views": [
      {
       "cell_index": 5
      }
     ]
    },
    "e6d64cc8-9e97-4241-9616-bd921d422962": {
     "views": [
      {
       "cell_index": 5
      }
     ]
    }
   },
   "version": "1.2.0"
  }
 },
 "nbformat": 4,
 "nbformat_minor": 1
}
