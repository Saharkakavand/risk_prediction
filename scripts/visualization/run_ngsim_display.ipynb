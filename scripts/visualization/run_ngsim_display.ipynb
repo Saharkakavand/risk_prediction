{
 "cells": [
  {
   "cell_type": "code",
   "execution_count": 1,
   "metadata": {
    "collapsed": false
   },
   "outputs": [
    {
     "data": {
      "text/html": [
       "<div id=\"interact-js-shim\">\n",
       "    <script charset=\"utf-8\">\n",
       "(function (IPython, $, _, MathJax) {\n",
       "    $.event.special.destroyed = {\n",
       "\tremove: function(o) {\n",
       "\t    if (o.handler) {\n",
       "\t\to.handler.apply(this, arguments)\n",
       "\t    }\n",
       "\t}\n",
       "    }\n",
       "\n",
       "    var OutputArea = IPython.version >= \"4.0.0\" ? require(\"notebook/js/outputarea\").OutputArea : IPython.OutputArea;\n",
       "\n",
       "    var redrawValue = function (container, type, val) {\n",
       "\tvar selector = $(\"<div/>\");\n",
       "\tvar oa = new OutputArea(_.extend(selector, {\n",
       "\t    selector: selector,\n",
       "\t    prompt_area: true,\n",
       "\t    events: IPython.events,\n",
       "\t    keyboard_manager: IPython.keyboard_manager\n",
       "\t})); // Hack to work with IPython 2.1.0\n",
       "\n",
       "\tswitch (type) {\n",
       "\tcase \"image/png\":\n",
       "            var _src = 'data:' + type + ';base64,' + val;\n",
       "\t    $(container).find(\"img\").attr('src', _src);\n",
       "\t    break;\n",
       "\tcase \"text/latex\":\n",
       "\t\tif (MathJax){\n",
       "\t\t\tvar math = MathJax.Hub.getAllJax(container)[0];\n",
       "\t\t\tMathJax.Hub.Queue([\"Text\", math, val.replace(/^\\${1,2}|\\${1,2}$/g, '')]);\n",
       "\t\t\tbreak;\n",
       "\t\t}\n",
       "\tdefault:\n",
       "\t    var toinsert = OutputArea.append_map[type].apply(\n",
       "\t\toa, [val, {}, selector]\n",
       "\t    );\n",
       "\t    $(container).empty().append(toinsert.contents());\n",
       "\t    selector.remove();\n",
       "\t}\n",
       "    }\n",
       "\n",
       "\n",
       "    $(document).ready(function() {\n",
       "\tfunction initComm(evt, data) {\n",
       "\t    var comm_manager = data.kernel.comm_manager;\n",
       "        //_.extend(comm_manager.targets, require(\"widgets/js/widget\"))\n",
       "\t    comm_manager.register_target(\"Signal\", function (comm) {\n",
       "            comm.on_msg(function (msg) {\n",
       "                var val = msg.content.data.value;\n",
       "                $(\".signal-\" + comm.comm_id).each(function() {\n",
       "                var type = $(this).data(\"type\");\n",
       "                if (typeof(val[type]) !== \"undefined\" && val[type] !== null) {\n",
       "                    redrawValue(this, type, val[type], type);\n",
       "                }\n",
       "                });\n",
       "                delete val;\n",
       "                delete msg.content.data.value;\n",
       "            });\n",
       "\t    });\n",
       "\n",
       "\t    // coordingate with Comm and redraw Signals\n",
       "\t    // XXX: Test using Reactive here to improve performance\n",
       "\t    $([IPython.events]).on(\n",
       "\t\t'output_appended.OutputArea', function (event, type, value, md, toinsert) {\n",
       "\t\t    if (md && md.reactive) {\n",
       "                // console.log(md.comm_id);\n",
       "                toinsert.addClass(\"signal-\" + md.comm_id);\n",
       "                toinsert.data(\"type\", type);\n",
       "                // Signal back indicating the mimetype required\n",
       "                var comm_manager = IPython.notebook.kernel.comm_manager;\n",
       "                var comm = comm_manager.comms[md.comm_id];\n",
       "                comm.then(function (c) {\n",
       "                    c.send({action: \"subscribe_mime\",\n",
       "                       mime: type});\n",
       "                    toinsert.bind(\"destroyed\", function() {\n",
       "                        c.send({action: \"unsubscribe_mime\",\n",
       "                               mime: type});\n",
       "                    });\n",
       "                })\n",
       "\t\t    }\n",
       "\t    });\n",
       "\t}\n",
       "\n",
       "\ttry {\n",
       "\t    // try to initialize right away. otherwise, wait on the status_started event.\n",
       "\t    initComm(undefined, IPython.notebook);\n",
       "\t} catch (e) {\n",
       "\t    $([IPython.events]).on('kernel_created.Kernel kernel_created.Session', initComm);\n",
       "\t}\n",
       "    });\n",
       "})(IPython, jQuery, _, MathJax);\n",
       "</script>\n",
       "    <script>\n",
       "        window.interactLoadedFlag = true\n",
       "       $(\"#interact-js-shim\").bind(\"destroyed\", function () {\n",
       "           if (window.interactLoadedFlag) {\n",
       "               console.warn(\"JavaScript required by Interact will be removed if you remove this cell or run using Interact more than once.\")\n",
       "           }\n",
       "       })\n",
       "       $([IPython.events]).on(\"kernel_starting.Kernel kernel_restarting.Kernel\", function () { window.interactLoadedFlag = false })\n",
       "   </script>\n",
       "</div>"
      ]
     },
     "metadata": {},
     "output_type": "display_data"
    }
   ],
   "source": [
    "using AutoRisk\n",
    "using AutoViz\n",
    "using Interact\n",
    "using CommandLineFlags\n",
    "using NGSIM\n",
    "using Reel\n",
    "Reel.set_output_type(\"gif\");\n",
    "include(\"../collection/collect_heuristic_dataset.jl\");"
   ]
  },
  {
   "cell_type": "code",
   "execution_count": 2,
   "metadata": {
    "collapsed": false
   },
   "outputs": [
    {
     "data": {
      "text/plain": [
       "\"loaded\""
      ]
     },
     "execution_count": 2,
     "metadata": {},
     "output_type": "execute_result"
    }
   ],
   "source": [
    "# extract config from dataset\n",
    "dataset_filepath = \"../../data/datasets/may/ngsim_1_sec_traj_1.h5\"\n",
    "flags = h5readattr(dataset_filepath, \"risk\")\n",
    "fixup_types!(flags)\n",
    "framecollect = flags[\"framecollect\"]\n",
    "batch_idxs = h5read(dataset_filepath, \"risk/batch_idxs\");\n",
    "\n",
    "# select NGSIM traj\n",
    "traj_id = 1\n",
    "traj = load_trajdata(traj_id)\n",
    "roadway = get_corresponding_roadway(traj_id)\n",
    "\"loaded\""
   ]
  },
  {
   "cell_type": "code",
   "execution_count": 5,
   "metadata": {
    "collapsed": false
   },
   "outputs": [],
   "source": [
    "function Base.show(traj::ListRecord, roadway::Roadway, initial_frame_idx::Int)\n",
    "    # prepare film for save case\n",
    "    frames = Frames(MIME(\"image/png\"), fps=10)\n",
    "    \n",
    "    # load the initial frame and framecollect frames into rec\n",
    "    rec = SceneRecord(500, .1, 500)\n",
    "    scene = Scene(500)\n",
    "    for frame in initial_frame_idx:initial_frame_idx + framecollect\n",
    "        AutomotiveDrivingModels.update!(rec, get!(scene, traj, frame))\n",
    "    end\n",
    "    initial_scene = get!(Scene(500), traj, initial_frame_idx)\n",
    "    n_veh = initial_scene.n\n",
    "    \n",
    "    # display the record\n",
    "    @manipulate for veh_idx in collect(1:n_veh),\n",
    "                zoom in collect(1.:4.:20.),\n",
    "                i in 1:rec.nframes,\n",
    "                save in [false, true],\n",
    "                clear in [false, true]\n",
    "        i -= 1\n",
    "        veh_id = initial_scene[veh_idx].id\n",
    "        \n",
    "        # set camera\n",
    "        cam = AutoViz.CarFollowCamera{Int}(veh_id, zoom)\n",
    "\n",
    "        # render scene\n",
    "        idx = -(rec.nframes - i) + 1\n",
    "        carcolors = Dict{Int,Colorant}()\n",
    "        for veh in rec[idx]\n",
    "            carcolors[veh.id] = veh.id == veh_id ? colorant\"red\" : colorant\"green\"\n",
    "        end\n",
    "\n",
    "        stats = [\n",
    "            CarFollowingStatsOverlay(veh_id, 2), \n",
    "            NeighborsOverlay(veh_id, textparams = TextParams(x = 600, y_start=300))\n",
    "        ]\n",
    "       \n",
    "        frame = render(rec[idx], roadway, stats, cam = cam, car_colors = carcolors)\n",
    "        push!(frames, frame)\n",
    "        \n",
    "        # to use the save, move around the slider above and collect some frames to write\n",
    "        # then switch to save, then switch off save\n",
    "        # this will write the frames, and then clear them\n",
    "        if save\n",
    "            filename = \"seed_$(seed)_veh_id_$(follow_veh_idx)_target_$(target_idx)\"\n",
    "            write(\"../../data/visualizations/outputs/$(filename).gif\", frames)\n",
    "            frames = Frames(MIME(\"image/png\"), fps=2)\n",
    "        end\n",
    "        \n",
    "        # to clear frames without saving them set this to true then false\n",
    "        if clear\n",
    "            frames = Frames(MIME(\"image/png\"), fps=10)\n",
    "        end\n",
    "        \n",
    "        frame\n",
    "    end\n",
    "\n",
    "end"
   ]
  },
  {
   "cell_type": "code",
   "execution_count": 15,
   "metadata": {
    "collapsed": false,
    "scrolled": false
   },
   "outputs": [
    {
     "data": {
      "text/html": [],
      "text/plain": [
       "Interact.Options{:ToggleButtons,Int64}(input-51: Signal{Int64}(1, nactions=1),\"veh_idx\",1,\"1\",Interact.OptionDict(DataStructures.OrderedDict(\"1\"=>1,\"2\"=>2,\"3\"=>3,\"4\"=>4,\"5\"=>5,\"6\"=>6,\"7\"=>7,\"8\"=>8,\"9\"=>9,\"10\"=>10…),Dict(68=>\"68\",124=>\"124\",2=>\"2\",89=>\"89\",11=>\"11\",39=>\"39\",46=>\"46\",85=>\"85\",25=>\"25\",55=>\"55\"…)),Any[],Any[],true,\"horizontal\")"
      ]
     },
     "metadata": {},
     "output_type": "display_data"
    },
    {
     "data": {
      "text/html": [],
      "text/plain": [
       "Interact.Options{:ToggleButtons,Float64}(input-52: Signal{Float64}(1.0, nactions=1),\"zoom\",1.0,\"1.0\",Interact.OptionDict(DataStructures.OrderedDict(\"1.0\"=>1.0,\"5.0\"=>5.0,\"9.0\"=>9.0,\"13.0\"=>13.0,\"17.0\"=>17.0),Dict(9.0=>\"9.0\",13.0=>\"13.0\",17.0=>\"17.0\",5.0=>\"5.0\",1.0=>\"1.0\")),Any[],Any[],true,\"horizontal\")"
      ]
     },
     "metadata": {},
     "output_type": "display_data"
    },
    {
     "data": {
      "text/html": [],
      "text/plain": [
       "Interact.Options{:SelectionSlider,Int64}(input-53: Signal{Int64}(6, nactions=1),\"i\",6,\"6\",Interact.OptionDict(DataStructures.OrderedDict(\"1\"=>1,\"2\"=>2,\"3\"=>3,\"4\"=>4,\"5\"=>5,\"6\"=>6,\"7\"=>7,\"8\"=>8,\"9\"=>9,\"10\"=>10…),Dict(2=>\"2\",11=>\"11\",7=>\"7\",9=>\"9\",10=>\"10\",8=>\"8\",6=>\"6\",4=>\"4\",3=>\"3\",5=>\"5\"…)),Any[],Any[],true,\"horizontal\")"
      ]
     },
     "metadata": {},
     "output_type": "display_data"
    },
    {
     "data": {
      "text/html": [],
      "text/plain": [
       "Interact.Options{:ToggleButtons,Bool}(input-54: Signal{Bool}(false, nactions=1),\"save\",false,\"false\",Interact.OptionDict(DataStructures.OrderedDict(\"false\"=>false,\"true\"=>true),Dict(false=>\"false\",true=>\"true\")),Any[],Any[],true,\"horizontal\")"
      ]
     },
     "metadata": {},
     "output_type": "display_data"
    },
    {
     "data": {
      "text/html": [],
      "text/plain": [
       "Interact.Options{:ToggleButtons,Bool}(input-55: Signal{Bool}(false, nactions=1),\"clear\",false,\"false\",Interact.OptionDict(DataStructures.OrderedDict(\"false\"=>false,\"true\"=>true),Dict(false=>\"false\",true=>\"true\")),Any[],Any[],true,\"horizontal\")"
      ]
     },
     "metadata": {},
     "output_type": "display_data"
    },
    {
     "data": {
      "image/png": "[encoded data removed]",
      "text/plain": [
       "Cairo.CairoSurface{UInt32}(Ptr{Void} @0x00007fd6fdea8a10,1000.0,600.0,#undef)"
      ]
     },
     "execution_count": 15,
     "metadata": {
      "comm_id": "de9e45cb-abbc-4bb3-9ed2-f826b4867c91",
      "reactive": true
     },
     "output_type": "execute_result"
    }
   ],
   "source": [
    "initial_frame_idx = 7350\n",
    "show(traj, roadway, initial_frame_idx)"
   ]
  },
  {
   "cell_type": "code",
   "execution_count": null,
   "metadata": {
    "collapsed": false
   },
   "outputs": [],
   "source": [
    "println(typeof(traj))"
   ]
  },
  {
   "cell_type": "code",
   "execution_count": null,
   "metadata": {
    "collapsed": true
   },
   "outputs": [],
   "source": []
  }
 ],
 "metadata": {
  "anaconda-cloud": {},
  "kernelspec": {
   "display_name": "Julia 0.5.0",
   "language": "julia",
   "name": "julia-0.5"
  },
  "language_info": {
   "file_extension": ".jl",
   "mimetype": "application/julia",
   "name": "julia",
   "version": "0.5.0"
  },
  "widgets": {
   "state": {
    "15a4660c-d291-4a80-baf3-094944e2b4ef": {
     "views": [
      {
       "cell_index": 3
      }
     ]
    },
    "206ff866-6875-4f76-b865-4e80c76abdab": {
     "views": [
      {
       "cell_index": 3
      }
     ]
    },
    "2f704ffe-d0a5-4524-8178-37ba77ca43b9": {
     "views": [
      {
       "cell_index": 3
      }
     ]
    },
    "373a1891-16a0-4833-b651-ce9595755970": {
     "views": [
      {
       "cell_index": 3
      }
     ]
    },
    "39290f65-2b34-4775-99e4-b55802defbb6": {
     "views": [
      {
       "cell_index": 3
      }
     ]
    },
    "4736c32b-b3bc-42b6-9917-437259514427": {
     "views": [
      {
       "cell_index": 3
      }
     ]
    },
    "4d7dc0e3-1f44-4402-a096-6faa41443d6d": {
     "views": [
      {
       "cell_index": 3
      }
     ]
    },
    "5bf2abbb-e272-46af-9026-2001da12ac52": {
     "views": [
      {
       "cell_index": 3
      }
     ]
    },
    "604d6afb-ae5b-4e01-a8de-50af6c120627": {
     "views": [
      {
       "cell_index": 3
      }
     ]
    },
    "67cc1e72-fad4-4ee3-9aca-54e53af0008a": {
     "views": [
      {
       "cell_index": 3
      }
     ]
    },
    "6be6792b-2a6e-4552-a84d-440a9ce11a8e": {
     "views": [
      {
       "cell_index": 3
      }
     ]
    },
    "7797c974-0008-4a4e-9e06-a790c281b1db": {
     "views": [
      {
       "cell_index": 3
      }
     ]
    },
    "7f6370eb-ca66-4fb4-8725-0f4608d16e70": {
     "views": [
      {
       "cell_index": 3
      }
     ]
    },
    "8129e3da-edbb-4705-a45b-2978c51ec0a6": {
     "views": [
      {
       "cell_index": 3
      }
     ]
    },
    "851b60f8-fca5-4380-9f81-e23914bcb4ea": {
     "views": [
      {
       "cell_index": 3
      }
     ]
    },
    "94473340-36ca-43ca-a6c2-9b64c67eabd1": {
     "views": [
      {
       "cell_index": 3
      }
     ]
    },
    "95259708-f64c-47ce-a1fe-784383157bab": {
     "views": [
      {
       "cell_index": 3
      }
     ]
    },
    "9e0d5808-e3ca-4f36-99f2-7fbf794e49a6": {
     "views": [
      {
       "cell_index": 3
      }
     ]
    },
    "a3e0dbb7-2eb3-48c9-b7ca-c26dbda60396": {
     "views": [
      {
       "cell_index": 3
      }
     ]
    },
    "ab8f4593-ca22-4944-9c95-00000499df07": {
     "views": [
      {
       "cell_index": 3
      }
     ]
    },
    "ad2e7c3f-01bd-4659-ab19-b987175267c0": {
     "views": [
      {
       "cell_index": 3
      }
     ]
    },
    "ba0636a7-04fa-4196-b5b3-5be97d881ce2": {
     "views": [
      {
       "cell_index": 3
      }
     ]
    },
    "c553ef05-6889-4aff-af7d-b3922374372d": {
     "views": [
      {
       "cell_index": 3
      }
     ]
    },
    "cdf749d8-9aad-46d4-a455-8d25aed0a735": {
     "views": [
      {
       "cell_index": 3
      }
     ]
    },
    "d6bb3515-87be-4b5d-acf9-23a1d3826e40": {
     "views": [
      {
       "cell_index": 3
      }
     ]
    },
    "d80ac5d7-3ae9-44b4-980b-767522266e8f": {
     "views": [
      {
       "cell_index": 3
      }
     ]
    },
    "e08ed3b3-9b14-4656-9d68-71ba547da2c8": {
     "views": [
      {
       "cell_index": 3
      }
     ]
    },
    "e92220ff-b357-472c-bda4-d709a592e48d": {
     "views": [
      {
       "cell_index": 3
      }
     ]
    },
    "f4fa2da3-5f9e-45f5-8300-9043c78fa2cd": {
     "views": [
      {
       "cell_index": 3
      }
     ]
    },
    "f92e8cb9-9d0c-4f47-89f1-92942eade514": {
     "views": [
      {
       "cell_index": 3
      }
     ]
    },
    "f98b0336-af22-4506-86e7-53a6560e3340": {
     "views": [
      {
       "cell_index": 3
      }
     ]
    },
    "fcef0199-556f-40e5-9dba-75cd496f2d3b": {
     "views": [
      {
       "cell_index": 3
      }
     ]
    },
    "fed3660e-2a4d-4489-9f85-59a41a2e80b4": {
     "views": [
      {
       "cell_index": 3
      }
     ]
    }
   },
   "version": "1.2.0"
  }
 },
 "nbformat": 4,
 "nbformat_minor": 1
}
