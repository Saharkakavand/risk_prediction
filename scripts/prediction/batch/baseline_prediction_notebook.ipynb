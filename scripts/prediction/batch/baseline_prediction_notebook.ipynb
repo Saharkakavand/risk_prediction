{
 "cells": [
  {
   "cell_type": "code",
   "execution_count": 1,
   "metadata": {
    "collapsed": false
   },
   "outputs": [],
   "source": [
    "%matplotlib inline\n",
    "\n",
    "import bisect\n",
    "import collections\n",
    "import h5py\n",
    "import matplotlib.pyplot as plt\n",
    "import numpy as np\n",
    "np.set_printoptions(suppress=True, precision=6)\n",
    "import sklearn.metrics\n",
    "import sys\n",
    "import tensorflow as tf\n",
    "\n",
    "sys.path.append('../../prediction/')\n",
    "sys.path.append('../../prediction/neural_networks/')\n",
    "\n",
    "import batch.dataset_loaders\n",
    "from neural_networks.updated_network import FFNN"
   ]
  },
  {
   "cell_type": "code",
   "execution_count": 2,
   "metadata": {
    "collapsed": false
   },
   "outputs": [],
   "source": [
    "filepath = '../../../data/datasets/oct/subselect_feature_validation_data.h5'\n",
    "data = batch.dataset_loaders.risk_dataset_loader(\n",
    "    filepath, \n",
    "    target_index=4, \n",
    "    timesteps=1, \n",
    "    shuffle=True\n",
    ")\n",
    "data['y_train'] = np.hstack((1-data['y_train'], data['y_train']))\n",
    "data['y_val'] = np.hstack((1-data['y_val'], data['y_val']))\n",
    "ref_data = batch.dataset_loaders.risk_dataset_loader(\n",
    "    filepath, \n",
    "    target_index=4, \n",
    "    timesteps=1, \n",
    "    shuffle=False, \n",
    "    train_split=1.,\n",
    "    mean=data['means'],\n",
    "    std=data['stds']\n",
    ")\n",
    "ref_data['y_train'] = np.hstack((1-ref_data['y_train'], ref_data['y_train']))\n",
    "ref_data['y_val'] = np.hstack((1-ref_data['y_val'], ref_data['y_val']))"
   ]
  },
  {
   "cell_type": "code",
   "execution_count": null,
   "metadata": {
    "collapsed": false
   },
   "outputs": [],
   "source": [
    "data.keys()"
   ]
  },
  {
   "cell_type": "code",
   "execution_count": null,
   "metadata": {
    "collapsed": false
   },
   "outputs": [],
   "source": [
    "data['x_train'].shape"
   ]
  },
  {
   "cell_type": "code",
   "execution_count": null,
   "metadata": {
    "collapsed": false
   },
   "outputs": [],
   "source": [
    "print(data['y_train'].shape)\n",
    "print(np.mean(data['y_train'][:,1]))\n",
    "print(len(np.where(data['y_train'][:,1] > 0)[0]))\n",
    "plt.hist(data['y_val'][:,1])"
   ]
  },
  {
   "cell_type": "code",
   "execution_count": null,
   "metadata": {
    "collapsed": false
   },
   "outputs": [],
   "source": [
    "tf.reset_default_graph()\n",
    "model = FFNN('test', data['x_train'].shape[-1], dropout_keep_prob=.5)\n",
    "sess = tf.InteractiveSession()\n",
    "sess.run(tf.global_variables_initializer())"
   ]
  },
  {
   "cell_type": "code",
   "execution_count": null,
   "metadata": {
    "collapsed": false
   },
   "outputs": [],
   "source": [
    "model.train(data, n_epochs=10)"
   ]
  },
  {
   "cell_type": "code",
   "execution_count": null,
   "metadata": {
    "collapsed": false
   },
   "outputs": [],
   "source": [
    "probs, preds = model.predict(ref_data['x_train'])"
   ]
  },
  {
   "cell_type": "code",
   "execution_count": null,
   "metadata": {
    "collapsed": false
   },
   "outputs": [],
   "source": [
    "# threshold probs\n",
    "thresh = 1e-8\n",
    "probs[probs<thresh] = thresh\n",
    "probs[probs > 1-thresh] = 1-thresh"
   ]
  },
  {
   "cell_type": "code",
   "execution_count": null,
   "metadata": {
    "collapsed": false
   },
   "outputs": [],
   "source": [
    "losses = -np.sum(ref_data['y_train'] * np.log(probs), axis=-1)"
   ]
  },
  {
   "cell_type": "code",
   "execution_count": null,
   "metadata": {
    "collapsed": true
   },
   "outputs": [],
   "source": [
    "def absidx2seedidx(absidx, batch_idxs, seeds):\n",
    "    i = bisect.bisect_left(batch_idxs, absidx)\n",
    "    if len(batch_idxs) > i and absidx == batch_idxs[i]:\n",
    "        i += 1\n",
    "    seed = seeds[i]\n",
    "    if i > 0:\n",
    "        veh_idx = absidx - batch_idxs[i - 1] + 1\n",
    "    else:\n",
    "        veh_idx = absidx + 1\n",
    "    return seed, veh_idx"
   ]
  },
  {
   "cell_type": "code",
   "execution_count": null,
   "metadata": {
    "collapsed": false
   },
   "outputs": [],
   "source": [
    "idxs = list(reversed(np.argsort(losses)))\n",
    "\n",
    "# idxs = list(reversed(np.argsort(losses)))[:5000]\n",
    "# nonzero_idxs = np.where(ref_data['y_train'][:,1]==.0)[0]\n",
    "# idxs = [i for i in idxs if i in nonzero_idxs]\n"
   ]
  },
  {
   "cell_type": "code",
   "execution_count": null,
   "metadata": {
    "collapsed": false
   },
   "outputs": [],
   "source": [
    "print(idxs[:10])\n",
    "print(ref_data['y_train'][idxs][:10])\n",
    "print(probs[idxs][:10])\n",
    "print([absidx2seedidx(i, ref_data['batch_idxs'], ref_data['seeds']) for i in idxs[:10]])"
   ]
  },
  {
   "cell_type": "code",
   "execution_count": null,
   "metadata": {
    "collapsed": false
   },
   "outputs": [],
   "source": [
    "high_idxs = np.where(ref_data['y_train'][:,1] > 0)[0]\n",
    "low_idxs = np.where(ref_data['y_train'][:,1] == 0)[0]\n",
    "plt.figure(figsize=(16,4))\n",
    "plt.subplot(1,2,1)\n",
    "plt.hist(probs[low_idxs,1])\n",
    "plt.subplot(1,2,2)\n",
    "plt.hist(probs[high_idxs,1])"
   ]
  },
  {
   "cell_type": "code",
   "execution_count": 3,
   "metadata": {
    "collapsed": true
   },
   "outputs": [],
   "source": [
    "def compute_loss(probs, true, thresh=1e-8):\n",
    "    probs[probs<thresh] = thresh\n",
    "    probs[probs > 1-thresh] = 1-thresh\n",
    "    losses = -np.sum(true * np.log(probs), axis=-1)\n",
    "    return np.mean(losses)"
   ]
  },
  {
   "cell_type": "code",
   "execution_count": 4,
   "metadata": {
    "collapsed": false,
    "scrolled": false
   },
   "outputs": [
    {
     "name": "stdout",
     "output_type": "stream",
     "text": [
      "1000\n",
      "epoch: 1 / 50 batch: 10 / 10 loss: 0.22051529996097088\n",
      "\n",
      "val epoch: 1 / 50 batch: 280 / 280 loss: 0.17322062630472437\n",
      "\n",
      "epoch: 2 / 50 batch: 10 / 10 loss: 0.13429954871535302\n",
      "\n",
      "val epoch: 2 / 50 batch: 280 / 280 loss: 0.13584996845706232\n",
      "\n",
      "epoch: 3 / 50 batch: 10 / 10 loss: 0.09319524094462395\n",
      "\n",
      "val epoch: 3 / 50 batch: 280 / 280 loss: 0.11735436106765909\n",
      "\n",
      "epoch: 4 / 50 batch: 10 / 10 loss: 0.059293916821479796\n",
      "\n",
      "val epoch: 4 / 50 batch: 280 / 280 loss: 0.12310291929835719\n",
      "\n",
      "epoch: 5 / 50 batch: 10 / 10 loss: 0.04152779951691628\n",
      "\n",
      "val epoch: 5 / 50 batch: 280 / 280 loss: 0.13207692687865347\n",
      "\n",
      "2000\n",
      "epoch: 1 / 50 batch: 20 / 20 loss: 0.2601240176707506\n",
      "\n",
      "val epoch: 1 / 50 batch: 280 / 280 loss: 0.15960588739586196\n",
      "\n",
      "epoch: 2 / 50 batch: 20 / 20 loss: 0.1192370180040598\n",
      "\n",
      "val epoch: 2 / 50 batch: 280 / 280 loss: 0.11963323795768832\n",
      "\n",
      "epoch: 3 / 50 batch: 20 / 20 loss: 0.07973373103886842\n",
      "\n",
      "val epoch: 3 / 50 batch: 280 / 280 loss: 0.10791945858259819\n",
      "\n",
      "epoch: 4 / 50 batch: 20 / 20 loss: 0.05724395550787449\n",
      "\n",
      "val epoch: 4 / 50 batch: 280 / 280 loss: 0.10038961345396404\n",
      "\n",
      "epoch: 5 / 50 batch: 20 / 20 loss: 0.04274798026308417\n",
      "\n",
      "val epoch: 5 / 50 batch: 280 / 280 loss: 0.10111669065829898\n",
      "\n",
      "epoch: 6 / 50 batch: 20 / 20 loss: 0.03609675369225442\n",
      "\n",
      "val epoch: 6 / 50 batch: 280 / 280 loss: 0.10159371400950476\n",
      "\n",
      "5000\n",
      "epoch: 1 / 50 batch: 50 / 50 loss: 0.19912476643919944\n",
      "\n",
      "val epoch: 1 / 50 batch: 280 / 280 loss: 0.11438374068987156\n",
      "\n",
      "epoch: 2 / 50 batch: 50 / 50 loss: 0.08397437244653702\n",
      "\n",
      "val epoch: 2 / 50 batch: 280 / 280 loss: 0.0945279119935419\n",
      "\n",
      "epoch: 3 / 50 batch: 50 / 50 loss: 0.05999828539788723\n",
      "\n",
      "val epoch: 3 / 50 batch: 280 / 280 loss: 0.08093419482798449\n",
      "\n",
      "epoch: 4 / 50 batch: 50 / 50 loss: 0.043840964632108806\n",
      "\n",
      "val epoch: 4 / 50 batch: 280 / 280 loss: 0.07917395668170814\n",
      "\n",
      "epoch: 5 / 50 batch: 50 / 50 loss: 0.037155372984707356\n",
      "\n",
      "val epoch: 5 / 50 batch: 280 / 280 loss: 0.08015730125397177\n",
      "\n",
      "epoch: 6 / 50 batch: 50 / 50 loss: 0.032900350289419296\n",
      "\n",
      "val epoch: 6 / 50 batch: 280 / 280 loss: 0.08723324812848919\n",
      "\n",
      "10000\n",
      "epoch: 1 / 50 batch: 100 / 100 loss: 0.1348336348682642\n",
      "\n",
      "val epoch: 1 / 50 batch: 280 / 280 loss: 0.07777794670047504\n",
      "\n",
      "epoch: 2 / 50 batch: 100 / 100 loss: 0.06348201708868145\n",
      "\n",
      "val epoch: 2 / 50 batch: 280 / 280 loss: 0.06478142937578793\n",
      "\n",
      "epoch: 3 / 50 batch: 100 / 100 loss: 0.04681383292190731\n",
      "\n",
      "val epoch: 3 / 50 batch: 280 / 280 loss: 0.06654351769746947\n",
      "\n",
      "epoch: 4 / 50 batch: 100 / 100 loss: 0.039929916234686974\n",
      "\n",
      "val epoch: 4 / 50 batch: 280 / 280 loss: 0.061848754093184\n",
      "\n",
      "epoch: 5 / 50 batch: 100 / 100 loss: 0.035422490630298856\n",
      "\n",
      "val epoch: 5 / 50 batch: 280 / 280 loss: 0.07173391026527887\n",
      "\n",
      "20000\n",
      "epoch: 1 / 50 batch: 200 / 200 loss: 0.1120434484956786\n",
      "\n",
      "val epoch: 1 / 50 batch: 280 / 280 loss: 0.06592333957419864\n",
      "\n",
      "epoch: 2 / 50 batch: 200 / 200 loss: 0.05067506523337215\n",
      "\n",
      "val epoch: 2 / 50 batch: 280 / 280 loss: 0.06181289307008098\n",
      "\n",
      "epoch: 3 / 50 batch: 200 / 200 loss: 0.040768100489513015\n",
      "\n",
      "val epoch: 3 / 50 batch: 280 / 280 loss: 0.061431005864869805\n",
      "\n",
      "epoch: 4 / 50 batch: 200 / 200 loss: 0.03595371633535251\n",
      "\n",
      "val epoch: 4 / 50 batch: 280 / 280 loss: 0.05889174446929246\n",
      "\n",
      "epoch: 5 / 50 batch: 200 / 200 loss: 0.03213425802474376\n",
      "\n",
      "val epoch: 5 / 50 batch: 280 / 280 loss: 0.0681325432777937\n",
      "\n",
      "50000\n",
      "epoch: 1 / 50 batch: 500 / 500 loss: 0.07647865170240402\n",
      "\n",
      "val epoch: 1 / 50 batch: 280 / 280 loss: 0.052843871535567036\n",
      "\n",
      "epoch: 2 / 50 batch: 500 / 500 loss: 0.04513946219952777\n",
      "\n",
      "val epoch: 2 / 50 batch: 280 / 280 loss: 0.04450311187205703\n",
      "\n",
      "epoch: 3 / 50 batch: 500 / 500 loss: 0.037937153759412465\n",
      "\n",
      "val epoch: 3 / 50 batch: 280 / 280 loss: 0.04385952656573084\n",
      "\n",
      "epoch: 4 / 50 batch: 500 / 500 loss: 0.033934744019061325\n",
      "\n",
      "val epoch: 4 / 50 batch: 280 / 280 loss: 0.04578081120312812\n",
      "\n",
      "100000\n",
      "epoch: 1 / 50 batch: 1000 / 1000 loss: 0.07041007079416886\n",
      "\n",
      "val epoch: 1 / 50 batch: 280 / 280 loss: 0.043520214971587326\n",
      "\n",
      "epoch: 2 / 50 batch: 1000 / 1000 loss: 0.03982266727043316\n",
      "\n",
      "val epoch: 2 / 50 batch: 280 / 280 loss: 0.040214976502881784\n",
      "\n",
      "epoch: 3 / 50 batch: 1000 / 1000 loss: 0.03544428133033216\n",
      "\n",
      "val epoch: 3 / 50 batch: 280 / 280 loss: 0.03921313740512622\n",
      "\n",
      "epoch: 4 / 50 batch: 1000 / 1000 loss: 0.03519045513297897\n",
      "\n",
      "val epoch: 4 / 50 batch: 280 / 280 loss: 0.03835241148813761\n",
      "\n",
      "epoch: 5 / 50 batch: 1000 / 1000 loss: 0.03255874139547814\n",
      "\n",
      "val epoch: 5 / 50 batch: 280 / 280 loss: 0.03923426865034604\n",
      "\n",
      "1000000\n",
      "epoch: 1 / 50 batch: 1120 / 1120 loss: 0.061860051187146124\n",
      "\n",
      "val epoch: 1 / 50 batch: 280 / 280 loss: 0.04658194967030015\n",
      "\n",
      "epoch: 2 / 50 batch: 1120 / 1120 loss: 0.04205649766538824\n",
      "\n",
      "val epoch: 2 / 50 batch: 280 / 280 loss: 0.041490650542878676\n",
      "\n",
      "epoch: 3 / 50 batch: 1120 / 1120 loss: 0.03656396968643613\n",
      "\n",
      "val epoch: 3 / 50 batch: 280 / 280 loss: 0.04067109787969717\n",
      "\n",
      "epoch: 4 / 50 batch: 1120 / 1120 loss: 0.035016392096648426\n",
      "\n",
      "val epoch: 4 / 50 batch: 280 / 280 loss: 0.039447700144124354\n",
      "\n",
      "epoch: 5 / 50 batch: 1120 / 1120 loss: 0.032344345544178005\n",
      "\n",
      "val epoch: 5 / 50 batch: 280 / 280 loss: 0.03908262593072972\n",
      "\n",
      "epoch: 6 / 50 batch: 1120 / 1120 loss: 0.03177209481722717\n",
      "\n",
      "val epoch: 6 / 50 batch: 280 / 280 loss: 0.038593043732856\n",
      "\n",
      "epoch: 7 / 50 batch: 1120 / 1120 loss: 0.031456077236933715\n",
      "\n",
      "val epoch: 7 / 50 batch: 280 / 280 loss: 0.03938369552488439\n",
      "\n"
     ]
    }
   ],
   "source": [
    "model_stats = dict()\n",
    "n_epochs = 50\n",
    "sizes = [1000,2000,5000,10000,20000,50000,100000,1000000]\n",
    "data['true_x_train'] = np.copy(data['x_train'])\n",
    "data['true_y_train'] = np.copy(data['y_train'])\n",
    "for n_samples in sizes:\n",
    "    print(n_samples)\n",
    "    data['x_train'] = np.copy(data['true_x_train'][:n_samples])\n",
    "    data['y_train'] = np.copy(data['true_y_train'][:n_samples])\n",
    "    \n",
    "    tf.reset_default_graph()\n",
    "    model = FFNN(\n",
    "        'test', \n",
    "        data['x_train'].shape[-1], \n",
    "        hidden_layer_dims=(128,128,64),\n",
    "        dropout_keep_prob=1.\n",
    "    )\n",
    "    sess = tf.InteractiveSession()\n",
    "    sess.run(tf.global_variables_initializer())\n",
    "    \n",
    "    model.train(data, n_epochs=n_epochs, stop_early=True)\n",
    "    \n",
    "    probs, preds = model.predict(data['x_val'])\n",
    "    val_loss = compute_loss(probs, data['y_val'])\n",
    "    \n",
    "    idxs = np.where(data['y_val'] > 0)[0]\n",
    "    probs, preds = model.predict(data['x_val'][idxs])\n",
    "    val_loss_nonzero = compute_loss(probs, data['y_val'][idxs])\n",
    "    \n",
    "    probs, preds = model.predict(data['x_train'])\n",
    "    train_loss = compute_loss(probs, data['y_train'])\n",
    "    \n",
    "    idxs = np.where(data['y_train'] > 0)[0]\n",
    "    probs, preds = model.predict(data['x_train'][idxs])\n",
    "    train_loss_nonzero = compute_loss(probs, data['y_train'][idxs])\n",
    "    \n",
    "    \n",
    "    model_stats[n_samples] = dict(\n",
    "        val_loss=val_loss, \n",
    "        val_loss_nonzero=val_loss_nonzero,\n",
    "        train_loss=train_loss,\n",
    "        train_loss_nonzero=train_loss_nonzero\n",
    "    )\n",
    "    "
   ]
  },
  {
   "cell_type": "code",
   "execution_count": 6,
   "metadata": {
    "collapsed": false
   },
   "outputs": [
    {
     "data": {
      "image/png": "[encoded data removed]",
      "text/plain": [
       "<matplotlib.figure.Figure at 0x11bc8d400>"
      ]
     },
     "metadata": {},
     "output_type": "display_data"
    }
   ],
   "source": [
    "plt.figure(figsize=(16,4))\n",
    "\n",
    "plt.subplot(1,2,1)\n",
    "plt.title('Overall Performance')\n",
    "plt.gca().set_xscale('log')\n",
    "plt.xlabel('# samples (log)')\n",
    "plt.ylabel('loss')\n",
    "for (n_samples, stats) in model_stats.items():\n",
    "    plt.scatter(n_samples, stats['val_loss'], c='red')\n",
    "    plt.scatter(n_samples, stats['train_loss'], c='blue')\n",
    "\n",
    "plt.subplot(1,2,2)\n",
    "plt.title('Performance on Nonezero targets')\n",
    "plt.xlabel('# samples (log)')\n",
    "plt.ylabel('loss')\n",
    "plt.gca().set_xscale('log')\n",
    "for (n_samples, stats) in model_stats.items():\n",
    "    plt.scatter(n_samples, stats['val_loss_nonzero'], c='red')\n",
    "    plt.scatter(n_samples, stats['train_loss_nonzero'], c='blue')\n",
    "plt.show()"
   ]
  },
  {
   "cell_type": "code",
   "execution_count": null,
   "metadata": {
    "collapsed": false
   },
   "outputs": [],
   "source": []
  },
  {
   "cell_type": "code",
   "execution_count": null,
   "metadata": {
    "collapsed": true
   },
   "outputs": [],
   "source": []
  }
 ],
 "metadata": {
  "anaconda-cloud": {},
  "kernelspec": {
   "display_name": "Python [conda env:riskenv]",
   "language": "python",
   "name": "conda-env-riskenv-py"
  },
  "language_info": {
   "codemirror_mode": {
    "name": "ipython",
    "version": 3
   },
   "file_extension": ".py",
   "mimetype": "text/x-python",
   "name": "python",
   "nbconvert_exporter": "python",
   "pygments_lexer": "ipython3",
   "version": "3.5.2"
  }
 },
 "nbformat": 4,
 "nbformat_minor": 1
}
