{
 "cells": [
  {
   "cell_type": "code",
   "execution_count": 70,
   "metadata": {
    "collapsed": false
   },
   "outputs": [],
   "source": [
    "%matplotlib inline\n",
    "import matplotlib.pyplot as plt\n",
    "import numpy as np\n",
    "np.set_printoptions(suppress=True, precision=8)\n",
    "import os\n",
    "import sys\n",
    "import tensorflow as tf\n",
    "\n",
    "sys.path.append('../')\n",
    "sys.path.append('../compression')\n",
    "\n",
    "import dataset\n",
    "import dataset_loaders\n",
    "import neural_networks.feed_forward_neural_network as ffnn\n",
    "import neural_networks.recurrent_neural_network as rnn\n",
    "import neural_networks.utils\n",
    "import run_compression"
   ]
  },
  {
   "cell_type": "code",
   "execution_count": 95,
   "metadata": {
    "collapsed": false
   },
   "outputs": [],
   "source": [
    "# set config\n",
    "flags = run_compression.FLAGS\n",
    "# flags.dataset_filepath = '../../data/datasets/debug/static_deterministic.h5'\n",
    "flags.dataset_filepath = '../../data/datasets/debug/static_nondeterministic.h5'\n",
    "flags.input_dim = 40\n",
    "flags.target_index = 2\n",
    "flags.output_dim = 1\n",
    "flags.num_epochs = 10"
   ]
  },
  {
   "cell_type": "code",
   "execution_count": 96,
   "metadata": {
    "collapsed": false
   },
   "outputs": [],
   "source": [
    "# load data\n",
    "data = dataset_loaders.risk_dataset_loader(\n",
    "        flags.dataset_filepath, shuffle=False, train_split=.9, \n",
    "        debug_size=flags.debug_size, timesteps=flags.timesteps,\n",
    "        num_target_bins=flags.num_target_bins, \n",
    "        balanced_class_loss=flags.balanced_class_loss, \n",
    "        target_index=flags.target_index)\n",
    "unnormalized_data = dataset_loaders.risk_dataset_loader(\n",
    "        flags.dataset_filepath, shuffle=False, train_split=.9, \n",
    "        debug_size=flags.debug_size, timesteps=flags.timesteps,\n",
    "        num_target_bins=flags.num_target_bins, \n",
    "        balanced_class_loss=flags.balanced_class_loss, \n",
    "        target_index=flags.target_index,\n",
    "        normalize=False)\n",
    "d = dataset.Dataset(data, flags)"
   ]
  },
  {
   "cell_type": "code",
   "execution_count": 97,
   "metadata": {
    "collapsed": false,
    "scrolled": false
   },
   "outputs": [
    {
     "name": "stdout",
     "output_type": "stream",
     "text": [
      "INFO:tensorflow:Scale of 0 disables regularizer.\n",
      "epoch: 0\ttrain loss: 0.505470\tval loss: 0.389681\ttime: 0.1162\n",
      "epoch: 1\ttrain loss: 0.278695\tval loss: 0.247997\ttime: 0.6368\n",
      "epoch: 2\ttrain loss: 0.184147\tval loss: 0.177449\ttime: 1.0154\n",
      "epoch: 3\ttrain loss: 0.138053\tval loss: 0.139282\ttime: 1.4538\n",
      "epoch: 4\ttrain loss: 0.112845\tval loss: 0.116959\ttime: 2.1330\n",
      "epoch: 5\ttrain loss: 0.097646\tval loss: 0.102460\ttime: 2.6561\n",
      "epoch: 6\ttrain loss: 0.087830\tval loss: 0.091957\ttime: 3.1222\n",
      "epoch: 7\ttrain loss: 0.081031\tval loss: 0.084079\ttime: 3.5913\n",
      "epoch: 8\ttrain loss: 0.076030\tval loss: 0.078483\ttime: 4.0197\n",
      "epoch: 9\ttrain loss: 0.072388\tval loss: 0.074491\ttime: 4.9129\n"
     ]
    }
   ],
   "source": [
    "# fit the dataset\n",
    "tf.python.reset_default_graph()\n",
    "session = tf.InteractiveSession()\n",
    "network = ffnn.FeedForwardNeuralNetwork(session, flags)\n",
    "network.fit(d)"
   ]
  },
  {
   "cell_type": "code",
   "execution_count": 98,
   "metadata": {
    "collapsed": false
   },
   "outputs": [
    {
     "data": {
      "image/png": "[encoded data removed]",
      "text/plain": [
       "<matplotlib.figure.Figure at 0x11ff45438>"
      ]
     },
     "metadata": {},
     "output_type": "display_data"
    }
   ],
   "source": [
    "# static deterministic visualization\n",
    "fore_range_index = 9 # 173\n",
    "pred = network.predict(data['x_val'])\n",
    "plt.subplot('121')\n",
    "plt.scatter(unnormalized_data['x_val'][:,fore_range_index], pred, c='blue')\n",
    "plt.subplot('122')\n",
    "plt.scatter(unnormalized_data['x_val'][:,fore_range_index], unnormalized_data['y_val'], c='blue')\n",
    "plt.show()\n"
   ]
  },
  {
   "cell_type": "code",
   "execution_count": 69,
   "metadata": {
    "collapsed": false
   },
   "outputs": [
    {
     "name": "stdout",
     "output_type": "stream",
     "text": [
      "[ 50.          50.          50.          50.          50.          50.          50.\n",
      "  50.          50.           4.8266224   50.          50.          50.          50.\n",
      "  50.          50.          50.          50.          50.          50.           0.\n",
      "   0.           0.           0.           0.           0.           0.           0.\n",
      "   0.          -5.10661546   0.           0.           0.           0.           0.\n",
      "   0.           0.           0.           0.           0.        ]\n"
     ]
    }
   ],
   "source": [
    "print(unnormalized_data['x_train'][0])"
   ]
  },
  {
   "cell_type": "code",
   "execution_count": null,
   "metadata": {
    "collapsed": true
   },
   "outputs": [],
   "source": []
  },
  {
   "cell_type": "code",
   "execution_count": null,
   "metadata": {
    "collapsed": true
   },
   "outputs": [],
   "source": []
  }
 ],
 "metadata": {
  "anaconda-cloud": {},
  "kernelspec": {
   "display_name": "Python [default]",
   "language": "python",
   "name": "python3"
  },
  "language_info": {
   "codemirror_mode": {
    "name": "ipython",
    "version": 3
   },
   "file_extension": ".py",
   "mimetype": "text/x-python",
   "name": "python",
   "nbconvert_exporter": "python",
   "pygments_lexer": "ipython3",
   "version": "3.5.2"
  }
 },
 "nbformat": 4,
 "nbformat_minor": 1
}
