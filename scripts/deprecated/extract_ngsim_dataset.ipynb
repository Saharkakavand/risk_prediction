{
 "cells": [
  {
   "cell_type": "code",
   "execution_count": null,
   "metadata": {
    "collapsed": false
   },
   "outputs": [],
   "source": [
    "using AutomotiveDrivingModels\n",
    "using AutoRisk\n",
    "using AutoViz\n",
    "using DataFrames\n",
    "using NGSIM"
   ]
  },
  {
   "cell_type": "code",
   "execution_count": null,
   "metadata": {
    "collapsed": false
   },
   "outputs": [],
   "source": [
    "# extraction settings and constants\n",
    "models = Dict{Int, DriverModel}() # dummy, no behavior available\n",
    "prime = 5 # .5 second prime to compute all features\n",
    "frameskip = 50 # 5 second skip\n",
    "frameoffset = 400\n",
    "\n",
    "# feature extractor (note the lack of behavioral features)\n",
    "subexts = [\n",
    "        CoreFeatureExtractor(),\n",
    "        TemporalFeatureExtractor(),\n",
    "        WellBehavedFeatureExtractor(),\n",
    "        NeighborFeatureExtractor(),\n",
    "        CarLidarFeatureExtractor(),\n",
    "        RoadLidarFeatureExtractor()\n",
    "    ]\n",
    "ext = MultiFeatureExtractor(subexts)"
   ]
  },
  {
   "cell_type": "code",
   "execution_count": null,
   "metadata": {
    "collapsed": false
   },
   "outputs": [],
   "source": [
    "\n",
    "tic()\n",
    "for trajdata_index in 1 : 6\n",
    "    \n",
    "    # dataset for storing feature => target pairs\n",
    "    dataset_filepath = \"../../data/datasets/may/ngsim_$(Int(ceil(frameskip / 10)))_sec_traj_$(trajdata_index).h5\"\n",
    "    dataset = Dataset(\n",
    "            dataset_filepath,\n",
    "            length(ext),\n",
    "            1,\n",
    "            5,\n",
    "            100000,\n",
    "            init_file = false,\n",
    "            attrs = Dict(\"feature_names\"=>feature_names(ext)));\n",
    "\n",
    "    trajdata = load_trajdata(trajdata_index)\n",
    "    roadway = get_corresponding_roadway(trajdata_index)\n",
    "    max_n_objects = maximum(n_objects_in_frame(trajdata, i) for i in 1 : nframes(trajdata))\n",
    "    scene = Scene(max_n_objects)\n",
    "    rec = SceneRecord(prime + frameskip, 0.1, max_n_objects)\n",
    "    features = zeros(length(ext), 1, max_n_objects)\n",
    "    targets = zeros(5, max_n_objects)\n",
    "    veh_id_to_idx = Dict{Int,Int}()\n",
    "    final_frame = nframes(trajdata) - frameoffset\n",
    "    for initial_frame in frameoffset : frameskip : final_frame\n",
    "        println(\"frame $(initial_frame) / $(final_frame)\")\n",
    "        # reset\n",
    "        fill!(features, 0)\n",
    "        empty!(veh_id_to_idx)\n",
    "            \n",
    "        # collect a mapping of vehicle ids to indices in the scene\n",
    "        get!(scene, trajdata, initial_frame - prime)\n",
    "        get_veh_id_to_idx(scene, veh_id_to_idx)\n",
    "        \n",
    "        # prime\n",
    "        for frame in (initial_frame - prime):initial_frame\n",
    "            AutomotiveDrivingModels.update!(rec, get!(scene, trajdata, frame))\n",
    "        end\n",
    "            \n",
    "        # extract features\n",
    "        pull_features!(ext, rec, roadway, models, features, 1)\n",
    "            \n",
    "        # update with next frameskip frames\n",
    "        for frame in initial_frame:initial_frame + frameskip\n",
    "            AutomotiveDrivingModels.update!(rec, get!(scene, trajdata, frame))\n",
    "        end\n",
    "            \n",
    "        # extract targets\n",
    "        extract_targets!(rec, roadway, targets, veh_id_to_idx, true)\n",
    "            \n",
    "        # update dataset with features, targets\n",
    "        actual_num_veh = length(veh_id_to_idx)\n",
    "        update!(dataset, features[:,1,1:actual_num_veh], targets[1,1:actual_num_veh], 0)\n",
    "    end\n",
    "    finalize!(dataset)\n",
    "end\n",
    "toc()"
   ]
  },
  {
   "cell_type": "code",
   "execution_count": null,
   "metadata": {
    "collapsed": true
   },
   "outputs": [],
   "source": []
  }
 ],
 "metadata": {
  "kernelspec": {
   "display_name": "Julia 0.5.0",
   "language": "julia",
   "name": "julia-0.5"
  },
  "language_info": {
   "file_extension": ".jl",
   "mimetype": "application/julia",
   "name": "julia",
   "version": "0.5.0"
  }
 },
 "nbformat": 4,
 "nbformat_minor": 1
}
