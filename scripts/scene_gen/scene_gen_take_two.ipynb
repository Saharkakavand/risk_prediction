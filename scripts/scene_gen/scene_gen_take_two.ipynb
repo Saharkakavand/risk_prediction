{
 "cells": [
  {
   "cell_type": "code",
   "execution_count": null,
   "metadata": {
    "collapsed": false
   },
   "outputs": [],
   "source": [
    "using AutoRisk\n",
    "using BayesNets\n",
    "using DataFrames\n",
    "using Discretizers\n",
    "using Distributions\n",
    "using HDF5\n",
    "using Interact\n",
    "using JLD\n",
    "using PGFPlots\n",
    "using TikzPictures"
   ]
  },
  {
   "cell_type": "code",
   "execution_count": null,
   "metadata": {
    "collapsed": false
   },
   "outputs": [],
   "source": [
    "# load the data\n",
    "# input_filepath = \"../../data/datasets/april/risk_mc_32.h5\"\n",
    "input_filepath = \"../../data/datasets/risk_bn.h5\"\n",
    "raw_features = h5open(input_filepath, \"r\") do file\n",
    "    read(file, \"risk/features\")\n",
    "end;\n",
    "raw_targets = h5open(input_filepath, \"r\") do file\n",
    "    read(file, \"risk/targets\")\n",
    "end;"
   ]
  },
  {
   "cell_type": "code",
   "execution_count": null,
   "metadata": {
    "collapsed": false
   },
   "outputs": [],
   "source": [
    "debug_size = min(200000, size(raw_features, 3))\n",
    "timestep = size(raw_features, 2)\n",
    "features = view(raw_features, :, timestep, 1:debug_size);\n",
    "targets = view(raw_targets, :, 1:debug_size);"
   ]
  },
  {
   "cell_type": "code",
   "execution_count": null,
   "metadata": {
    "collapsed": true
   },
   "outputs": [],
   "source": [
    "attributes = h5readattr(input_filepath, \"risk\")\n",
    "feature_names = attributes[\"feature_names\"];"
   ]
  },
  {
   "cell_type": "code",
   "execution_count": null,
   "metadata": {
    "collapsed": false,
    "scrolled": false
   },
   "outputs": [],
   "source": [
    "# sanitize the data\n",
    "# remove features deterministically associated with a collision\n",
    "valid_target_inds = find(abs(sum(targets[1:3,:], 1) .- 1.) .> 1e-2)\n",
    "\n",
    "# clip velocities\n",
    "vel_ind = find(feature_names .== \"velocity\")[1]\n",
    "valid_vel_inds = find(0. .< features[vel_ind, :] .< 30.)\n",
    "\n",
    "# clip distances\n",
    "dist_ind = find(feature_names .== \"fore_m_dist\")[1]\n",
    "valid_dist_inds = find(0. .< features[dist_ind, :] .< 100.)\n",
    "\n",
    "valid_inds = intersect(valid_target_inds, valid_vel_inds, valid_dist_inds)\n",
    "features = features[:, valid_inds];\n",
    "println(size(valid_inds))\n",
    "println(size(features))"
   ]
  },
  {
   "cell_type": "code",
   "execution_count": null,
   "metadata": {
    "collapsed": false
   },
   "outputs": [],
   "source": [
    "bn_feature_names = [\"velocity\", \"fore_m_vel\", \"fore_m_dist\"]\n",
    "inds = [find(feature_names .== name)[1] for name in bn_feature_names]\n",
    "base_data = features[inds,:];"
   ]
  },
  {
   "cell_type": "code",
   "execution_count": null,
   "metadata": {
    "collapsed": false
   },
   "outputs": [],
   "source": [
    "# add aggressivenss by inferring it from politeness\n",
    "politeness_index = find(feature_names .== \"lane_politeness\")[1]\n",
    "politness_values = features[politeness_index,:];\n",
    "aggressiveness_values = infer_correlated_aggressiveness(politness_values);\n",
    "aggressiveness_values = reshape(aggressiveness_values, (1, length(aggressiveness_values)))\n",
    "push!(bn_feature_names, \"aggressiveness\")\n",
    "data = cat(1, base_data, aggressiveness_values)"
   ]
  },
  {
   "cell_type": "code",
   "execution_count": null,
   "metadata": {
    "collapsed": false
   },
   "outputs": [],
   "source": [
    "# get is_attentive separately since it's discrete\n",
    "is_attentive_index = find(feature_names .== \"is_attentive\")[1]\n",
    "num_samples = size(data, 2)\n",
    "is_attentive_values = ones(Int, num_samples)\n",
    "for sidx in 1:num_samples\n",
    "    is_attentive_values[sidx] = features[is_attentive_index,sidx] > .5 ? 2 : 1\n",
    "end"
   ]
  },
  {
   "cell_type": "code",
   "execution_count": null,
   "metadata": {
    "collapsed": false
   },
   "outputs": [],
   "source": [
    "# discretize the data\n",
    "# features\n",
    "num_variables, num_samples = size(data)\n",
    "num_bins = [6,6,10,4]\n",
    "disc_data = zeros(Int, num_variables, num_samples)\n",
    "cutpoints = []\n",
    "discs = []\n",
    "algo = DiscretizeUniformWidth # DiscretizeUniformCount\n",
    "for vidx in 1:num_variables\n",
    "    disc = LinearDiscretizer(binedges(algo(num_bins[vidx]), data[vidx,:]))\n",
    "    push!(cutpoints, disc.binedges)\n",
    "    for sidx in 1:num_samples\n",
    "        c = 0\n",
    "        val = data[vidx, sidx]\n",
    "        for (c, (lo, hi)) in enumerate(zip(disc.binedges, disc.binedges[2:end]))\n",
    "            if lo <= val < hi\n",
    "                break\n",
    "            end\n",
    "        end\n",
    "    disc_data[vidx, sidx] = c\n",
    "    end\n",
    "end\n",
    "println(cutpoints)"
   ]
  },
  {
   "cell_type": "code",
   "execution_count": null,
   "metadata": {
    "collapsed": false
   },
   "outputs": [],
   "source": [
    "# convert data to dataframe\n",
    "training_data = DataFrame(\n",
    "        velocity = disc_data[1,:], \n",
    "        forevelocity = disc_data[2,:],\n",
    "        foredistance = disc_data[3,:], \n",
    "        aggressiveness = disc_data[4,:],\n",
    "        isattentive = is_attentive_values\n",
    ");"
   ]
  },
  {
   "cell_type": "code",
   "execution_count": null,
   "metadata": {
    "collapsed": false
   },
   "outputs": [],
   "source": [
    "bn = fit(DiscreteBayesNet, training_data, (\n",
    "    :isattentive=>:foredistance, \n",
    "    :isattentive=>:velocity,\n",
    "    :aggressiveness=>:foredistance, \n",
    "    :aggressiveness=>:velocity,\n",
    "    :foredistance=>:velocity,\n",
    "    :forevelocity=>:velocity\n",
    "    )\n",
    ")"
   ]
  },
  {
   "cell_type": "code",
   "execution_count": null,
   "metadata": {
    "collapsed": false
   },
   "outputs": [],
   "source": [
    "# report CPDs\n",
    "for k in [:isattentive, :aggressiveness, :foredistance, :forevelocity, :velocity]\n",
    "    println(table(bn, k))\n",
    "end"
   ]
  },
  {
   "cell_type": "code",
   "execution_count": null,
   "metadata": {
    "collapsed": false
   },
   "outputs": [],
   "source": [
    "# map the feature symbols to binedges\n",
    "var_edges = Dict{Symbol,Vector{Float64}}()\n",
    "var_edges[:velocity] = cutpoints[1]\n",
    "var_edges[:forevelocity] = cutpoints[2]\n",
    "var_edges[:foredistance] = cutpoints[3]\n",
    "var_edges[:aggressiveness] = cutpoints[4]\n",
    "var_edges"
   ]
  },
  {
   "cell_type": "code",
   "execution_count": null,
   "metadata": {
    "collapsed": false
   },
   "outputs": [],
   "source": [
    "JLD.save(\"../../data/bayesnets/base_test.jld\", \"bn\", bn, \"var_edges\", var_edges)"
   ]
  },
  {
   "cell_type": "code",
   "execution_count": null,
   "metadata": {
    "collapsed": false
   },
   "outputs": [],
   "source": [
    "# proposal bn\n",
    "# inattentive\n",
    "is_attentive_values[1:100000] = 1\n",
    "# close proximity\n",
    "disc_data[3,1:20000] = 1 \n",
    "disc_data[3,20000:80000] = 2\n",
    "disc_data[3,80000:120000] = 3\n",
    "# aggressive\n",
    "disc_data[4,1:20000] = 4\n",
    "disc_data[4,20000:40000] = 3\n",
    "training_data = DataFrame(\n",
    "        velocity = disc_data[1,:], \n",
    "        forevelocity = disc_data[2,:],\n",
    "        foredistance = disc_data[3,:], \n",
    "        aggressiveness = disc_data[4,:],\n",
    "        isattentive = is_attentive_values\n",
    ");"
   ]
  },
  {
   "cell_type": "code",
   "execution_count": null,
   "metadata": {
    "collapsed": false
   },
   "outputs": [],
   "source": [
    "bn = fit(DiscreteBayesNet, training_data, (\n",
    "    :isattentive=>:foredistance, \n",
    "    :isattentive=>:velocity,\n",
    "    :aggressiveness=>:foredistance, \n",
    "    :aggressiveness=>:velocity,\n",
    "    :foredistance=>:velocity,\n",
    "    :forevelocity=>:velocity\n",
    "    )\n",
    ")"
   ]
  },
  {
   "cell_type": "code",
   "execution_count": null,
   "metadata": {
    "collapsed": false
   },
   "outputs": [],
   "source": [
    "# report CPDs\n",
    "for k in [:isattentive, :aggressiveness, :foredistance, :forevelocity, :velocity]\n",
    "    println(table(bn, k))\n",
    "end"
   ]
  },
  {
   "cell_type": "code",
   "execution_count": null,
   "metadata": {
    "collapsed": false
   },
   "outputs": [],
   "source": [
    "JLD.save(\"../../data/bayesnets/prop_test.jld\", \"bn\", bn, \"var_edges\", var_edges)"
   ]
  },
  {
   "cell_type": "code",
   "execution_count": null,
   "metadata": {
    "collapsed": true
   },
   "outputs": [],
   "source": []
  }
 ],
 "metadata": {
  "kernelspec": {
   "display_name": "Julia 0.5.0",
   "language": "julia",
   "name": "julia-0.5"
  },
  "language_info": {
   "file_extension": ".jl",
   "mimetype": "application/julia",
   "name": "julia",
   "version": "0.5.0"
  }
 },
 "nbformat": 4,
 "nbformat_minor": 1
}
