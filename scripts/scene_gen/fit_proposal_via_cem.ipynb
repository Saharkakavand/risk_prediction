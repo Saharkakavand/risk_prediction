{
 "cells": [
  {
   "cell_type": "code",
   "execution_count": 1,
   "metadata": {
    "collapsed": false
   },
   "outputs": [],
   "source": [
    "using AutoRisk\n",
    "using AutoViz\n",
    "using CommandLineFlags\n",
    "using Discretizers\n",
    "using PGFPlots\n",
    "using Colors\n",
    "include(\"../collection/collect_heuristic_dataset.jl\")\n",
    "include(\"../collection/heuristic_dataset_config.jl\")\n",
    "include(\"../scene_gen/fit_bayes_net.jl\");"
   ]
  },
  {
   "cell_type": "code",
   "execution_count": 2,
   "metadata": {
    "collapsed": false
   },
   "outputs": [],
   "source": [
    "# load flags from an existing dataset\n",
    "# these flags should be the ones ultimately used in evaluation\n",
    "dataset_filepath = \"../../data/datasets/may/bn_aug_5_sec_10_timestep_2.h5\"\n",
    "flags = h5readattr(dataset_filepath, \"risk\")\n",
    "fixup_types!(flags)\n",
    "# only collect a single timestep\n",
    "flags[\"feature_timesteps\"] = 1\n",
    "# NOTE: this value should be set manually\n",
    "# and determines for how many runs each scene should be simulated\n",
    "flags[\"num_monte_carlo_runs\"] = 1\n",
    "flags[\"extract_behavioral\"] = true\n",
    "\n",
    "# debug\n",
    "flags[\"num_lanes\"] = 1\n",
    "flags[\"sampling_time\"] = 5.\n",
    "\n",
    "col = build_dataset_collector(\"\", flags);"
   ]
  },
  {
   "cell_type": "code",
   "execution_count": 3,
   "metadata": {
    "collapsed": false
   },
   "outputs": [
    {
     "data": {
      "text/plain": [
       "extract_bn_features (generic function with 1 method)"
      ]
     },
     "execution_count": 3,
     "metadata": {},
     "output_type": "execute_result"
    }
   ],
   "source": [
    "# selects relevant features and adds to data\n",
    "function extract_bn_features( \n",
    "        features::Array{Float64}, \n",
    "        feature_names::Array{String},\n",
    "        index::Int\n",
    "    )\n",
    "    bn_features = zeros(7)\n",
    "    bn_features[1:5] = extract_base_features(features, feature_names)[:,index]\n",
    "    bn_features[6] = extract_aggressiveness(features, feature_names, \n",
    "        rand_aggressiveness_if_unavailable = false)[index]\n",
    "    bn_features[7] = extract_is_attentive(features, feature_names, \n",
    "        rand_attentiveness_if_unavailable = false)[index] \n",
    "    return bn_features\n",
    "end"
   ]
  },
  {
   "cell_type": "code",
   "execution_count": 4,
   "metadata": {
    "collapsed": false
   },
   "outputs": [
    {
     "data": {
      "text/plain": [
       "get_prior_data (generic function with 2 methods)"
      ]
     },
     "execution_count": 4,
     "metadata": {},
     "output_type": "execute_result"
    }
   ],
   "source": [
    "function get_prior_data(bn::BayesNet, n_samples::Int = 1000)\n",
    "    return rand(bn, n_samples)\n",
    "end"
   ]
  },
  {
   "cell_type": "code",
   "execution_count": 5,
   "metadata": {
    "collapsed": false
   },
   "outputs": [
    {
     "data": {
      "text/plain": [
       "cem (generic function with 1 method)"
      ]
     },
     "execution_count": 5,
     "metadata": {},
     "output_type": "execute_result"
    }
   ],
   "source": [
    "function cem(\n",
    "            col::DatasetCollector, \n",
    "            y::Float64;\n",
    "            max_iters::Int = 10,\n",
    "            N::Int = 1000, \n",
    "            percentile::Float64 = .50, \n",
    "            target_indices::Vector{Int} = [1,2,3,4,5]\n",
    "        )\n",
    "    # initialize\n",
    "    n_vars = length(keys(col.gen.base_bn.name_to_index))\n",
    "    n_targets, n_vehicles = size(col.eval.targets)\n",
    "    var_edges = col.gen.assignment_sampler.var_edges\n",
    "    discs = get_discretizers(var_edges)\n",
    "    top_k = Int(ceil(percentile * N))\n",
    "    proposal_vehicle_index = get_target_vehicle_index(col.gen, col.roadway)\n",
    "    \n",
    "    # allocate containers\n",
    "    utilities = zeros(N)\n",
    "    weights = zeros(N)\n",
    "    data = zeros(n_vars, N)\n",
    "    for iter in 1:max_iters\n",
    "        println(\"iter: $(iter)\\ty_hat: $(mean(utilities))\")\n",
    "        \n",
    "        # reset\n",
    "        fill!(utilities, 0.)\n",
    "        fill!(weights, 0.)\n",
    "        \n",
    "        # generate and evaluate a scene from the current bayes net\n",
    "        for scene_idx in 1:N\n",
    "            \n",
    "            # set seed\n",
    "            seed = iter * N + scene_idx\n",
    "            \n",
    "            # sample a scene + models\n",
    "            rand!(col, seed)\n",
    "            \n",
    "            # evaluate this scene\n",
    "            evaluate!(col.eval, col.scene, col.models, col.roadway, seed)\n",
    "            \n",
    "            # extract the relevant information\n",
    "            utilities[scene_idx] = mean(col.eval.targets[target_indices, proposal_vehicle_index])\n",
    "            weights[scene_idx] = col.gen.weights[proposal_vehicle_index]\n",
    "            data[:, scene_idx] = extract_bn_features(col.eval.features[:,end,:], feature_names(col.eval.ext), proposal_vehicle_index)\n",
    "        end\n",
    "                \n",
    "        # select top percentile of population\n",
    "        indices = sortperm(utilities .* weights)[top_k:end]\n",
    "\n",
    "        # refit bayesnet\n",
    "        disc_features = discretize_features(data, discs)\n",
    "        training_data = form_training_data(disc_features)\n",
    "        training_data = vcat(training_data, get_prior_data(col.gen.base_bn))\n",
    "        col.gen.prop_bn = fit_bn(training_data)\n",
    "        \n",
    "        # check if the target probability has been sufficiently optimized\n",
    "        if mean(utilities) > y\n",
    "            break\n",
    "        end\n",
    "    end\n",
    "    return col.gen.prop_bn\n",
    "end"
   ]
  },
  {
   "cell_type": "code",
   "execution_count": null,
   "metadata": {
    "collapsed": false,
    "scrolled": false
   },
   "outputs": [
    {
     "name": "stdout",
     "output_type": "stream",
     "text": [
      "iter: 1\ty_hat: 0.0\n"
     ]
    }
   ],
   "source": [
    "cem(col, .5, max_iters = 10, N = 100)"
   ]
  },
  {
   "cell_type": "code",
   "execution_count": null,
   "metadata": {
    "collapsed": true
   },
   "outputs": [],
   "source": []
  },
  {
   "cell_type": "code",
   "execution_count": null,
   "metadata": {
    "collapsed": true
   },
   "outputs": [],
   "source": []
  }
 ],
 "metadata": {
  "kernelspec": {
   "display_name": "Julia 0.5.0",
   "language": "julia",
   "name": "julia-0.5"
  },
  "language_info": {
   "file_extension": ".jl",
   "mimetype": "application/julia",
   "name": "julia",
   "version": "0.5.0"
  }
 },
 "nbformat": 4,
 "nbformat_minor": 1
}
