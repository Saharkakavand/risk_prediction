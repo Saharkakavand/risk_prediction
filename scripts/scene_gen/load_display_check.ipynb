{
 "cells": [
  {
   "cell_type": "code",
   "execution_count": 1,
   "metadata": {
    "collapsed": false
   },
   "outputs": [
    {
     "data": {
      "text/html": [
       "<div id=\"interact-js-shim\">\n",
       "    <script charset=\"utf-8\">\n",
       "(function (IPython, $, _, MathJax) {\n",
       "    $.event.special.destroyed = {\n",
       "\tremove: function(o) {\n",
       "\t    if (o.handler) {\n",
       "\t\to.handler.apply(this, arguments)\n",
       "\t    }\n",
       "\t}\n",
       "    }\n",
       "\n",
       "    var OutputArea = IPython.version >= \"4.0.0\" ? require(\"notebook/js/outputarea\").OutputArea : IPython.OutputArea;\n",
       "\n",
       "    var redrawValue = function (container, type, val) {\n",
       "\tvar selector = $(\"<div/>\");\n",
       "\tvar oa = new OutputArea(_.extend(selector, {\n",
       "\t    selector: selector,\n",
       "\t    prompt_area: true,\n",
       "\t    events: IPython.events,\n",
       "\t    keyboard_manager: IPython.keyboard_manager\n",
       "\t})); // Hack to work with IPython 2.1.0\n",
       "\n",
       "\tswitch (type) {\n",
       "\tcase \"image/png\":\n",
       "            var _src = 'data:' + type + ';base64,' + val;\n",
       "\t    $(container).find(\"img\").attr('src', _src);\n",
       "\t    break;\n",
       "\tcase \"text/latex\":\n",
       "\t\tif (MathJax){\n",
       "\t\t\tvar math = MathJax.Hub.getAllJax(container)[0];\n",
       "\t\t\tMathJax.Hub.Queue([\"Text\", math, val.replace(/^\\${1,2}|\\${1,2}$/g, '')]);\n",
       "\t\t\tbreak;\n",
       "\t\t}\n",
       "\tdefault:\n",
       "\t    var toinsert = OutputArea.append_map[type].apply(\n",
       "\t\toa, [val, {}, selector]\n",
       "\t    );\n",
       "\t    $(container).empty().append(toinsert.contents());\n",
       "\t    selector.remove();\n",
       "\t}\n",
       "    }\n",
       "\n",
       "\n",
       "    $(document).ready(function() {\n",
       "\tfunction initComm(evt, data) {\n",
       "\t    var comm_manager = data.kernel.comm_manager;\n",
       "        //_.extend(comm_manager.targets, require(\"widgets/js/widget\"))\n",
       "\t    comm_manager.register_target(\"Signal\", function (comm) {\n",
       "            comm.on_msg(function (msg) {\n",
       "                var val = msg.content.data.value;\n",
       "                $(\".signal-\" + comm.comm_id).each(function() {\n",
       "                var type = $(this).data(\"type\");\n",
       "                if (typeof(val[type]) !== \"undefined\" && val[type] !== null) {\n",
       "                    redrawValue(this, type, val[type], type);\n",
       "                }\n",
       "                });\n",
       "                delete val;\n",
       "                delete msg.content.data.value;\n",
       "            });\n",
       "\t    });\n",
       "\n",
       "\t    // coordingate with Comm and redraw Signals\n",
       "\t    // XXX: Test using Reactive here to improve performance\n",
       "\t    $([IPython.events]).on(\n",
       "\t\t'output_appended.OutputArea', function (event, type, value, md, toinsert) {\n",
       "\t\t    if (md && md.reactive) {\n",
       "                // console.log(md.comm_id);\n",
       "                toinsert.addClass(\"signal-\" + md.comm_id);\n",
       "                toinsert.data(\"type\", type);\n",
       "                // Signal back indicating the mimetype required\n",
       "                var comm_manager = IPython.notebook.kernel.comm_manager;\n",
       "                var comm = comm_manager.comms[md.comm_id];\n",
       "                comm.then(function (c) {\n",
       "                    c.send({action: \"subscribe_mime\",\n",
       "                       mime: type});\n",
       "                    toinsert.bind(\"destroyed\", function() {\n",
       "                        c.send({action: \"unsubscribe_mime\",\n",
       "                               mime: type});\n",
       "                    });\n",
       "                })\n",
       "\t\t    }\n",
       "\t    });\n",
       "\t}\n",
       "\n",
       "\ttry {\n",
       "\t    // try to initialize right away. otherwise, wait on the status_started event.\n",
       "\t    initComm(undefined, IPython.notebook);\n",
       "\t} catch (e) {\n",
       "\t    $([IPython.events]).on('kernel_created.Kernel kernel_created.Session', initComm);\n",
       "\t}\n",
       "    });\n",
       "})(IPython, jQuery, _, MathJax);\n",
       "</script>\n",
       "    <script>\n",
       "        window.interactLoadedFlag = true\n",
       "       $(\"#interact-js-shim\").bind(\"destroyed\", function () {\n",
       "           if (window.interactLoadedFlag) {\n",
       "               console.warn(\"JavaScript required by Interact will be removed if you remove this cell or run using Interact more than once.\")\n",
       "           }\n",
       "       })\n",
       "       $([IPython.events]).on(\"kernel_starting.Kernel kernel_restarting.Kernel\", function () { window.interactLoadedFlag = false })\n",
       "   </script>\n",
       "</div>"
      ]
     },
     "metadata": {},
     "output_type": "display_data"
    }
   ],
   "source": [
    "using AutomotiveDrivingModels\n",
    "using AutoViz\n",
    "using Interact"
   ]
  },
  {
   "cell_type": "code",
   "execution_count": 30,
   "metadata": {
    "collapsed": false
   },
   "outputs": [],
   "source": [
    "seed = 1\n",
    "input_filepath = \"../../data/trajdatas/$(seed).txt\"\n",
    "veh_filepath = \"../../data/trajdatas/seeds_veh_idxs.csv\"\n",
    "infile = open(input_filepath, \"r\")\n",
    "trajdata = read(infile, Trajdata);\n",
    "veh_idxs = readtable(veh_filepath)\n",
    "veh_idxs = veh_idxs[veh_idxs[:seed] .== seed, :][:vehicle_index]\n",
    "roadway = gen_stadium_roadway(5, length=400., radius=100.);"
   ]
  },
  {
   "cell_type": "code",
   "execution_count": 31,
   "metadata": {
    "collapsed": false,
    "scrolled": false
   },
   "outputs": [
    {
     "data": {
      "text/html": [],
      "text/plain": [
       "Interact.Options{:SelectionSlider,Int64}(Signal{Int64}(25, nactions=1),\"frame\",25,\"25\",Interact.OptionDict(DataStructures.OrderedDict(\"1\"=>1,\"2\"=>2,\"3\"=>3,\"4\"=>4,\"5\"=>5,\"6\"=>6,\"7\"=>7,\"8\"=>8,\"9\"=>9,\"10\"=>10…),Dict(2=>\"2\",11=>\"11\",39=>\"39\",46=>\"46\",25=>\"25\",42=>\"42\",29=>\"29\",8=>\"8\",20=>\"20\",14=>\"14\"…)),Any[],Any[],true,\"horizontal\")"
      ]
     },
     "metadata": {},
     "output_type": "display_data"
    },
    {
     "data": {
      "text/html": [],
      "text/plain": [
       "Interact.Options{:ToggleButtons,Int64}(Signal{Int64}(19, nactions=1),\"veh_idx\",19,\"19\",Interact.OptionDict(DataStructures.OrderedDict(\"19\"=>19,\"122\"=>122,\"124\"=>124,\"196\"=>196),Dict(124=>\"124\",122=>\"122\",19=>\"19\",196=>\"196\")),Any[],Any[],true,\"horizontal\")"
      ]
     },
     "metadata": {},
     "output_type": "display_data"
    },
    {
     "data": {
      "image/png": "[encoded data removed]",
      "text/plain": [
       "Cairo.CairoSurface{UInt32}(Ptr{Void} @0x00007f9f63e164b0,1000.0,600.0,#undef)"
      ]
     },
     "execution_count": 31,
     "metadata": {
      "comm_id": "ed135d33-fab3-4576-b854-8885c812ad7d",
      "reactive": true
     },
     "output_type": "execute_result"
    }
   ],
   "source": [
    "scene = Scene()\n",
    "@manipulate for frame in 1:nframes(trajdata),\n",
    "                veh_idx in veh_idxs\n",
    "    render(get!(scene, trajdata, frame), roadway, cam = CarFollowCamera(veh_idx, 15.))\n",
    "end"
   ]
  },
  {
   "cell_type": "code",
   "execution_count": null,
   "metadata": {
    "collapsed": true
   },
   "outputs": [],
   "source": []
  }
 ],
 "metadata": {
  "kernelspec": {
   "display_name": "Julia 0.5.0",
   "language": "julia",
   "name": "julia-0.5"
  },
  "language_info": {
   "file_extension": ".jl",
   "mimetype": "application/julia",
   "name": "julia",
   "version": "0.5.0"
  },
  "widgets": {
   "state": {
    "096c4b56-0c57-4a9d-8564-ee58fadc7423": {
     "views": [
      {
       "cell_index": 2
      }
     ]
    },
    "10436fa6-b166-49dd-ba31-646a69fc51ab": {
     "views": [
      {
       "cell_index": 2
      }
     ]
    },
    "17d42051-b353-4ced-ba19-d5499461d8e0": {
     "views": [
      {
       "cell_index": 2
      }
     ]
    },
    "1919dd62-292e-4f6c-a347-cd8cf05c8f74": {
     "views": [
      {
       "cell_index": 2
      }
     ]
    },
    "1a54fb34-9dbd-4445-b6fe-79f5267b5852": {
     "views": [
      {
       "cell_index": 2
      }
     ]
    },
    "2b543cf8-bab9-4d4a-8f5e-89da45709cc4": {
     "views": [
      {
       "cell_index": 2
      }
     ]
    },
    "31995a4b-f209-4c9c-88e0-d1f05836b8a9": {
     "views": [
      {
       "cell_index": 2
      }
     ]
    },
    "35c0332c-fa76-4a1d-b334-b9fbc16dfc20": {
     "views": [
      {
       "cell_index": 2
      }
     ]
    },
    "5cf99ba8-eead-46fd-85d2-21762b01f43d": {
     "views": [
      {
       "cell_index": 2
      }
     ]
    },
    "61681123-0adf-4df3-89db-a7ed417cf520": {
     "views": [
      {
       "cell_index": 2
      }
     ]
    },
    "63fd19b0-2360-4b10-bcd9-5a00f69b4d7b": {
     "views": [
      {
       "cell_index": 2
      }
     ]
    },
    "65cd71c8-9301-433e-b445-67f32c898051": {
     "views": [
      {
       "cell_index": 2
      }
     ]
    },
    "6fc3037f-e18b-470d-a5dd-30a2c36838f0": {
     "views": [
      {
       "cell_index": 2
      }
     ]
    },
    "74259505-a551-4688-bfaa-113d8e62d619": {
     "views": [
      {
       "cell_index": 2
      }
     ]
    },
    "74cbe96e-5157-428b-a450-a99a6f99f40b": {
     "views": [
      {
       "cell_index": 2
      }
     ]
    },
    "80018f2b-bc99-495c-9d56-ab87565ef43a": {
     "views": [
      {
       "cell_index": 2
      }
     ]
    },
    "a7b830ff-f1e2-4442-8dbf-1231e0c397a2": {
     "views": [
      {
       "cell_index": 2
      }
     ]
    },
    "c3331b43-c7ea-45d7-9996-36ba767df00c": {
     "views": [
      {
       "cell_index": 2
      }
     ]
    },
    "cba0ec2e-5780-463d-b911-449a00f7c08b": {
     "views": [
      {
       "cell_index": 2
      }
     ]
    },
    "d95fbf61-e8f9-477f-8232-0badaa2a03f6": {
     "views": [
      {
       "cell_index": 2
      }
     ]
    },
    "df1948fe-1501-4d22-91d7-507f358b057a": {
     "views": [
      {
       "cell_index": 2
      }
     ]
    },
    "f455b1c7-e632-4d2d-9350-1951bb8e8d18": {
     "views": [
      {
       "cell_index": 2
      }
     ]
    }
   },
   "version": "1.2.0"
  }
 },
 "nbformat": 4,
 "nbformat_minor": 1
}
