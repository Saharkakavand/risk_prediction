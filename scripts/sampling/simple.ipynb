{
 "cells": [
  {
   "cell_type": "code",
   "execution_count": 29,
   "metadata": {
    "collapsed": true
   },
   "outputs": [],
   "source": [
    "%matplotlib inline\n",
    "import numpy as np\n",
    "import matplotlib.pyplot as plt\n",
    "from scipy.stats import norm"
   ]
  },
  {
   "cell_type": "code",
   "execution_count": 3,
   "metadata": {
    "collapsed": true
   },
   "outputs": [],
   "source": [
    "def gaussian_pdf(x, mu=0, sigma=1):\n",
    "    return 1/np.sqrt(2 * sigma ** 2 * np.pi) * np.exp(-(x - mu) ** 2 / (2 * sigma ** 2))\n",
    "\n",
    "def gaussian_cdf(x, mu=0, sigma=1):\n",
    "    return norm(loc=mu, scale=sigma).cdf(x)"
   ]
  },
  {
   "cell_type": "code",
   "execution_count": 92,
   "metadata": {
    "collapsed": false
   },
   "outputs": [
    {
     "name": "stdout",
     "output_type": "stream",
     "text": [
      "true probability: 2.866515719235352e-07\n"
     ]
    }
   ],
   "source": [
    "# estimate the probability of sampling a gaussian above some threshold\n",
    "thresh = 5.\n",
    "# correct answer is given by 1 - cdf(thresh)\n",
    "print('true probability: {}'.format(1 - gaussian_cdf(thresh)))"
   ]
  },
  {
   "cell_type": "code",
   "execution_count": 93,
   "metadata": {
    "collapsed": false
   },
   "outputs": [],
   "source": [
    "# monte carlo \n",
    "def monte_carlo(thresh, N=10000, mu=0, sigma=1.):\n",
    "    count = 0\n",
    "    for i in range(N):\n",
    "        s = np.random.randn() * sigma + mu\n",
    "        if s > thresh:\n",
    "            w = gaussian_pdf(s) / gaussian_pdf(s, mu=mu, sigma=sigma)\n",
    "            count += w\n",
    "    return count / float(N)"
   ]
  },
  {
   "cell_type": "code",
   "execution_count": 94,
   "metadata": {
    "collapsed": false
   },
   "outputs": [
    {
     "name": "stdout",
     "output_type": "stream",
     "text": [
      "monte_carlo estimate: 0.0\n"
     ]
    }
   ],
   "source": [
    "l_hat_mc = monte_carlo(thresh)\n",
    "print('monte_carlo estimate: {}'.format(l_hat_mc)) # basically never samples it"
   ]
  },
  {
   "cell_type": "code",
   "execution_count": 95,
   "metadata": {
    "collapsed": false
   },
   "outputs": [
    {
     "name": "stdout",
     "output_type": "stream",
     "text": [
      "monte carlo importance sample estimate: 2.9482926441211803e-07\n"
     ]
    }
   ],
   "source": [
    "l_hat_mcis = monte_carlo(thresh, mu=thresh)\n",
    "print('monte carlo importance sample estimate: {}'.format(l_hat_mcis)) # decent proposal dist, but variance too high"
   ]
  },
  {
   "cell_type": "code",
   "execution_count": 111,
   "metadata": {
    "collapsed": true
   },
   "outputs": [],
   "source": [
    "# importance sampling where the proposal distribution is selected via cross entropy method\n",
    "def monte_carlo_cross_entropy(y, max_iters=50, N=1000, percentile=50):\n",
    "    ### 1. initialize\n",
    "    v = [0., 1.] # parameters same as f(.;u) => zero mean, unit variance normal\n",
    "    \n",
    "    for it in range(max_iters):\n",
    "        \n",
    "        ### 2. sample and recompute threshold\n",
    "        # sample X\n",
    "        X = np.random.randn(N) * v[1] + v[0]\n",
    "        # compute top percentile \n",
    "        y_hat = min(y, np.percentile(X, percentile))\n",
    "        # if y_hat >= y, then we've finished\n",
    "        if y_hat >= y:\n",
    "            break\n",
    "        \n",
    "        ### 3. update v\n",
    "        top_X = X[X > y_hat]\n",
    "        w = gaussian_pdf(top_X) / gaussian_pdf(top_X, mu=v[0], sigma=v[1])\n",
    "        mu = np.sum(w * top_X) / np.sum(w)\n",
    "        sigma = np.sqrt(np.sum(w * (top_X - v[0]) ** 2) / np.sum(w))\n",
    "        v[0], v[1] = mu, sigma        \n",
    "        \n",
    "    ### 4. return the parameters, which can then be used for computing the estimate\n",
    "    return v"
   ]
  },
  {
   "cell_type": "code",
   "execution_count": 113,
   "metadata": {
    "collapsed": false,
    "scrolled": true
   },
   "outputs": [
    {
     "name": "stdout",
     "output_type": "stream",
     "text": [
      "proposal mean 5.038680955948731\n",
      "proposal sigma 0.26200066043473075\n",
      "monte carlo cross entropy method estimate: 2.9482926441211803e-07\n"
     ]
    }
   ],
   "source": [
    "mu, sigma = monte_carlo_cross_entropy(thresh, max_iters=100)\n",
    "print('proposal mean {}'.format(mu))\n",
    "print('proposal sigma {}'.format(sigma))\n",
    "l_hat_mcec = monte_carlo(thresh, N=100, mu=mu, sigma=sigma)\n",
    "print('monte carlo cross entropy method estimate: {}'.format(l_hat_mcis)) # essentially the same as IS with lower var"
   ]
  },
  {
   "cell_type": "code",
   "execution_count": 114,
   "metadata": {
    "collapsed": false
   },
   "outputs": [
    {
     "name": "stdout",
     "output_type": "stream",
     "text": [
      "true probability: 2.866515719235352e-07\n",
      "monte carlo: 0.0\n",
      "monte carlo importance sampling: 2.874814475220717e-07\n",
      "monte carlo cross entropy method: 2.867296385257778e-07\n"
     ]
    }
   ],
   "source": [
    "# compare them\n",
    "thresh = 5.\n",
    "num_steps = 10\n",
    "num_samples = [int(v) for v in np.linspace(100, 100000, num_steps)]\n",
    "\n",
    "# params\n",
    "proposal_parameters = np.empty((3, 2))\n",
    "# crude monte carlo uses unit gaussian\n",
    "proposal_parameters[0,0] = 0\n",
    "proposal_parameters[0,1] = 1.\n",
    "# importance sampling uses unit variance gaussian centered at threshold\n",
    "proposal_parameters[1,0] = thresh\n",
    "proposal_parameters[1,1] = 1.\n",
    "# use cross entropy method to find parameters\n",
    "proposal_parameters[2,:] = monte_carlo_cross_entropy(thresh, max_iters=100, N=10000)\n",
    "\n",
    "estimates = np.empty((num_steps, 3))\n",
    "for i, N in enumerate(num_samples):\n",
    "    for j, params in enumerate(proposal_parameters):\n",
    "        estimates[i, j] = monte_carlo(thresh, N=N, mu=params[0], sigma=params[1])\n",
    "    \n",
    "true_prob = 1 - gaussian_cdf(thresh)\n",
    "print('true probability: {}'.format(true_prob))\n",
    "print('monte carlo: {}'.format(estimates[-1,0]))\n",
    "print('monte carlo importance sampling: {}'.format(estimates[-1,1]))\n",
    "print('monte carlo cross entropy method: {}'.format(estimates[-1,2]))"
   ]
  },
  {
   "cell_type": "code",
   "execution_count": 117,
   "metadata": {
    "collapsed": false
   },
   "outputs": [
    {
     "data": {
      "image/png": "[encoded data removed]",
      "text/plain": [
       "<matplotlib.figure.Figure at 0x10d263ac8>"
      ]
     },
     "metadata": {},
     "output_type": "display_data"
    }
   ],
   "source": [
    "# plt.scatter(num_samples, estimates[:,0], c='green', label='cmc') # cmc never samples it basically\n",
    "xmin, xmax = np.min(num_samples), np.max(num_samples)\n",
    "ymin, ymax = np.min(estimates[:,1:]), np.max(estimates[:,1:])\n",
    "plt.axis=([xmin,xmax,ymin,ymax])\n",
    "plt.plot(num_samples, estimates[:,1], c='blue', label='is', ls=':')\n",
    "plt.plot(num_samples, estimates[:,2], c='red', label='cem', ls='--')\n",
    "plt.plot((xmin, xmax), (true_prob, true_prob), 'k-')\n",
    "plt.xlabel('number of samples')\n",
    "plt.ylabel('estimate')\n",
    "plt.legend()\n",
    "plt.show()"
   ]
  },
  {
   "cell_type": "code",
   "execution_count": null,
   "metadata": {
    "collapsed": true
   },
   "outputs": [],
   "source": [
    "\"\"\"\n",
    "# Algo Overview:\n",
    "- cross entropy method is a general optimization method that you can also use for simulating rare events\n",
    "- for rare event simulation, you use cem to find the parameters of the proposal distribution to use in IS\n",
    "- where that proposal distribution is typically limited to some family of parametric functions\n",
    "- and where the best instantiation of that family of functions is the one that minimizes the kl divergence \n",
    "    between itself and the optimal proposal distribution g*\n",
    "    - you could not limit it to a parametric family, but then it would be difficult to compute the updated \n",
    "        parameters potentially (or at least you might not do be able to do it analytically).\n",
    "\n",
    "# Optimal proposal dist:\n",
    "- the optimal proposal distribution g* is the one that minimizes the variance in estimating some value l\n",
    "    - g* = 1{S(X) > y} * f(X;u) / l\n",
    "        - where 1{S(X) > y} is an indicator function for some function of X, S(X) being larger than a threshold gamma\n",
    "        - f(X;u) is the original distribution\n",
    "        - l is the quantity of interest\n",
    "    - the reason g* is the optimal proposal distribution is because if you had it then you would only need a single\n",
    "        sample to determine l\n",
    "        - intuitively, this is because g* only gives positive probability to samples that meet the criteria (1{S(X) > y})\n",
    "            and does so proportionally to f(X;u). g* only requires a single sample as a result because the proportional\n",
    "            weighting is such that l (the quantity of interest) is the normalizing constant.\n",
    "\n",
    "# The optimization:\n",
    "- one clever thing about it is how it goes about finding proposal distributions when the desired event is rare\n",
    "    - it's answer to this problem is that it ignores the \"rarity\" of the event at first \n",
    "        - i.e., it states with a gamma that is easy to fulfil\n",
    "    - and iteratively makes that gamma closer to the true gamma\n",
    "    - what's good about this is that it works at all\n",
    "    - what's bad about this is that if the optimization landscape is nonconvex then you'll get stuck in local optima\n",
    "        - though it seems like this might not be that big a deal in practice b/c people typically adhere to \n",
    "            certain parametric families\n",
    "        - also not that big a deal as a result of using KL divergence\n",
    "            - this basically results in analytical solutions\n",
    "\n",
    "# additional notes:\n",
    "- it is essentially a genetic programming, hill climbing algorithm \n",
    "    - in the sense that it assumes that by iteratively increasing lambda and keeping samples that do well at this\n",
    "        it will find an acceptable solution to the proposal distribution parameters\n",
    "- note that the optimization of v must be convex and continuous to get the optimal solution\n",
    "    - for example, I initially started with the example of finding the sampling distribution to use with a\n",
    "        bernoulli, and that doesn't work b/c not continuous\n",
    "- see written notes for more details\n",
    "\n",
    "# description of the above notebook:\n",
    "- the above notebook compares crude monte carlo, importance sampling with a heuristicly selected proposal distribution\n",
    "    and monte carlo using a proposal distribution selected via the cross entropy method\n",
    "- in each case, the monte carlo is trying to do the following\n",
    "    - estimate the probability that a unit gaussian is sampled above some threshold\n",
    "    - you can of course just compute the answer to this with the gaussian cdf\n",
    "    - X = samples\n",
    "    - S(X) = value of X\n",
    "    - y = threshold\n",
    "    - 1[S(X) > y] = condition for scoring\n",
    "    - f(.;u) = original distribution (unit gaussian)\n",
    "    - f(.;v) = distribution learned via cem\n",
    "    - g* = optimal proposal distribution (not actually sure what this would be)\n",
    "    - the equations for v above you get by formulating a sum over the samples, taking derivative wrt mu and sigma\n",
    "        and then solving for the optimal values \n",
    "        - this works with gaussians\n",
    "            mu = (sum_i w_i x_i) / (sum_i w_i)\n",
    "            sigma^2 = (sum_i w_i (x_i - mu)^2) / (sum_i w_i)\n",
    "         \n",
    "# questions:\n",
    "- why it is called the cross entropy method\n",
    "    - is it the cross entropy between the parameters that fit the current samples and g*? \n",
    "        - kinda, it's called that because it finds the parameters v in f(.;v) that minimize the kl between f(.;v) \n",
    "            and g*, and does so optimally in certain cases.\n",
    "- what exactly does the w term in the update accomplish?\n",
    "    - weights the samples based on their similarity with the original sampling distribution, which is part of \n",
    "        finding the v of f(.;v) that minimizes kl with g*\n",
    "        \n",
    "# refs\n",
    "- http://web.mit.edu/6.454/www/www_fall_2003/gew/CEsummary.pdf\n",
    "- http://ieeexplore.ieee.org/document/7534875/\n",
    "- http://arc.aiaa.org/doi/abs/10.2514/1.D0020?journalCode=jat\n",
    "\"\"\""
   ]
  }
 ],
 "metadata": {
  "anaconda-cloud": {},
  "kernelspec": {
   "display_name": "Python [conda env:riskenv]",
   "language": "python",
   "name": "conda-env-riskenv-py"
  },
  "language_info": {
   "codemirror_mode": {
    "name": "ipython",
    "version": 3
   },
   "file_extension": ".py",
   "mimetype": "text/x-python",
   "name": "python",
   "nbconvert_exporter": "python",
   "pygments_lexer": "ipython3",
   "version": "3.5.2"
  }
 },
 "nbformat": 4,
 "nbformat_minor": 1
}
