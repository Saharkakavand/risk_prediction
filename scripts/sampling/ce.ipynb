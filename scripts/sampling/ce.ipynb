{
 "cells": [
  {
   "cell_type": "code",
   "execution_count": 1,
   "metadata": {
    "collapsed": false
   },
   "outputs": [],
   "source": [
    "\"\"\"\n",
    "Goals:\n",
    "- understand cross entropy method\n",
    "- understand main challenges in using it for IS\n",
    "- understand challenges in doing active learning\n",
    "Plan:\n",
    "- fit a network to some dataset \n",
    "- fit it again using some other method\n",
    "\"\"\";"
   ]
  },
  {
   "cell_type": "code",
   "execution_count": 2,
   "metadata": {
    "collapsed": true
   },
   "outputs": [],
   "source": [
    "%matplotlib inline\n",
    "import collections\n",
    "import matplotlib.pyplot as plt\n",
    "import numpy as np"
   ]
  },
  {
   "cell_type": "code",
   "execution_count": 30,
   "metadata": {
    "collapsed": true
   },
   "outputs": [],
   "source": [
    "def identity(x):\n",
    "    return x\n",
    "\n",
    "def gaussian_pdf(x, mu=0, sigma=1):\n",
    "    return 1/np.sqrt(2 * sigma ** 2 * np.pi) * np.exp(-(x - mu) ** 2 / (2 * sigma ** 2))\n",
    "\n",
    "def logistic(x):\n",
    "    return 1 / (1 + np.exp(-x))\n",
    "\n",
    "def gen_1d_data(gen, xmin, xmax, num_samples):\n",
    "    x = np.linspace(xmin, xmax, num_samples)\n",
    "    return (x.reshape(-1,1), gen(x).reshape(-1,1))    \n",
    "\n",
    "def init_toy_data(batch_size, input_dim, output_dim):\n",
    "    np.random.seed(1)\n",
    "    X = 10 * np.random.randn(batch_size, input_dim)\n",
    "    y = np.random.randn(batch_size, output_dim)\n",
    "    return X, y"
   ]
  },
  {
   "cell_type": "code",
   "execution_count": 15,
   "metadata": {
    "collapsed": false
   },
   "outputs": [
    {
     "data": {
      "text/plain": [
       "<matplotlib.collections.PathCollection at 0x10673cd68>"
      ]
     },
     "execution_count": 15,
     "metadata": {},
     "output_type": "execute_result"
    },
    {
     "data": {
      "image/png": "[encoded data removed]",
      "text/plain": [
       "<matplotlib.figure.Figure at 0x1065c6198>"
      ]
     },
     "metadata": {},
     "output_type": "display_data"
    }
   ],
   "source": [
    "num_samples = 10\n",
    "x, y = gen_1d_data(gaussian_pdf, -3, 3, num_samples)\n",
    "plt.scatter(x,y)"
   ]
  },
  {
   "cell_type": "code",
   "execution_count": 44,
   "metadata": {
    "collapsed": false
   },
   "outputs": [],
   "source": [
    "class basic_nnet(object):\n",
    "    \n",
    "    def __init__(self, input_dim, hidden_dim, output_dim):\n",
    "        self.input_dim = input_dim\n",
    "        self.hidden_dim = hidden_dim\n",
    "        self.output_dim = output_dim\n",
    "        self.initialize_params()\n",
    "        \n",
    "    def initialize_params(self):\n",
    "        # input to hidden \n",
    "        w_1 = np.random.randn(self.input_dim, self.hidden_dim)\n",
    "        b_1 = np.zeros((1, self.hidden_dim)) + .01\n",
    "        \n",
    "        # hidden to hidden\n",
    "        w_2 = np.random.randn(self.hidden_dim, self.hidden_dim)\n",
    "        b_2 = np.zeros((1, self.hidden_dim)) + .01\n",
    "        \n",
    "        # hidden to output\n",
    "        w_3 = np.random.randn(self.hidden_dim, self.output_dim)\n",
    "        b_3 = np.zeros((1, self.output_dim))\n",
    "        \n",
    "        self.params = {'w_1': w_1, 'b_1': b_1, \n",
    "                       'w_2': w_2, 'b_2': b_2,\n",
    "                       'w_3': w_3, 'b_3': b_3}\n",
    "        \n",
    "    def loss(self, X, y=None):\n",
    "        w_1, b_1 = self.params['w_1'], self.params['b_1'] \n",
    "        w_2, b_2 = self.params['w_2'], self.params['b_2']\n",
    "        w_3, b_3 = self.params['w_3'], self.params['b_3']\n",
    "        \n",
    "        # input to hidden\n",
    "        h_1 = np.maximum(0, np.dot(X, w_1) + b_1)\n",
    "        h_2 = np.maximum(0, np.dot(h_1, w_2) + b_2)\n",
    "        \n",
    "        # hidden to output\n",
    "        scores = np.dot(h_2, w_3) + b_3\n",
    "        \n",
    "        # if y not provided, then just return scores\n",
    "        if y is None:\n",
    "            return scores\n",
    "        \n",
    "        # loss \n",
    "        loss = .5 * np.sum((scores - y) ** 2)\n",
    "        \n",
    "        # grads\n",
    "        dloss_dscores = (scores - y)\n",
    "        dscores_db_3 = np.sum(dloss_dscores, axis=0, keepdims=True)\n",
    "        dscores_dw_3 = np.dot(h_2.T, dloss_dscores)\n",
    "        dscores_dh2 = np.dot(dloss_dscores, w_3.T)\n",
    "        \n",
    "        dh_2_dz_2 = dscores_dh2[:]\n",
    "        dh_2_dz_2[h_2 <= 0] = 0\n",
    "        dz_2_db_2 = np.sum(dh_2_dz_2, axis=0, keepdims=True)\n",
    "        dz_2_dw_2 = np.dot(h_1.T, dh_2_dz_2)\n",
    "        dz_2_dh_1 = np.dot(dh_2_dz_2, w_2.T)\n",
    "        \n",
    "        dh_1_dz_1 = dz_2_dh_1[:]\n",
    "        dh_1_dz_1[h_1 <= 0] = 0\n",
    "        dz_1_db_1 = np.sum(dh_1_dz_1, axis=0, keepdims=True)\n",
    "        dz_1_dw_1 = np.dot(X.T, dh_1_dz_1)\n",
    "        \n",
    "        grads = {}\n",
    "        grads['w_1'] = dz_1_dw_1\n",
    "        grads['b_1'] = dz_1_db_1\n",
    "        grads['w_2'] = dz_2_dw_2\n",
    "        grads['b_2'] = dz_2_db_2\n",
    "        grads['w_3'] = dscores_dw_3\n",
    "        grads['b_3'] = dscores_db_3\n",
    "        \n",
    "        return loss, grads\n",
    "    \n",
    "    def train(self, X, y, lr=0.001, batch_size=10, num_epochs=10, lr_decay=.999, verbose=True):\n",
    "        \n",
    "        # train for epochs\n",
    "        for epoch in range(num_epochs):\n",
    "            \n",
    "            # determine batches\n",
    "            num_batches = int(len(X) / batch_size)\n",
    "            if num_batches < len(X) / batch_size:\n",
    "                num_batches += 1\n",
    "            \n",
    "            losses = []\n",
    "            for bidx in range(num_batches):\n",
    "                \n",
    "                # compute loss and grads on this batch\n",
    "                s = bidx * batch_size\n",
    "                e = s + batch_size\n",
    "                loss, grads = self.loss(X[s:e], y[s:e])\n",
    "                losses.append(loss)\n",
    "                \n",
    "                # perform gradient descent update\n",
    "                for k in self.params.keys():\n",
    "                    self.params[k] -= lr * grads[k]\n",
    "            \n",
    "            # lr update\n",
    "            lr *= lr_decay\n",
    "            \n",
    "            # how's it goin?\n",
    "            if verbose and epoch % 100 == 0:\n",
    "                print('epoch: {} / {}\\t loss: {}'.format(epoch, num_epochs, np.mean(losses)))\n",
    "                "
   ]
  },
  {
   "cell_type": "code",
   "execution_count": 17,
   "metadata": {
    "collapsed": false
   },
   "outputs": [],
   "source": [
    "def eval_numerical_gradient(f, x, verbose=True, h=0.00001):\n",
    "    \"\"\" \n",
    "    - f should be a function that takes a single argument\n",
    "    - x is the point (numpy array) to evaluate the gradient at\n",
    "    \"\"\" \n",
    "    fx = f(x) # evaluate function value at original point\n",
    "    grad = np.zeros_like(x)\n",
    "    # iterate over all indexes in x\n",
    "    it = np.nditer(x, flags=['multi_index'], op_flags=['readwrite'])\n",
    "    while not it.finished:\n",
    "        # evaluate function at x+h\n",
    "        ix = it.multi_index\n",
    "        oldval = x[ix]\n",
    "        x[ix] = oldval + h # increment by h\n",
    "        fxph = f(x) # evalute f(x + h)\n",
    "        x[ix] = oldval - h\n",
    "        fxmh = f(x) # evaluate f(x - h)\n",
    "        x[ix] = oldval # restore\n",
    "\n",
    "        # compute the partial derivative with centered formula\n",
    "        grad[ix] = (fxph - fxmh) / (2 * h) # the slope\n",
    "        if verbose:\n",
    "            print(ix, grad[ix])\n",
    "        it.iternext() # step to next dimension\n",
    "    return grad\n",
    "\n",
    "def rel_error(x, y):\n",
    "    \"\"\" returns relative error \"\"\"\n",
    "    return np.max(np.abs(x - y) / (np.maximum(1e-8, np.abs(x) + np.abs(y))))"
   ]
  },
  {
   "cell_type": "code",
   "execution_count": 18,
   "metadata": {
    "collapsed": false
   },
   "outputs": [
    {
     "name": "stdout",
     "output_type": "stream",
     "text": [
      "b_1 max relative error: 6.401469e-10\n",
      "b_2 max relative error: 1.344131e-10\n",
      "w_1 max relative error: 5.726133e-12\n",
      "w_2 max relative error: 1.749904e-11\n",
      "w_3 max relative error: 3.472208e-12\n",
      "b_3 max relative error: 2.122496e-10\n"
     ]
    }
   ],
   "source": [
    "input_dim, hidden_dim, output_dim, batch_size = 1, 2, 1, 2\n",
    "net = basic_nnet(input_dim, hidden_dim, output_dim)\n",
    "X, y = init_toy_data(batch_size, input_dim, output_dim)\n",
    "loss, grads = net.loss(X, y)\n",
    "\n",
    "# these should all be less than 1e-8 or so\n",
    "for param_name in grads.keys():\n",
    "    \n",
    "    f = lambda W: net.loss(X, y)[0]\n",
    "    param_grad_num = eval_numerical_gradient(f, net.params[param_name], verbose=False)\n",
    "    print('%s max relative error: %e' % (param_name, rel_error(param_grad_num, grads[param_name])))"
   ]
  },
  {
   "cell_type": "code",
   "execution_count": 48,
   "metadata": {
    "collapsed": true
   },
   "outputs": [],
   "source": [
    "num_samples = 1000\n",
    "input_dim, hidden_dim, output_dim, batch_size = 1, 16, 1, 200\n",
    "net = basic_nnet(input_dim, hidden_dim, output_dim)\n",
    "X, y = gen_1d_data(logistic, -3, 3, num_samples)"
   ]
  },
  {
   "cell_type": "code",
   "execution_count": 54,
   "metadata": {
    "collapsed": false,
    "scrolled": true
   },
   "outputs": [
    {
     "name": "stdout",
     "output_type": "stream",
     "text": [
      "epoch: 0 / 1000\t loss: 0.000354581948040594\n",
      "epoch: 100 / 1000\t loss: 0.0006510606897542087\n",
      "epoch: 200 / 1000\t loss: 0.0006191346823571936\n",
      "epoch: 300 / 1000\t loss: 0.0005842560835957554\n",
      "epoch: 400 / 1000\t loss: 0.0005584043479705025\n",
      "epoch: 500 / 1000\t loss: 0.0005438264347901942\n",
      "epoch: 600 / 1000\t loss: 0.0005334860469525473\n",
      "epoch: 700 / 1000\t loss: 0.0005281317793502976\n",
      "epoch: 800 / 1000\t loss: 0.0005247175118308653\n",
      "epoch: 900 / 1000\t loss: 0.0005227208728861159\n"
     ]
    }
   ],
   "source": [
    "net.train(X, y, lr=.001, num_epochs=1000, lr_decay=.995, verbose=True)"
   ]
  },
  {
   "cell_type": "code",
   "execution_count": 55,
   "metadata": {
    "collapsed": false
   },
   "outputs": [
    {
     "data": {
      "text/plain": [
       "<matplotlib.collections.PathCollection at 0x108991da0>"
      ]
     },
     "execution_count": 55,
     "metadata": {},
     "output_type": "execute_result"
    },
    {
     "data": {
      "image/png": "[encoded data removed]",
      "text/plain": [
       "<matplotlib.figure.Figure at 0x108458898>"
      ]
     },
     "metadata": {},
     "output_type": "display_data"
    }
   ],
   "source": [
    "x = np.linspace(-3,3,num_samples).reshape(-1,1)\n",
    "y_pred = net.loss(x)\n",
    "plt.subplot('121')\n",
    "plt.scatter(x, y_pred)\n",
    "plt.subplot('122')\n",
    "plt.scatter(x, y)"
   ]
  },
  {
   "cell_type": "code",
   "execution_count": null,
   "metadata": {
    "collapsed": true
   },
   "outputs": [],
   "source": [
    "\"\"\"\n",
    "Ok it kinda of works now what?\n",
    "- see how many samples to get good loss?\n",
    "- \n",
    "\"\"\""
   ]
  }
 ],
 "metadata": {
  "anaconda-cloud": {},
  "kernelspec": {
   "display_name": "Python [default]",
   "language": "python",
   "name": "python3"
  },
  "language_info": {
   "codemirror_mode": {
    "name": "ipython",
    "version": 3
   },
   "file_extension": ".py",
   "mimetype": "text/x-python",
   "name": "python",
   "nbconvert_exporter": "python",
   "pygments_lexer": "ipython3",
   "version": "3.5.2"
  }
 },
 "nbformat": 4,
 "nbformat_minor": 1
}
