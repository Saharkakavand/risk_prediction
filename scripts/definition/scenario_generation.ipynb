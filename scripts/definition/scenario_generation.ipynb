{
 "cells": [
  {
   "cell_type": "code",
   "execution_count": 1,
   "metadata": {
    "collapsed": false
   },
   "outputs": [
    {
     "data": {
      "text/html": [
       "<div id=\"interact-js-shim\">\n",
       "    <script charset=\"utf-8\">\n",
       "(function (IPython, $, _, MathJax) {\n",
       "    $.event.special.destroyed = {\n",
       "\tremove: function(o) {\n",
       "\t    if (o.handler) {\n",
       "\t\to.handler.apply(this, arguments)\n",
       "\t    }\n",
       "\t}\n",
       "    }\n",
       "\n",
       "    var OutputArea = IPython.version >= \"4.0.0\" ? require(\"notebook/js/outputarea\").OutputArea : IPython.OutputArea;\n",
       "\n",
       "    var redrawValue = function (container, type, val) {\n",
       "\tvar selector = $(\"<div/>\");\n",
       "\tvar oa = new OutputArea(_.extend(selector, {\n",
       "\t    selector: selector,\n",
       "\t    prompt_area: true,\n",
       "\t    events: IPython.events,\n",
       "\t    keyboard_manager: IPython.keyboard_manager\n",
       "\t})); // Hack to work with IPython 2.1.0\n",
       "\n",
       "\tswitch (type) {\n",
       "\tcase \"image/png\":\n",
       "            var _src = 'data:' + type + ';base64,' + val;\n",
       "\t    $(container).find(\"img\").attr('src', _src);\n",
       "\t    break;\n",
       "\tcase \"text/latex\":\n",
       "\t\tif (MathJax){\n",
       "\t\t\tvar math = MathJax.Hub.getAllJax(container)[0];\n",
       "\t\t\tMathJax.Hub.Queue([\"Text\", math, val.replace(/^\\${1,2}|\\${1,2}$/g, '')]);\n",
       "\t\t\tbreak;\n",
       "\t\t}\n",
       "\tdefault:\n",
       "\t    var toinsert = OutputArea.append_map[type].apply(\n",
       "\t\toa, [val, {}, selector]\n",
       "\t    );\n",
       "\t    $(container).empty().append(toinsert.contents());\n",
       "\t    selector.remove();\n",
       "\t}\n",
       "    }\n",
       "\n",
       "\n",
       "    $(document).ready(function() {\n",
       "\tfunction initComm(evt, data) {\n",
       "\t    var comm_manager = data.kernel.comm_manager;\n",
       "        //_.extend(comm_manager.targets, require(\"widgets/js/widget\"))\n",
       "\t    comm_manager.register_target(\"Signal\", function (comm) {\n",
       "            comm.on_msg(function (msg) {\n",
       "                var val = msg.content.data.value;\n",
       "                $(\".signal-\" + comm.comm_id).each(function() {\n",
       "                var type = $(this).data(\"type\");\n",
       "                if (typeof(val[type]) !== \"undefined\" && val[type] !== null) {\n",
       "                    redrawValue(this, type, val[type], type);\n",
       "                }\n",
       "                });\n",
       "                delete val;\n",
       "                delete msg.content.data.value;\n",
       "            });\n",
       "\t    });\n",
       "\n",
       "\t    // coordingate with Comm and redraw Signals\n",
       "\t    // XXX: Test using Reactive here to improve performance\n",
       "\t    $([IPython.events]).on(\n",
       "\t\t'output_appended.OutputArea', function (event, type, value, md, toinsert) {\n",
       "\t\t    if (md && md.reactive) {\n",
       "                // console.log(md.comm_id);\n",
       "                toinsert.addClass(\"signal-\" + md.comm_id);\n",
       "                toinsert.data(\"type\", type);\n",
       "                // Signal back indicating the mimetype required\n",
       "                var comm_manager = IPython.notebook.kernel.comm_manager;\n",
       "                var comm = comm_manager.comms[md.comm_id];\n",
       "                comm.then(function (c) {\n",
       "                    c.send({action: \"subscribe_mime\",\n",
       "                       mime: type});\n",
       "                    toinsert.bind(\"destroyed\", function() {\n",
       "                        c.send({action: \"unsubscribe_mime\",\n",
       "                               mime: type});\n",
       "                    });\n",
       "                })\n",
       "\t\t    }\n",
       "\t    });\n",
       "\t}\n",
       "\n",
       "\ttry {\n",
       "\t    // try to initialize right away. otherwise, wait on the status_started event.\n",
       "\t    initComm(undefined, IPython.notebook);\n",
       "\t} catch (e) {\n",
       "\t    $([IPython.events]).on('kernel_created.Kernel kernel_created.Session', initComm);\n",
       "\t}\n",
       "    });\n",
       "})(IPython, jQuery, _, MathJax);\n",
       "</script>\n",
       "    <script>\n",
       "        window.interactLoadedFlag = true\n",
       "       $(\"#interact-js-shim\").bind(\"destroyed\", function () {\n",
       "           if (window.interactLoadedFlag) {\n",
       "               console.warn(\"JavaScript required by Interact will be removed if you remove this cell or run using Interact more than once.\")\n",
       "           }\n",
       "       })\n",
       "       $([IPython.events]).on(\"kernel_starting.Kernel kernel_restarting.Kernel\", function () { window.interactLoadedFlag = false })\n",
       "   </script>\n",
       "</div>"
      ]
     },
     "metadata": {},
     "output_type": "display_data"
    }
   ],
   "source": [
    "using AutoRisk\n",
    "using Distributions\n",
    "using HDF5\n",
    "using PGFPlots"
   ]
  },
  {
   "cell_type": "code",
   "execution_count": 74,
   "metadata": {
    "collapsed": false
   },
   "outputs": [
    {
     "data": {
      "text/plain": [
       "build_basic_scenario (generic function with 1 method)"
      ]
     },
     "execution_count": 74,
     "metadata": {},
     "output_type": "execute_result"
    }
   ],
   "source": [
    "function build_basic_scenario(seed::Int; \n",
    "        σ_lon::Float64 = 0., \n",
    "        lo_Δs::Float64 = 10., \n",
    "        hi_Δs::Float64 = 20.,\n",
    "        ego_v::Float64 = 5.,\n",
    "        oth_v::Float64 = 0.)\n",
    "    srand(seed)\n",
    "    # add three vehicles and specifically check neighbor features\n",
    "    context = IntegratedContinuous(.1, 1)\n",
    "    num_veh = 2\n",
    "    roadway = gen_straight_roadway(1, 50.)\n",
    "    scene = Scene(num_veh)\n",
    "    models = Dict{Int, DriverModel}()\n",
    "\n",
    "    # 1: first vehicle, moving the fastest\n",
    "    mlon = StaticLongitudinalDriver(0.)\n",
    "    mlon.σ = σ_lon\n",
    "    models[1] = Tim2DDriver(context, mlon = mlon)\n",
    "    road_idx = RoadIndex(proj(VecSE2(0.0, 0.0, 0.0), roadway))\n",
    "    base_speed = ego_v\n",
    "    veh_state = VehicleState(Frenet(road_idx, roadway), roadway, base_speed)\n",
    "    veh_def = VehicleDef(1, AgentClass.CAR, 5., 2.)\n",
    "    push!(scene, Vehicle(veh_state, veh_def))\n",
    "\n",
    "    # 2: second vehicle, in front\n",
    "    mlon = StaticLongitudinalDriver(0.)\n",
    "    models[2] = Tim2DDriver(context, mlon = mlon)\n",
    "    base_speed = oth_v\n",
    "    Δs = rand(Uniform(lo_Δs, hi_Δs))\n",
    "    veh_state = VehicleState(Frenet(road_idx, roadway), roadway, base_speed)\n",
    "    veh_state = move_along(veh_state, roadway, Δs)\n",
    "    veh_def = VehicleDef(2, AgentClass.CAR, 5., 2.)\n",
    "    push!(scene, Vehicle(veh_state, veh_def))\n",
    "    return scene, models, roadway\n",
    "end"
   ]
  },
  {
   "cell_type": "code",
   "execution_count": 75,
   "metadata": {
    "collapsed": false
   },
   "outputs": [
    {
     "data": {
      "text/plain": [
       "build_evaluator (generic function with 2 methods)"
      ]
     },
     "execution_count": 75,
     "metadata": {},
     "output_type": "execute_result"
    }
   ],
   "source": [
    "# build evaluator \n",
    "function build_evaluator(num_runs::Int = 10)\n",
    "    context = IntegratedContinuous(.1, 1)\n",
    "    num_veh = 2\n",
    "    prime_time = .1\n",
    "    sampling_time = 10.\n",
    "    sampling_period = .1\n",
    "    veh_idx_can_change = false\n",
    "    num_scenes = Int(ceil((prime_time + sampling_time) / sampling_period)) + 1\n",
    "\n",
    "    subexts = Vector{AbstractFeatureExtractor}([CarLidarFeatureExtractor()])\n",
    "    ext = MultiFeatureExtractor(subexts)\n",
    "    # ext = MultiFeatureExtractor()\n",
    "    num_features = length(ext)\n",
    "    num_targets = 5\n",
    "    rec = SceneRecord(num_scenes, .1, num_veh)\n",
    "    features = Array{Float64}(num_features, 1, num_veh)\n",
    "    targets = Array{Float64}(num_targets, num_veh)\n",
    "    agg_targets = Array{Float64}(num_targets, num_veh)\n",
    "\n",
    "    rng = MersenneTwister(1)\n",
    "    eval = MonteCarloEvaluator(ext, num_runs, context, prime_time, sampling_time,\n",
    "        veh_idx_can_change, rec, features, targets, agg_targets, rng)\n",
    "    return eval\n",
    "end"
   ]
  },
  {
   "cell_type": "code",
   "execution_count": 76,
   "metadata": {
    "collapsed": false
   },
   "outputs": [
    {
     "data": {
      "text/plain": [
       "visualize_scenario (generic function with 1 method)"
      ]
     },
     "execution_count": 76,
     "metadata": {},
     "output_type": "execute_result"
    }
   ],
   "source": [
    "function visualize_scenario(rec::SceneRecord)\n",
    "    @manipulate for veh_id in collect(1:length(rec.scenes[1])),\n",
    "                zoom in [10.],\n",
    "                i in 1:(rec.nscenes)\n",
    "        idx = -(rec.nscenes - i)\n",
    "        stats = [CarFollowingStatsOverlay(veh_id, 2), NeighborsOverlay(veh_id, textparams = TextParams(x = 600, y_start=300))]\n",
    "        cam = CarFollowCamera(veh_id, zoom)\n",
    "        render(get_scene(rec, idx), roadway, stats, cam = cam)\n",
    "    end\n",
    "end"
   ]
  },
  {
   "cell_type": "code",
   "execution_count": 77,
   "metadata": {
    "collapsed": false
   },
   "outputs": [
    {
     "data": {
      "text/plain": [
       "build_dataset (generic function with 2 methods)"
      ]
     },
     "execution_count": 77,
     "metadata": {},
     "output_type": "execute_result"
    }
   ],
   "source": [
    "function build_dataset(scenario_gen, eval::Evaluator, num_scenarios::Int, kwargs::Dict=Dict())\n",
    "    num_features, num_timesteps, num_veh_per_scenario = size(eval.features)\n",
    "    num_targets, num_veh_per_scenario = size(eval.targets)\n",
    "    features = zeros(num_features, num_timesteps, num_veh_per_scenario * num_scenarios)\n",
    "    targets = zeros(num_targets, num_veh_per_scenario * num_scenarios)\n",
    "    for sidx in 1:num_scenarios\n",
    "        scene, models, roadway = scenario_gen(sidx; kwargs...)\n",
    "        evaluate!(eval, scene, models, roadway, sidx)\n",
    "        s = (sidx - 1) * num_veh_per_scenario\n",
    "        e = s + num_veh_per_scenario\n",
    "        features[:, :, (s+1):e] = get_features(eval)\n",
    "        targets[:, (s+1):e] = get_targets(eval)\n",
    "    end\n",
    "    return features, targets\n",
    "end"
   ]
  },
  {
   "cell_type": "code",
   "execution_count": 78,
   "metadata": {
    "collapsed": false
   },
   "outputs": [
    {
     "data": {
      "text/plain": [
       "save_dataset (generic function with 1 method)"
      ]
     },
     "execution_count": 78,
     "metadata": {},
     "output_type": "execute_result"
    }
   ],
   "source": [
    "function save_dataset(filepath, features, targets)\n",
    "    h5write(filepath, \"risk/features\", features)\n",
    "    h5write(filepath, \"risk/targets\", targets)\n",
    "end"
   ]
  },
  {
   "cell_type": "code",
   "execution_count": 79,
   "metadata": {
    "collapsed": false,
    "scrolled": false
   },
   "outputs": [
    {
     "data": {
      "text/html": [],
      "text/plain": [
       "Interact.Options{:ToggleButtons,Int64}(Signal{Int64}(1, nactions=1),\"veh_id\",1,\"1\",Interact.OptionDict(DataStructures.OrderedDict(\"1\"=>1,\"2\"=>2),Dict(2=>\"2\",1=>\"1\")),Any[],Any[],true,\"horizontal\")"
      ]
     },
     "metadata": {},
     "output_type": "display_data"
    },
    {
     "data": {
      "text/html": [],
      "text/plain": [
       "Interact.Options{:ToggleButtons,Float64}(Signal{Float64}(10.0, nactions=1),\"zoom\",10.0,\"10.0\",Interact.OptionDict(DataStructures.OrderedDict(\"10.0\"=>10.0),Dict(10.0=>\"10.0\")),Any[],Any[],true,\"horizontal\")"
      ]
     },
     "metadata": {},
     "output_type": "display_data"
    },
    {
     "data": {
      "text/html": [],
      "text/plain": [
       "Interact.Options{:SelectionSlider,Int64}(Signal{Int64}(51, nactions=1),\"i\",51,\"51\",Interact.OptionDict(DataStructures.OrderedDict(\"1\"=>1,\"2\"=>2,\"3\"=>3,\"4\"=>4,\"5\"=>5,\"6\"=>6,\"7\"=>7,\"8\"=>8,\"9\"=>9,\"10\"=>10…),Dict(68=>\"68\",2=>\"2\",89=>\"89\",11=>\"11\",39=>\"39\",46=>\"46\",85=>\"85\",25=>\"25\",55=>\"55\",42=>\"42\"…)),Any[],Any[],true,\"horizontal\")"
      ]
     },
     "metadata": {},
     "output_type": "display_data"
    },
    {
     "data": {
      "image/png": "[encoded data removed]",
      "text/plain": [
       "Cairo.CairoSurface{UInt32}(Ptr{Void} @0x00007fa2a662a250,1000.0,600.0,#undef)"
      ]
     },
     "execution_count": 79,
     "metadata": {
      "comm_id": "d33c8695-e005-4be2-9497-ae2a4d6c9605",
      "reactive": true
     },
     "output_type": "execute_result"
    }
   ],
   "source": [
    "scene, models, roadway = build_basic_scenario(1, σ_lon=2., hi_Δs=10., lo_Δs=9.999)\n",
    "eval = build_evaluator(2)\n",
    "evaluate!(eval, scene, models, roadway, 1)\n",
    "visualize_scenario(eval.rec)"
   ]
  },
  {
   "cell_type": "code",
   "execution_count": 80,
   "metadata": {
    "collapsed": true
   },
   "outputs": [],
   "source": [
    "# plan\n",
    "# everything happens at time t where 1. < t <= 2.\n",
    "# across all the different scenes\n",
    "# where prediction is increasingly complex for the different scenes being generated"
   ]
  },
  {
   "cell_type": "code",
   "execution_count": null,
   "metadata": {
    "collapsed": false
   },
   "outputs": [],
   "source": [
    "# simplest possible scenario, static vehicles, deterministic acceleration\n",
    "# kwargs = Dict() \n",
    "num_runs = 3\n",
    "kwargs = Dict(:σ_lon => 2., :hi_Δs=>10., :lo_Δs=>5., :ego_v=>0., :oth_v=>0.)\n",
    "eval_runs = [Int(ceil(v)) for v in linspace(1, 300, num_runs)]\n",
    "features_list = []\n",
    "targets_list = []\n",
    "for i in 1:num_runs\n",
    "    eval = build_evaluator(eval_runs[i])\n",
    "    features, targets = build_dataset(build_basic_scenario, eval, 50, kwargs);\n",
    "    push!(features_list, features)\n",
    "    push!(targets_list, targets)\n",
    "end"
   ]
  },
  {
   "cell_type": "code",
   "execution_count": 82,
   "metadata": {
    "collapsed": false
   },
   "outputs": [],
   "source": [
    "features = features_list[1]\n",
    "targets = targets_list[1]\n",
    "rm(\"../../data/datasets/debug/static_nondeterministic.h5\")\n",
    "save_dataset(\"../../data/datasets/debug/static_nondeterministic.h5\", features[:,:,1:2:end], targets[:,1:2:end])\n"
   ]
  },
  {
   "cell_type": "code",
   "execution_count": 83,
   "metadata": {
    "collapsed": false
   },
   "outputs": [
    {
     "name": "stdout",
     "output_type": "stream",
     "text": [
      "1.0\n",
      "200.0\n"
     ]
    }
   ],
   "source": [
    "println(sum(targets[3,1:2:end]) / length(targets[3,1:2:end]))\n",
    "println(sum(targets[2,:]))"
   ]
  },
  {
   "cell_type": "code",
   "execution_count": null,
   "metadata": {
    "collapsed": false
   },
   "outputs": [],
   "source": [
    "g = GroupPlot(3, 2, groupStyle = \"horizontal sep = 1.75cm, vertical sep = 1.5cm\")\n",
    "for i in 1:length(features_list)\n",
    "    features = features_list[i]\n",
    "    targets = targets_list[i]\n",
    "    a = Axis(Plots.Scatter(features[10,1,1:2:end], targets[3, 1:2:end]), title=string(eval_runs[i]))\n",
    "    push!(g,a)\n",
    "end\n",
    "g"
   ]
  },
  {
   "cell_type": "code",
   "execution_count": null,
   "metadata": {
    "collapsed": true
   },
   "outputs": [],
   "source": []
  },
  {
   "cell_type": "code",
   "execution_count": null,
   "metadata": {
    "collapsed": true
   },
   "outputs": [],
   "source": []
  }
 ],
 "metadata": {
  "anaconda-cloud": {},
  "kernelspec": {
   "display_name": "Julia 0.5.0",
   "language": "julia",
   "name": "julia-0.5"
  },
  "language_info": {
   "file_extension": ".jl",
   "mimetype": "application/julia",
   "name": "julia",
   "version": "0.5.0"
  },
  "widgets": {
   "state": {
    "0e032e0d-c3dd-4a9e-a5ff-72998a529a2d": {
     "views": [
      {
       "cell_index": 6
      }
     ]
    },
    "12aeb624-635a-450f-9016-5889de4d69b4": {
     "views": [
      {
       "cell_index": 6
      }
     ]
    },
    "1452bac5-25b9-40e8-bd97-8b764bb73b8a": {
     "views": [
      {
       "cell_index": 6
      }
     ]
    },
    "159d6c9d-f8cb-4930-be14-9da5e7d79d08": {
     "views": [
      {
       "cell_index": 6
      }
     ]
    },
    "16a3b715-f6a1-4911-8c20-d829624339a6": {
     "views": [
      {
       "cell_index": 6
      }
     ]
    },
    "1bed2951-bd99-47c7-86f6-672ee3c6e1dc": {
     "views": [
      {
       "cell_index": 6
      }
     ]
    },
    "414c4161-afa9-468f-8189-b0cd11952b6c": {
     "views": [
      {
       "cell_index": 6
      }
     ]
    },
    "48d6d715-f202-45c9-bcd0-95b7db0d40f7": {
     "views": [
      {
       "cell_index": 6
      }
     ]
    },
    "50d49238-a8e8-4007-9645-bc62a174af31": {
     "views": [
      {
       "cell_index": 6
      }
     ]
    },
    "55f09e14-45a9-4056-8f48-ace94b1c8d02": {
     "views": [
      {
       "cell_index": 6
      }
     ]
    },
    "637ce3d3-8722-4808-b20c-f47adac07e96": {
     "views": [
      {
       "cell_index": 7
      }
     ]
    },
    "63e517ba-e57f-49c2-807a-9d11ef039dc6": {
     "views": [
      {
       "cell_index": 6
      }
     ]
    },
    "68cb9e13-87b1-4fbf-a19a-89c257680a8e": {
     "views": [
      {
       "cell_index": 6
      }
     ]
    },
    "6a76c100-e140-4c47-8eed-98e5e760f872": {
     "views": [
      {
       "cell_index": 6
      }
     ]
    },
    "7b21e634-6913-439d-b65a-601684fab283": {
     "views": [
      {
       "cell_index": 6
      }
     ]
    },
    "814507be-9d93-4642-b743-8600a0a518d5": {
     "views": [
      {
       "cell_index": 6
      }
     ]
    },
    "82e56d5e-a742-4da9-8ee8-4c5cb7e1903a": {
     "views": [
      {
       "cell_index": 6
      }
     ]
    },
    "837fab22-687c-4fcb-a577-2b655bb77d9f": {
     "views": [
      {
       "cell_index": 6
      }
     ]
    },
    "83f9cd7a-6574-4b2a-85e6-3c86f313fd1d": {
     "views": [
      {
       "cell_index": 6
      }
     ]
    },
    "8d215572-350d-465a-9575-28aa64d8c2b9": {
     "views": [
      {
       "cell_index": 6
      }
     ]
    },
    "8f00508e-c0d6-4e14-8407-6544536cdcb0": {
     "views": [
      {
       "cell_index": 6
      }
     ]
    },
    "924279d1-1835-4f84-8b37-0ba6c74ad0af": {
     "views": [
      {
       "cell_index": 6
      }
     ]
    },
    "9abef83b-e58d-4e49-808e-742fa35322ef": {
     "views": [
      {
       "cell_index": 6
      }
     ]
    },
    "b0569161-7612-438b-aeda-d70f38c3dc3a": {
     "views": [
      {
       "cell_index": 6
      }
     ]
    },
    "b575f89a-11ad-41ef-998e-707043645ce4": {
     "views": [
      {
       "cell_index": 6
      }
     ]
    },
    "bebf8987-53bb-4748-882d-178e0b66bacd": {
     "views": [
      {
       "cell_index": 6
      }
     ]
    },
    "ca5fb0fa-bafc-449e-b429-a34aabefe256": {
     "views": [
      {
       "cell_index": 6
      }
     ]
    },
    "ca7d4837-0c12-44f9-8b58-4cd753365b8b": {
     "views": [
      {
       "cell_index": 6
      }
     ]
    },
    "d9512472-e609-45fc-b6a1-53021d01a307": {
     "views": [
      {
       "cell_index": 6
      }
     ]
    },
    "ed83cacb-f72a-476d-b482-ae704b97ac9f": {
     "views": [
      {
       "cell_index": 6
      }
     ]
    },
    "f7017b8b-4b5f-4240-8f5f-96da24dfdff0": {
     "views": [
      {
       "cell_index": 6
      }
     ]
    }
   },
   "version": "1.2.0"
  }
 },
 "nbformat": 4,
 "nbformat_minor": 1
}
