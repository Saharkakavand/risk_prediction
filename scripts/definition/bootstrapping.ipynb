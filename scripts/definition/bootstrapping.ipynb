{
 "cells": [
  {
   "cell_type": "code",
   "execution_count": 1,
   "metadata": {
    "collapsed": false
   },
   "outputs": [
    {
     "data": {
      "text/html": [
       "<div id=\"interact-js-shim\">\n",
       "    <script charset=\"utf-8\">\n",
       "(function (IPython, $, _, MathJax) {\n",
       "    $.event.special.destroyed = {\n",
       "\tremove: function(o) {\n",
       "\t    if (o.handler) {\n",
       "\t\to.handler.apply(this, arguments)\n",
       "\t    }\n",
       "\t}\n",
       "    }\n",
       "\n",
       "    var OutputArea = IPython.version >= \"4.0.0\" ? require(\"notebook/js/outputarea\").OutputArea : IPython.OutputArea;\n",
       "\n",
       "    var redrawValue = function (container, type, val) {\n",
       "\tvar selector = $(\"<div/>\");\n",
       "\tvar oa = new OutputArea(_.extend(selector, {\n",
       "\t    selector: selector,\n",
       "\t    prompt_area: true,\n",
       "\t    events: IPython.events,\n",
       "\t    keyboard_manager: IPython.keyboard_manager\n",
       "\t})); // Hack to work with IPython 2.1.0\n",
       "\n",
       "\tswitch (type) {\n",
       "\tcase \"image/png\":\n",
       "            var _src = 'data:' + type + ';base64,' + val;\n",
       "\t    $(container).find(\"img\").attr('src', _src);\n",
       "\t    break;\n",
       "\tcase \"text/latex\":\n",
       "\t\tif (MathJax){\n",
       "\t\t\tvar math = MathJax.Hub.getAllJax(container)[0];\n",
       "\t\t\tMathJax.Hub.Queue([\"Text\", math, val.replace(/^\\${1,2}|\\${1,2}$/g, '')]);\n",
       "\t\t\tbreak;\n",
       "\t\t}\n",
       "\tdefault:\n",
       "\t    var toinsert = OutputArea.append_map[type].apply(\n",
       "\t\toa, [val, {}, selector]\n",
       "\t    );\n",
       "\t    $(container).empty().append(toinsert.contents());\n",
       "\t    selector.remove();\n",
       "\t}\n",
       "    }\n",
       "\n",
       "\n",
       "    $(document).ready(function() {\n",
       "\tfunction initComm(evt, data) {\n",
       "\t    var comm_manager = data.kernel.comm_manager;\n",
       "        //_.extend(comm_manager.targets, require(\"widgets/js/widget\"))\n",
       "\t    comm_manager.register_target(\"Signal\", function (comm) {\n",
       "            comm.on_msg(function (msg) {\n",
       "                var val = msg.content.data.value;\n",
       "                $(\".signal-\" + comm.comm_id).each(function() {\n",
       "                var type = $(this).data(\"type\");\n",
       "                if (typeof(val[type]) !== \"undefined\" && val[type] !== null) {\n",
       "                    redrawValue(this, type, val[type], type);\n",
       "                }\n",
       "                });\n",
       "                delete val;\n",
       "                delete msg.content.data.value;\n",
       "            });\n",
       "\t    });\n",
       "\n",
       "\t    // coordingate with Comm and redraw Signals\n",
       "\t    // XXX: Test using Reactive here to improve performance\n",
       "\t    $([IPython.events]).on(\n",
       "\t\t'output_appended.OutputArea', function (event, type, value, md, toinsert) {\n",
       "\t\t    if (md && md.reactive) {\n",
       "                // console.log(md.comm_id);\n",
       "                toinsert.addClass(\"signal-\" + md.comm_id);\n",
       "                toinsert.data(\"type\", type);\n",
       "                // Signal back indicating the mimetype required\n",
       "                var comm_manager = IPython.notebook.kernel.comm_manager;\n",
       "                var comm = comm_manager.comms[md.comm_id];\n",
       "                comm.then(function (c) {\n",
       "                    c.send({action: \"subscribe_mime\",\n",
       "                       mime: type});\n",
       "                    toinsert.bind(\"destroyed\", function() {\n",
       "                        c.send({action: \"unsubscribe_mime\",\n",
       "                               mime: type});\n",
       "                    });\n",
       "                })\n",
       "\t\t    }\n",
       "\t    });\n",
       "\t}\n",
       "\n",
       "\ttry {\n",
       "\t    // try to initialize right away. otherwise, wait on the status_started event.\n",
       "\t    initComm(undefined, IPython.notebook);\n",
       "\t} catch (e) {\n",
       "\t    $([IPython.events]).on('kernel_created.Kernel kernel_created.Session', initComm);\n",
       "\t}\n",
       "    });\n",
       "})(IPython, jQuery, _, MathJax);\n",
       "</script>\n",
       "    <script>\n",
       "        window.interactLoadedFlag = true\n",
       "       $(\"#interact-js-shim\").bind(\"destroyed\", function () {\n",
       "           if (window.interactLoadedFlag) {\n",
       "               console.warn(\"JavaScript required by Interact will be removed if you remove this cell or run using Interact more than once.\")\n",
       "           }\n",
       "       })\n",
       "       $([IPython.events]).on(\"kernel_starting.Kernel kernel_restarting.Kernel\", function () { window.interactLoadedFlag = false })\n",
       "   </script>\n",
       "</div>"
      ]
     },
     "metadata": {},
     "output_type": "display_data"
    }
   ],
   "source": [
    "using AutoRisk\n",
    "using AutoViz\n",
    "using Distributions\n",
    "using HDF5\n",
    "using PGFPlots"
   ]
  },
  {
   "cell_type": "code",
   "execution_count": 15,
   "metadata": {
    "collapsed": false
   },
   "outputs": [
    {
     "data": {
      "text/plain": [
       "visualize_scenario (generic function with 2 methods)"
      ]
     },
     "execution_count": 15,
     "metadata": {},
     "output_type": "execute_result"
    }
   ],
   "source": [
    "function visualize_scenario(rec::SceneRecord, roadway::Roadway)\n",
    "    @manipulate for veh_id in collect(1:length(rec.scenes[1])),\n",
    "                zoom in [10.],\n",
    "                i in 1:(rec.nscenes)\n",
    "        idx = -(rec.nscenes - i)\n",
    "        stats = [CarFollowingStatsOverlay(veh_id, 2), NeighborsOverlay(veh_id, textparams = TextParams(x = 600, y_start=300))]\n",
    "        cam = CarFollowCamera(veh_id, zoom)\n",
    "        render(get_scene(rec, idx), roadway, stats, cam = cam)\n",
    "    end\n",
    "end"
   ]
  },
  {
   "cell_type": "code",
   "execution_count": 17,
   "metadata": {
    "collapsed": false
   },
   "outputs": [
    {
     "data": {
      "text/plain": [
       "build_debug_collector (generic function with 3 methods)"
      ]
     },
     "execution_count": 17,
     "metadata": {},
     "output_type": "execute_result"
    }
   ],
   "source": [
    "function build_debug_collector(num_scenarios::Int = 1, num_runs::Int = 1)\n",
    "    # build evaluator\n",
    "    ext = MultiFeatureExtractor(AbstractFeatureExtractor[CarLidarFeatureExtractor()])\n",
    "    context = IntegratedContinuous(.1, 1)\n",
    "    num_veh = 2\n",
    "    prime_time = .1\n",
    "    sampling_time = .1\n",
    "    sampling_period = .1\n",
    "    veh_idx_can_change = false\n",
    "    num_scenes = Int(ceil((prime_time + sampling_time) / sampling_period)) + 1\n",
    "    num_features = length(ext)\n",
    "    num_targets = 5\n",
    "    rec = SceneRecord(num_scenes, .1, num_veh)\n",
    "    features = Array{Float64}(num_features, 1, num_veh)\n",
    "    targets = Array{Float64}(num_targets, num_veh)\n",
    "    agg_targets = Array{Float64}(num_targets, num_veh)\n",
    "    eval = MonteCarloEvaluator(ext, num_runs, context, prime_time, sampling_time,\n",
    "            veh_idx_can_change, rec, features, targets, agg_targets)\n",
    "\n",
    "    # build collector\n",
    "    seeds = collect(1:num_scenarios)\n",
    "    roadwaygen = StaticRoadwayGenerator(gen_straight_roadway(1))\n",
    "    scenegen = DebugSceneGenerator()\n",
    "    behgen = DebugBehaviorGenerator()\n",
    "    max_num_samples = num_veh * num_scenarios \n",
    "    dataset = Dataset(\"/Users/wulfebw/Desktop/test.h5\", num_features, 1, num_targets, max_num_samples, init_file = false, chunk_dim=10)\n",
    "    scene = Scene(num_veh)\n",
    "    models = Dict{Int, DriverModel}()\n",
    "    roadway = rand!(roadwaygen, 1)\n",
    "    col = DatasetCollector(seeds, roadwaygen, scenegen, behgen, eval, dataset, scene, models, roadway)\n",
    "    return col\n",
    "end"
   ]
  },
  {
   "cell_type": "code",
   "execution_count": 18,
   "metadata": {
    "collapsed": false
   },
   "outputs": [],
   "source": [
    "col = build_debug_collector();"
   ]
  },
  {
   "cell_type": "code",
   "execution_count": 19,
   "metadata": {
    "collapsed": false
   },
   "outputs": [
    {
     "data": {
      "text/plain": [
       "Dict{Int64,AutomotiveDrivingModels.DriverModel} with 2 entries:\n",
       "  2 => AutomotiveDrivingModels.Tim2DDriver(SceneRecord(nscenes=0),AutomotiveDri…\n",
       "  1 => AutomotiveDrivingModels.Tim2DDriver(SceneRecord(nscenes=0),AutomotiveDri…"
      ]
     },
     "execution_count": 19,
     "metadata": {},
     "output_type": "execute_result"
    }
   ],
   "source": [
    "rand!(col, 2)"
   ]
  },
  {
   "cell_type": "code",
   "execution_count": 20,
   "metadata": {
    "collapsed": false
   },
   "outputs": [
    {
     "data": {
      "image/png": "[encoded data removed]",
      "text/plain": [
       "Cairo.CairoSurface{UInt32}(Ptr{Void} @0x00007ff2ec24f6c0,1000.0,600.0,#undef)"
      ]
     },
     "execution_count": 20,
     "metadata": {},
     "output_type": "execute_result"
    }
   ],
   "source": [
    "render(col.scene, col.roadway)"
   ]
  },
  {
   "cell_type": "code",
   "execution_count": 21,
   "metadata": {
    "collapsed": false
   },
   "outputs": [
    {
     "data": {
      "text/plain": [
       "10-element Array{Float64,1}:\n",
       " 0.0\n",
       " 0.0\n",
       " 0.0\n",
       " 0.0\n",
       " 0.0\n",
       " 0.0\n",
       " 0.0\n",
       " 0.0\n",
       " 0.0\n",
       " 0.0"
      ]
     },
     "execution_count": 21,
     "metadata": {},
     "output_type": "execute_result"
    }
   ],
   "source": [
    "evaluate!(col.eval, col.scene, col.models, col.roadway, 1)"
   ]
  },
  {
   "cell_type": "code",
   "execution_count": 22,
   "metadata": {
    "collapsed": false
   },
   "outputs": [
    {
     "data": {
      "text/html": [],
      "text/plain": [
       "Interact.Options{:ToggleButtons,Int64}(Signal{Int64}(1, nactions=1),\"veh_id\",1,\"1\",Interact.OptionDict(DataStructures.OrderedDict(\"1\"=>1,\"2\"=>2),Dict(2=>\"2\",1=>\"1\")),Any[],Any[],true,\"horizontal\")"
      ]
     },
     "metadata": {},
     "output_type": "display_data"
    },
    {
     "data": {
      "text/html": [],
      "text/plain": [
       "Interact.Options{:ToggleButtons,Float64}(Signal{Float64}(10.0, nactions=1),\"zoom\",10.0,\"10.0\",Interact.OptionDict(DataStructures.OrderedDict(\"10.0\"=>10.0),Dict(10.0=>\"10.0\")),Any[],Any[],true,\"horizontal\")"
      ]
     },
     "metadata": {},
     "output_type": "display_data"
    },
    {
     "data": {
      "text/html": [],
      "text/plain": [
       "Interact.Options{:SelectionSlider,Int64}(Signal{Int64}(1, nactions=1),\"i\",1,\"1\",Interact.OptionDict(DataStructures.OrderedDict(\"1\"=>1,\"2\"=>2),Dict(2=>\"2\",1=>\"1\")),Any[],Any[],true,\"horizontal\")"
      ]
     },
     "metadata": {},
     "output_type": "display_data"
    },
    {
     "data": {
      "image/png": "[encoded data removed]",
      "text/plain": [
       "Cairo.CairoSurface{UInt32}(Ptr{Void} @0x00007ff2ebeec080,1000.0,600.0,#undef)"
      ]
     },
     "execution_count": 22,
     "metadata": {
      "comm_id": "96e39e2f-0382-44aa-b44c-056559de6f34",
      "reactive": true
     },
     "output_type": "execute_result"
    }
   ],
   "source": [
    "visualize_scenario(col.eval.rec, col.roadway)"
   ]
  },
  {
   "cell_type": "code",
   "execution_count": null,
   "metadata": {
    "collapsed": true
   },
   "outputs": [],
   "source": []
  }
 ],
 "metadata": {
  "kernelspec": {
   "display_name": "Julia 0.5.0",
   "language": "julia",
   "name": "julia-0.5"
  },
  "language_info": {
   "file_extension": ".jl",
   "mimetype": "application/julia",
   "name": "julia",
   "version": "0.5.0"
  },
  "widgets": {
   "state": {
    "4215ccca-a7a5-4f4e-ad62-81d81734bae0": {
     "views": [
      {
       "cell_index": 7
      }
     ]
    },
    "5affe4d4-a4e3-4e88-9c75-93eaee7b2873": {
     "views": [
      {
       "cell_index": 7
      }
     ]
    },
    "68cdbae4-217c-48fb-be0b-62f445e161d6": {
     "views": [
      {
       "cell_index": 7
      }
     ]
    },
    "b9c3f9f9-5c7a-4156-8c87-ef2b48235114": {
     "views": [
      {
       "cell_index": 7
      }
     ]
    },
    "fa6a7b5c-55cb-47dd-9c39-7fb43436c676": {
     "views": [
      {
       "cell_index": 7
      }
     ]
    }
   },
   "version": "1.2.0"
  }
 },
 "nbformat": 4,
 "nbformat_minor": 1
}
