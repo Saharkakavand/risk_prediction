{
 "cells": [
  {
   "cell_type": "code",
   "execution_count": 2,
   "metadata": {
    "collapsed": true
   },
   "outputs": [],
   "source": [
    "%matplotlib inline\n",
    "\n",
    "import h5py\n",
    "import matplotlib.pyplot as plt\n",
    "import numpy as np\n",
    "np.set_printoptions(suppress=True, precision=6)"
   ]
  },
  {
   "cell_type": "code",
   "execution_count": 70,
   "metadata": {
    "collapsed": false
   },
   "outputs": [],
   "source": [
    "# filepath = '../../data/datasets/oct/bn_train_data.h5'\n",
    "# filepath = '../../data/datasets/ngsim_5_sec_10_feature_timesteps.h5'\n",
    "filepath = '../../data/datasets/../../data/datasets/ngsim_10_sec_30_feature_timesteps.h5'\n",
    "\n",
    "f = h5py.File(filepath, 'r')\n",
    "feature_names = f['risk'].attrs['feature_names']\n",
    "target_names = f['risk'].attrs['target_names']\n",
    "features = f['risk/features'].value\n",
    "targets = f['risk/targets'].value"
   ]
  },
  {
   "cell_type": "code",
   "execution_count": 71,
   "metadata": {
    "collapsed": false
   },
   "outputs": [
    {
     "name": "stdout",
     "output_type": "stream",
     "text": [
      "(11427, 30, 177)\n"
     ]
    }
   ],
   "source": [
    "print(features.shape)"
   ]
  },
  {
   "cell_type": "code",
   "execution_count": 72,
   "metadata": {
    "collapsed": false,
    "scrolled": true
   },
   "outputs": [
    {
     "data": {
      "text/plain": [
       "array(['relative_offset', 'relative_heading', 'velocity', 'length',\n",
       "       'width', 'lane_curvature', 'markerdist_left', 'markerdist_right',\n",
       "       'accel', 'jerk', 'turn_rate_global', 'angular_rate_global',\n",
       "       'turn_rate_frenet', 'angular_rate_frenet', 'timegap',\n",
       "       'timegap_is_avail', 'time_to_collision',\n",
       "       'time_to_collision_is_avail', 'is_colliding', 'out_of_lane',\n",
       "       'negative_velocity', 'lane_offset_left',\n",
       "       'lane_offset_left_is_avail', 'lane_offset_right',\n",
       "       'lane_offset_right_is_avail', 'fore_m_dist', 'fore_m_vel',\n",
       "       'fore_m_accel', 'fore_m_jerk', 'fore_m_length', 'fore_m_width',\n",
       "       'fore_mrelative_offset', 'fore_mrelative_heading',\n",
       "       'fore_m_is_avail', 'fore_l_dist', 'fore_l_vel', 'fore_l_accel',\n",
       "       'fore_l_jerk', 'fore_l_length', 'fore_l_width',\n",
       "       'fore_lrelative_offset', 'fore_lrelative_heading',\n",
       "       'fore_l_is_avail', 'fore_r_dist', 'fore_r_vel', 'fore_r_accel',\n",
       "       'fore_r_jerk', 'fore_r_length', 'fore_r_width',\n",
       "       'fore_rrelative_offset', 'fore_rrelative_heading',\n",
       "       'fore_r_is_avail', 'rear_m_dist', 'rear_m_vel', 'rear_m_accel',\n",
       "       'rear_m_jerk', 'rear_m_length', 'rear_m_width',\n",
       "       'rear_mrelative_offset', 'rear_mrelative_heading',\n",
       "       'rear_m_is_avail', 'rear_l_dist', 'rear_l_vel', 'rear_l_accel',\n",
       "       'rear_l_jerk', 'rear_l_length', 'rear_l_width',\n",
       "       'rear_lrelative_offset', 'rear_lrelative_heading',\n",
       "       'rear_l_is_avail', 'rear_r_dist', 'rear_r_vel', 'rear_r_accel',\n",
       "       'rear_r_jerk', 'rear_r_length', 'rear_r_width',\n",
       "       'rear_rrelative_offset', 'rear_rrelative_heading',\n",
       "       'rear_r_is_avail', 'fore_fore_m_dist', 'fore_fore_m_vel',\n",
       "       'fore_fore_m_accel', 'fore_fore_m_jerk', 'fore_fore_m_length',\n",
       "       'fore_fore_m_width', 'fore_fore_mrelative_offset',\n",
       "       'fore_fore_mrelative_heading', 'fore_fore_m_is_avail',\n",
       "       'fore_fore_fore_m_dist', 'fore_fore_fore_m_vel',\n",
       "       'fore_fore_fore_m_accel', 'fore_fore_fore_m_jerk',\n",
       "       'fore_fore_fore_m_length', 'fore_fore_fore_m_width',\n",
       "       'fore_fore_fore_mrelative_offset',\n",
       "       'fore_fore_fore_mrelative_heading', 'fore_fore_fore_m_is_avail',\n",
       "       'fore_fore_fore_fore_m_dist', 'fore_fore_fore_fore_m_vel',\n",
       "       'fore_fore_fore_fore_m_accel', 'fore_fore_fore_fore_m_jerk',\n",
       "       'fore_fore_fore_fore_m_length', 'fore_fore_fore_fore_m_width',\n",
       "       'fore_fore_fore_fore_mrelative_offset',\n",
       "       'fore_fore_fore_fore_mrelative_heading',\n",
       "       'fore_fore_fore_fore_m_is_avail', 'fore_fore_fore_fore_fore_m_dist',\n",
       "       'fore_fore_fore_fore_fore_m_vel',\n",
       "       'fore_fore_fore_fore_fore_m_accel',\n",
       "       'fore_fore_fore_fore_fore_m_jerk',\n",
       "       'fore_fore_fore_fore_fore_m_length',\n",
       "       'fore_fore_fore_fore_fore_m_width',\n",
       "       'fore_fore_fore_fore_fore_mrelative_offset',\n",
       "       'fore_fore_fore_fore_fore_mrelative_heading',\n",
       "       'fore_fore_fore_fore_fore_m_is_avail',\n",
       "       'fore_fore_fore_fore_fore_fore_m_dist',\n",
       "       'fore_fore_fore_fore_fore_fore_m_vel',\n",
       "       'fore_fore_fore_fore_fore_fore_m_accel',\n",
       "       'fore_fore_fore_fore_fore_fore_m_jerk',\n",
       "       'fore_fore_fore_fore_fore_fore_m_length',\n",
       "       'fore_fore_fore_fore_fore_fore_m_width',\n",
       "       'fore_fore_fore_fore_fore_fore_mrelative_offset',\n",
       "       'fore_fore_fore_fore_fore_fore_mrelative_heading',\n",
       "       'fore_fore_fore_fore_fore_fore_m_is_avail',\n",
       "       'fore_fore_fore_fore_fore_fore_fore_m_dist',\n",
       "       'fore_fore_fore_fore_fore_fore_fore_m_vel',\n",
       "       'fore_fore_fore_fore_fore_fore_fore_m_accel',\n",
       "       'fore_fore_fore_fore_fore_fore_fore_m_jerk',\n",
       "       'fore_fore_fore_fore_fore_fore_fore_m_length',\n",
       "       'fore_fore_fore_fore_fore_fore_fore_m_width',\n",
       "       'fore_fore_fore_fore_fore_fore_fore_mrelative_offset',\n",
       "       'fore_fore_fore_fore_fore_fore_fore_mrelative_heading',\n",
       "       'fore_fore_fore_fore_fore_fore_fore_m_is_avail',\n",
       "       'fore_fore_fore_fore_fore_fore_fore_fore_m_dist',\n",
       "       'fore_fore_fore_fore_fore_fore_fore_fore_m_vel',\n",
       "       'fore_fore_fore_fore_fore_fore_fore_fore_m_accel',\n",
       "       'fore_fore_fore_fore_fore_fore_fore_fore_m_jerk',\n",
       "       'fore_fore_fore_fore_fore_fore_fore_fore_m_length',\n",
       "       'fore_fore_fore_fore_fore_fore_fore_fore_m_width',\n",
       "       'fore_fore_fore_fore_fore_fore_fore_fore_mrelative_offset',\n",
       "       'fore_fore_fore_fore_fore_fore_fore_fore_mrelative_heading',\n",
       "       'fore_fore_fore_fore_fore_fore_fore_fore_m_is_avail',\n",
       "       'fore_m_beh_lon_a_max', 'fore_m_beh_lon_desired_velocity',\n",
       "       'fore_m_beh_lon_s_min', 'fore_m_beh_lon_T', 'fore_m_beh_lon_d_cmf',\n",
       "       'fore_l_beh_lon_a_max', 'fore_l_beh_lon_desired_velocity',\n",
       "       'fore_l_beh_lon_s_min', 'fore_l_beh_lon_T', 'fore_l_beh_lon_d_cmf',\n",
       "       'fore_r_beh_lon_a_max', 'fore_r_beh_lon_desired_velocity',\n",
       "       'fore_r_beh_lon_s_min', 'fore_r_beh_lon_T', 'fore_r_beh_lon_d_cmf',\n",
       "       'rear_m_beh_lon_a_max', 'rear_m_beh_lon_desired_velocity',\n",
       "       'rear_m_beh_lon_s_min', 'rear_m_beh_lon_T', 'rear_m_beh_lon_d_cmf',\n",
       "       'rear_l_beh_lon_a_max', 'rear_l_beh_lon_desired_velocity',\n",
       "       'rear_l_beh_lon_s_min', 'rear_l_beh_lon_T', 'rear_l_beh_lon_d_cmf',\n",
       "       'rear_r_beh_lon_a_max', 'rear_r_beh_lon_desired_velocity',\n",
       "       'rear_r_beh_lon_s_min', 'rear_r_beh_lon_T', 'rear_r_beh_lon_d_cmf',\n",
       "       'fore_fore_m_beh_lon_a_max', 'fore_fore_m_beh_lon_desired_velocity',\n",
       "       'fore_fore_m_beh_lon_s_min', 'fore_fore_m_beh_lon_T',\n",
       "       'fore_fore_m_beh_lon_d_cmf'], dtype=object)"
      ]
     },
     "execution_count": 72,
     "metadata": {},
     "output_type": "execute_result"
    }
   ],
   "source": [
    "feature_names"
   ]
  },
  {
   "cell_type": "code",
   "execution_count": 73,
   "metadata": {
    "collapsed": false,
    "scrolled": false
   },
   "outputs": [],
   "source": [
    "def compute_correlation(x, y):\n",
    "    assert len(y.shape) == 2\n",
    "    corr = np.corrcoef(x, y, rowvar=False)\n",
    "    corr = np.nan_to_num(corr)\n",
    "    n_y = y.shape[-1]\n",
    "    # return the correlations between the x variables and the y variables only\n",
    "    return corr[:-n_y,-n_y:]"
   ]
  },
  {
   "cell_type": "code",
   "execution_count": 74,
   "metadata": {
    "collapsed": true
   },
   "outputs": [],
   "source": [
    "def relative_difference(a,b):\n",
    "    return abs(a-b) / (abs(a) + 1e-8)\n",
    "def absolute_difference(a,b):\n",
    "    return abs(a-b)\n",
    "def absolute_magnitude_increase(a,b):\n",
    "    return abs(b)-abs(a)"
   ]
  },
  {
   "cell_type": "code",
   "execution_count": 90,
   "metadata": {
    "collapsed": false,
    "scrolled": false
   },
   "outputs": [
    {
     "name": "stdout",
     "output_type": "stream",
     "text": [
      "1 / 30\n",
      "2 / 30\n",
      "3 / 30\n",
      "4 / 30\n"
     ]
    },
    {
     "name": "stderr",
     "output_type": "stream",
     "text": [
      "/Users/wulfebw/Programming/miniconda3/envs/riskenv/lib/python3.5/site-packages/numpy/lib/function_base.py:3162: RuntimeWarning: invalid value encountered in true_divide\n",
      "  c /= stddev[:, None]\n",
      "/Users/wulfebw/Programming/miniconda3/envs/riskenv/lib/python3.5/site-packages/numpy/lib/function_base.py:3163: RuntimeWarning: invalid value encountered in true_divide\n",
      "  c /= stddev[None, :]\n"
     ]
    },
    {
     "name": "stdout",
     "output_type": "stream",
     "text": [
      "5 / 30\n",
      "6 / 30\n",
      "7 / 30\n",
      "8 / 30\n",
      "9 / 30\n",
      "10 / 30\n",
      "11 / 30\n",
      "12 / 30\n",
      "13 / 30\n",
      "14 / 30\n",
      "15 / 30\n",
      "16 / 30\n",
      "17 / 30\n",
      "18 / 30\n",
      "19 / 30\n",
      "20 / 30\n",
      "21 / 30\n",
      "22 / 30\n",
      "23 / 30\n",
      "24 / 30\n",
      "25 / 30\n",
      "26 / 30\n",
      "27 / 30\n",
      "28 / 30\n",
      "29 / 30\n",
      "30 / 30\n",
      "(30, 177)\n"
     ]
    }
   ],
   "source": [
    "timesteps = features.shape[1]\n",
    "target_idx = 2\n",
    "temporal_corr = []\n",
    "for t in range(timesteps):\n",
    "    print('{} / {}'.format(t+1, timesteps))\n",
    "    corr = compute_correlation(features[:,t], targets[:,target_idx,np.newaxis])\n",
    "    corr /= np.max(np.abs(corr))\n",
    "    temporal_corr.append(corr)\n",
    "temporal_corr = np.concatenate(temporal_corr, axis=1).T\n",
    "print(temporal_corr.shape)"
   ]
  },
  {
   "cell_type": "code",
   "execution_count": 91,
   "metadata": {
    "collapsed": false
   },
   "outputs": [
    {
     "data": {
      "text/plain": [
       "<matplotlib.text.Text at 0x107b4f1d0>"
      ]
     },
     "execution_count": 91,
     "metadata": {},
     "output_type": "execute_result"
    },
    {
     "data": {
      "image/png": "[encoded data removed]",
      "text/plain": [
       "<matplotlib.figure.Figure at 0x107b2cb38>"
      ]
     },
     "metadata": {},
     "output_type": "display_data"
    }
   ],
   "source": [
    "beh_idxs = [i for (i, name) in enumerate(feature_names) if 'beh' in name]\n",
    "beh_corr = np.max(np.abs(temporal_corr[:,beh_idxs]), axis=-1)\n",
    "plt.figure(figsize=(12,4))\n",
    "plt.plot(range(timesteps, 0, -1), beh_corr)\n",
    "plt.title('maximum normalized correlation across behavioral features with varying horizon')\n",
    "plt.xlabel('seconds from event collection')\n",
    "plt.ylabel('correlation with target {} normalized across features'.format(target_names[target_idx]))\n"
   ]
  },
  {
   "cell_type": "code",
   "execution_count": 89,
   "metadata": {
    "collapsed": false
   },
   "outputs": [
    {
     "name": "stdout",
     "output_type": "stream",
     "text": [
      "1 is_colliding\n",
      "2 is_colliding\n",
      "3 is_colliding\n",
      "4 is_colliding\n",
      "5 is_colliding\n",
      "6 is_colliding\n",
      "7 is_colliding\n",
      "8 is_colliding\n",
      "9 is_colliding\n",
      "10 is_colliding\n",
      "11 is_colliding\n",
      "12 is_colliding\n",
      "13 is_colliding\n",
      "14 is_colliding\n",
      "15 fore_fore_fore_m_is_avail\n",
      "16 is_colliding\n",
      "17 fore_fore_fore_m_is_avail\n",
      "18 fore_fore_fore_m_is_avail\n",
      "19 is_colliding\n",
      "20 is_colliding\n",
      "21 is_colliding\n",
      "22 is_colliding\n",
      "23 is_colliding\n",
      "24 is_colliding\n",
      "25 is_colliding\n",
      "26 is_colliding\n",
      "27 is_colliding\n",
      "28 is_colliding\n",
      "29 is_colliding\n",
      "30 is_colliding\n"
     ]
    }
   ],
   "source": [
    "idxs = np.argmax(np.abs(temporal_corr), axis=-1)\n",
    "for t, name in enumerate(reversed(feature_names[idxs])):\n",
    "    print('{} {}'.format(t+1, name))"
   ]
  },
  {
   "cell_type": "code",
   "execution_count": 45,
   "metadata": {
    "collapsed": false,
    "scrolled": true
   },
   "outputs": [
    {
     "name": "stdout",
     "output_type": "stream",
     "text": [
      "['fore_m_beh_lon_a_max' 'fore_m_beh_lon_desired_velocity'\n",
      " 'fore_m_beh_lon_s_min' 'fore_m_beh_lon_T' 'fore_m_beh_lon_d_cmf'\n",
      " 'fore_l_beh_lon_a_max' 'fore_l_beh_lon_desired_velocity'\n",
      " 'fore_l_beh_lon_s_min' 'fore_l_beh_lon_T' 'fore_l_beh_lon_d_cmf'\n",
      " 'fore_r_beh_lon_a_max' 'fore_r_beh_lon_desired_velocity'\n",
      " 'fore_r_beh_lon_s_min' 'fore_r_beh_lon_T' 'fore_r_beh_lon_d_cmf'\n",
      " 'rear_m_beh_lon_a_max' 'rear_m_beh_lon_desired_velocity'\n",
      " 'rear_m_beh_lon_s_min' 'rear_m_beh_lon_T' 'rear_m_beh_lon_d_cmf'\n",
      " 'rear_l_beh_lon_a_max' 'rear_l_beh_lon_desired_velocity'\n",
      " 'rear_l_beh_lon_s_min' 'rear_l_beh_lon_T' 'rear_l_beh_lon_d_cmf'\n",
      " 'rear_r_beh_lon_a_max' 'rear_r_beh_lon_desired_velocity'\n",
      " 'rear_r_beh_lon_s_min' 'rear_r_beh_lon_T' 'rear_r_beh_lon_d_cmf'\n",
      " 'fore_fore_m_beh_lon_a_max' 'fore_fore_m_beh_lon_desired_velocity'\n",
      " 'fore_fore_m_beh_lon_s_min' 'fore_fore_m_beh_lon_T'\n",
      " 'fore_fore_m_beh_lon_d_cmf']\n"
     ]
    }
   ],
   "source": [
    "print(feature_names[beh_idxs])"
   ]
  },
  {
   "cell_type": "code",
   "execution_count": null,
   "metadata": {
    "collapsed": true
   },
   "outputs": [],
   "source": []
  }
 ],
 "metadata": {
  "anaconda-cloud": {},
  "kernelspec": {
   "display_name": "Python [conda env:riskenv]",
   "language": "python",
   "name": "conda-env-riskenv-py"
  },
  "language_info": {
   "codemirror_mode": {
    "name": "ipython",
    "version": 3
   },
   "file_extension": ".py",
   "mimetype": "text/x-python",
   "name": "python",
   "nbconvert_exporter": "python",
   "pygments_lexer": "ipython3",
   "version": "3.5.2"
  }
 },
 "nbformat": 4,
 "nbformat_minor": 1
}
