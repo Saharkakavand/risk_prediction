{
 "cells": [
  {
   "cell_type": "code",
   "execution_count": 4,
   "metadata": {
    "collapsed": true
   },
   "outputs": [],
   "source": [
    "using DataFrames\n",
    "using PGFPlots"
   ]
  },
  {
   "cell_type": "code",
   "execution_count": 46,
   "metadata": {
    "collapsed": false,
    "scrolled": true
   },
   "outputs": [
    {
     "data": {
      "text/html": [
       "<table class=\"data-frame\"><thead><tr><th></th><th>x1_688396996290013330e_02</th></tr></thead><tbody><tr><th>1</th><td>0.03407745707549572</td></tr><tr><th>2</th><td>0.030483976242880125</td></tr><tr><th>3</th><td>0.027693336066192786</td></tr><tr><th>4</th><td>0.06089701461524013</td></tr><tr><th>5</th><td>0.14884336290271324</td></tr><tr><th>6</th><td>0.12193708317343664</td></tr><tr><th>7</th><td>0.09414985601860258</td></tr><tr><th>8</th><td>0.08276043693016384</td></tr><tr><th>9</th><td>0.06595783527849756</td></tr><tr><th>10</th><td>0.09213860733069207</td></tr><tr><th>11</th><td>0.08811477327187185</td></tr><tr><th>12</th><td>0.14349891253875088</td></tr><tr><th>13</th><td>0.09678796760023992</td></tr><tr><th>14</th><td>0.056300847165585914</td></tr><tr><th>15</th><td>0.07917033679027448</td></tr><tr><th>16</th><td>0.0894588279814604</td></tr><tr><th>17</th><td>0.10869313512593179</td></tr><tr><th>18</th><td>0.10479078796909155</td></tr><tr><th>19</th><td>0.12092661276036115</td></tr><tr><th>20</th><td>0.07403541068447597</td></tr><tr><th>21</th><td>0.07457164085379263</td></tr><tr><th>22</th><td>0.08678076991817445</td></tr><tr><th>23</th><td>0.1051590305411762</td></tr><tr><th>24</th><td>0.1208805123361418</td></tr><tr><th>25</th><td>0.10769031832038196</td></tr><tr><th>26</th><td>0.0764485975078238</td></tr><tr><th>27</th><td>0.12427015318652558</td></tr><tr><th>28</th><td>0.10979973918729764</td></tr><tr><th>29</th><td>0.11898824422209314</td></tr><tr><th>30</th><td>0.12589825422693715</td></tr><tr><th>&vellip;</th><td>&vellip;</td></tr></tbody></table>"
      ],
      "text/plain": [
       "199×1 DataFrames.DataFrame\n",
       "│ Row │ x1_688396996290013330e_02 │\n",
       "├─────┼───────────────────────────┤\n",
       "│ 1   │ 0.0340775                 │\n",
       "│ 2   │ 0.030484                  │\n",
       "│ 3   │ 0.0276933                 │\n",
       "│ 4   │ 0.060897                  │\n",
       "│ 5   │ 0.148843                  │\n",
       "│ 6   │ 0.121937                  │\n",
       "│ 7   │ 0.0941499                 │\n",
       "│ 8   │ 0.0827604                 │\n",
       "│ 9   │ 0.0659578                 │\n",
       "│ 10  │ 0.0921386                 │\n",
       "│ 11  │ 0.0881148                 │\n",
       "⋮\n",
       "│ 188 │ 1.0                       │\n",
       "│ 189 │ 0.891266                  │\n",
       "│ 190 │ 1.0                       │\n",
       "│ 191 │ 0.973433                  │\n",
       "│ 192 │ 0.837328                  │\n",
       "│ 193 │ 1.0                       │\n",
       "│ 194 │ 1.0                       │\n",
       "│ 195 │ 1.0                       │\n",
       "│ 196 │ 1.0                       │\n",
       "│ 197 │ 1.0                       │\n",
       "│ 198 │ 1.0                       │\n",
       "│ 199 │ 1.0                       │"
      ]
     },
     "execution_count": 46,
     "metadata": {},
     "output_type": "execute_result"
    }
   ],
   "source": [
    "filepath = \"../../data/results/data/beh_correlations.csv\"\n",
    "data = readtable(filepath)"
   ]
  },
  {
   "cell_type": "code",
   "execution_count": 48,
   "metadata": {
    "collapsed": false
   },
   "outputs": [],
   "source": [
    "y = data.columns[1]\n",
    "x = collect(1:length(y)) /10\n",
    "a = Axis(\n",
    "    Plots.Linear(x,y,mark=\"none\"),\n",
    "    style=\"thick\",\n",
    "    width=\"12cm\", \n",
    "    height=\"12cm\",\n",
    "    xlabel=\"Seconds\", \n",
    "    ylabel=\"Normalized Correlation\",\n",
    "    title=\"Normalized Correlation of Behavioral features with Rear End events\"\n",
    ")\n",
    "save(\"../../data/results/vis/beh_correlations.tex\", a, include_preamble=false)"
   ]
  },
  {
   "cell_type": "code",
   "execution_count": 63,
   "metadata": {
    "collapsed": false,
    "scrolled": false
   },
   "outputs": [
    {
     "data": {
      "text/plain": [
       "5"
      ]
     },
     "execution_count": 63,
     "metadata": {},
     "output_type": "execute_result"
    }
   ],
   "source": [
    "max(5,4)"
   ]
  },
  {
   "cell_type": "code",
   "execution_count": null,
   "metadata": {
    "collapsed": true
   },
   "outputs": [],
   "source": []
  }
 ],
 "metadata": {
  "anaconda-cloud": {},
  "kernelspec": {
   "display_name": "Julia 0.5.1",
   "language": "julia",
   "name": "julia-0.5"
  },
  "language_info": {
   "file_extension": ".jl",
   "mimetype": "application/julia",
   "name": "julia",
   "version": "0.5.1"
  }
 },
 "nbformat": 4,
 "nbformat_minor": 1
}
